{
 "cells": [
  {
   "cell_type": "markdown",
   "metadata": {},
   "source": [
    "# odMLtables scenarios"
   ]
  },
  {
   "cell_type": "markdown",
   "metadata": {},
   "source": [
    "This tutorial is an implementation of the scenarios described in *Sprenger et al (in prep.) odMLtables: A user-friendly approach for managing metadata of neurophysiological experiments* The scenarios present a simple, but realistic use case of odML and odMLtables in an experimental lab and are a good start to start using odML and odMLtables. Modification of this jupyter notebook is highly encuraged and can serve as a starting point for your own metadata workflow. For a detailed description of the individual scenarios, see *Sprenger et al. (in prep)*.\n",
    "\n",
    "To execute the steps of the tutorial, press *Ctrl + Enter* in the cell you want to execute."
   ]
  },
  {
   "cell_type": "markdown",
   "metadata": {},
   "source": [
    "### Scenario 1: How to generate a metadata template without programming"
   ]
  },
  {
   "cell_type": "markdown",
   "metadata": {},
   "source": [
    "This scenario describes how a template structure for daily data collection can be set up. The example used here is the measurement of basic attributes of a mouse. The measures collected on a single day can be listed in a table as shown below, where *'YYYY-MM-DD'* specifies the measurement date for score sheet values of a subject."
   ]
  },
  {
   "cell_type": "markdown",
   "metadata": {},
   "source": [
    "| Section                    | Measure      | Value   | Unit    | Type   |\n",
    "|----------------------------|--------------|---------|---------|--------|\n",
    "| /Subject/Scores_YYYY-MM-DD | Experimenter | Alice   | <i></i> | float  |\n",
    "| <i></i>                    | Weight       | <i></i> | g       | float  |\n",
    "| <i></i>                    | Date         | <i></i> | <i></i> | date   |\n",
    "| <i></i>                    | Comment      | <i></i> | <i></i> | string |"
   ]
  },
  {
   "cell_type": "markdown",
   "metadata": {},
   "source": [
    "This table can be generated using any spreadsheet software. Possible formats supported by odMLtables are *.xls* and *.csv*. A possible implementation using Microsoft Excel or LibreOffice Calc can include color coding to aid visual inspection and might look like this"
   ]
  },
  {
   "cell_type": "markdown",
   "metadata": {},
   "source": [
    "![Screenshot](pictures/Screenshot%20from%202019-08-01%2016-53-10.png)"
   ]
  },
  {
   "cell_type": "markdown",
   "metadata": {},
   "source": [
    " For simplicity, we generate a *.csv* file with the same content using Python here."
   ]
  },
  {
   "cell_type": "code",
   "execution_count": null,
   "metadata": {
    "collapsed": true
   },
   "outputs": [],
   "source": [
    "# string representation of the score sheet in csv format\n",
    "score_sheet_template = \\\n",
    "\"\"\"Section,Measure,Value,Unit,Type\n",
    "/Subject/Scores_YYYY-MM-DD,Experimenter,Alice,,person\n",
    ",Weight,,g,float\n",
    ",Date,,,date\n",
    ",Comment,,,string\n",
    "\"\"\"\n",
    "# write the string representation to disk\n",
    "with open('score_sheet_template.csv', 'w+') as f:\n",
    "    f.write(score_sheet_template)"
   ]
  },
  {
   "cell_type": "markdown",
   "metadata": {},
   "source": [
    "This [metadata template](score_sheet_template.csv) in *.csv* format can be converted to an odML file using odMLtables:"
   ]
  },
  {
   "cell_type": "code",
   "execution_count": null,
   "metadata": {
    "collapsed": true
   },
   "outputs": [],
   "source": [
    "import odmltables as odt\n",
    "\n",
    "def csv_to_odml(csv_file):\n",
    "    \"\"\"Convert a score sheet from csv to odML format.\"\"\"\n",
    "    \n",
    "    # initialize an OdmlTable object for handling metadata\n",
    "    table = odt.OdmlTable()\n",
    "    # specify experiment specific headers used in the score sheet csv files (Date, Measure, Unit and Type)\n",
    "    table.change_header(Path=1, PropertyName=2, Value=3, DataUnit=4, odmlDatatype=5)\n",
    "    table.change_header_titles(Path='Section',PropertyName='Measure', DataUnit='Unit', odmlDatatype='Type')\n",
    "\n",
    "    # load from csv format and save in odML format\n",
    "    table.load_from_csv_table(csv_file)\n",
    "    table.write2odml(csv_file[:-4] + '.odml')\n",
    "    \n",
    "# convert the score sheet to odml format\n",
    "csv_to_odml('score_sheet_template.csv')"
   ]
  },
  {
   "cell_type": "markdown",
   "metadata": {},
   "source": [
    "The resulting [odML file](score_sheet_template.odml) can be visualized in the browser using the `odml.xls` style sheet. When working locally on your computer, you can generate this visualization by opening the odML file in your browser while having the style sheet located in the same folder."
   ]
  },
  {
   "cell_type": "code",
   "execution_count": null,
   "metadata": {},
   "outputs": [],
   "source": [
    "# This is utility code for displaying the odML file as html representation here.\n",
    "# You can also just open the odML file in your browser having the style sheet in the same location as your odML file and\n",
    "# will get the same result\n",
    "from IPython.display import display, HTML\n",
    "import lxml.etree as ET\n",
    "\n",
    "def display_odML_as_html(odML_file, xsl_file='odml.xsl'):\n",
    "    # generate html representation from odML file and style sheet\n",
    "    dom = ET.parse(odML_file)\n",
    "    xslt = ET.parse(xsl_file)\n",
    "    transform = ET.XSLT(xslt)\n",
    "    newdom = transform(dom)\n",
    "    \n",
    "    # display html\n",
    "    display(HTML(ET.tostring(newdom, pretty_print=True).decode()))\n",
    "    \n",
    "display_odML_as_html('score_sheet_template.odml')"
   ]
  },
  {
   "cell_type": "markdown",
   "metadata": {},
   "source": [
    "In the same manner as for the daily score sheet, we can also set up a table containing information about the subject. Here, we are covering the 'Species', 'Birthday', a unique subject identifier ('uID') and an alias name gives to the subject ('Alias'). Since this only needs to be filled once for the subject we directly provide the available information for the current subject and don't set up an empty template structure."
   ]
  },
  {
   "cell_type": "markdown",
   "metadata": {},
   "source": [
    "| Section  | Measure  | Value                 | Unit    | Type     |\n",
    "|----------|----------|-----------------------|---------|----------|\n",
    "| /Subject | Species  | Mus musculus          | <i></i> | float    |\n",
    "| <i></i>  | Birthday | 1999-12-24 12\\:00\\:00 | <i></i> | datetime |\n",
    "| <i></i>  | uID      | asdf1234ghjk56789     | <i></i> | date     |\n",
    "| <i></i>  | Alias    | <i></i>               | <i></i> | string   |"
   ]
  },
  {
   "cell_type": "markdown",
   "metadata": {},
   "source": [
    "We convert this also into the odML format using the 'csv_to_odml' function and visualize the subject information using the 'display_odML_as_html' function."
   ]
  },
  {
   "cell_type": "code",
   "execution_count": null,
   "metadata": {},
   "outputs": [],
   "source": [
    "# string representation of the score sheet in csv format\n",
    "animal_info = \\\n",
    "\"\"\"Section,Measure,Value,Unit,Type\n",
    "/Subject,Species,Mus musculus,,string\n",
    ",Birthday,1999-12-24 12:00:00,,datetime\n",
    ",uID,asdf1234ghjk56789,,string\n",
    ",Alias,,,string\n",
    "\"\"\"\n",
    "# write the string representation to disk\n",
    "with open('animal_info.csv', 'w+') as f:\n",
    "    f.write(animal_info)\n",
    "    \n",
    "# conversion to odML\n",
    "csv_to_odml('animal_info.csv')\n",
    "\n",
    "# visualization using html representation\n",
    "display_odML_as_html('animal_info.odml')"
   ]
  },
  {
   "cell_type": "markdown",
   "metadata": {},
   "source": [
    "### Scenario 2: Collecting daily observations in a common odML structure"
   ]
  },
  {
   "cell_type": "markdown",
   "metadata": {
    "collapsed": true
   },
   "source": [
    "The score sheet template structure defined in `scenario 1` can now be copied for each measurement day and filled. The filled files will then be converted to odML and incorporated in a single odML file containing the complete metadata collected for an animal.\n",
    "\n",
    "Here again we generate a filled metadata sheet in csv format using Python. In a real case this step would be performed using any spreadsheet software."
   ]
  },
  {
   "cell_type": "code",
   "execution_count": null,
   "metadata": {
    "collapsed": true
   },
   "outputs": [],
   "source": [
    "# string representation of the score sheet in csv format\n",
    "score_sheet = \\\n",
    "\"\"\"Section,Measure,Value,Unit,Type\n",
    "/Subject/Scores_2000-01-01,Experimenter,Alice,,person\n",
    ",,Bob,,,\n",
    ",Weight,5,g,float\n",
    ",Date,2000-01-01,,date\n",
    ",Comment,,,string\n",
    "\"\"\"\n",
    "# write the string representation to disk\n",
    "with open('score_sheet.csv', 'w+') as f:\n",
    "    f.write(score_sheet)\n",
    "    \n",
    "# convert the score sheet to odml format\n",
    "csv_to_odml('score_sheet.csv')"
   ]
  },
  {
   "cell_type": "markdown",
   "metadata": {},
   "source": [
    "Now, we have an odML file for the first recording day. To merge these with the information about the subject, we use the `merge` functionality provided by odMLtables and extend the [animal_info.odml](animal_info.odml). Since the two odML files have disjoint metadata entries, we don't need to specify the `overwrite_values` parameter of the merge method here."
   ]
  },
  {
   "cell_type": "code",
   "execution_count": null,
   "metadata": {
    "collapsed": true
   },
   "outputs": [],
   "source": [
    "def merge_odml_files(file1, file2, overwrite_values=False):\n",
    "    \"\"\" Merge one odML file (file2) into another odML file (file1)\"\"\"\n",
    "    # load first odML file\n",
    "    table1 = odt.OdmlTable(file1)\n",
    "    # merge file2 into table1\n",
    "    table1.merge(odt.OdmlTable(file2), overwrite_values=overwrite_values)\n",
    "    # overwrite file1 with the merged score sheets\n",
    "    table1.write2odml(file1)\n",
    "    \n",
    "# merge the daily score sheet into the complete metadata collection\n",
    "merge_odml_files('animal_info.odml',\n",
    "                 'score_sheet.odml')"
   ]
  },
  {
   "cell_type": "markdown",
   "metadata": {},
   "source": [
    "In the next step we aquire a second set of measurements, recorded on day 2. We directly convert the generated `csv` file into the odML format."
   ]
  },
  {
   "cell_type": "code",
   "execution_count": null,
   "metadata": {},
   "outputs": [],
   "source": [
    "# string representation of the score sheet in csv format\n",
    "score_sheet = \\\n",
    "\"\"\"Section,Measure,Value,Unit,Type\n",
    "/Subject/Scores_2000-01-02,Experimenter,Bob,,person\n",
    ",Weight,5.5,g,float\n",
    ",Date,2000-01-02,,date\n",
    ",Comment,Small scratch at the right ear,,string\n",
    "\"\"\"\n",
    "# write the string representation to disk\n",
    "with open('score_sheet.csv', 'w+') as f:\n",
    "    f.write(score_sheet)\n",
    "# convert the score sheet to odml format\n",
    "csv_to_odml('score_sheet.csv')\n",
    "\n",
    "# merge the daily score sheet into the complete metadata collection\n",
    "merge_odml_files('animal_info.odml',\n",
    "                 'score_sheet.odml')"
   ]
  },
  {
   "cell_type": "markdown",
   "metadata": {},
   "source": [
    " Here we are overwriting the score sheet of the previous day, as this information is already added to the [animal_info.odml](animal_info.odml)."
   ]
  },
  {
   "cell_type": "markdown",
   "metadata": {},
   "source": [
    "### Scenario 3: Create a tabular representation of the odML for better viewing using the color options"
   ]
  },
  {
   "cell_type": "markdown",
   "metadata": {},
   "source": [
    "For visualization of the metadata we convert the odML file to the [tabular representation](animal_info.xls) in the `.xls` format. This has the advantage of color support within the tabular structure. All color options can be customized using odMLtables."
   ]
  },
  {
   "cell_type": "code",
   "execution_count": null,
   "metadata": {},
   "outputs": [],
   "source": [
    "def visualize_as_xls(odML_file):\n",
    "    \"\"\" Generate an xls version of an odML file for visualization purposes \"\"\"\n",
    "    table = odt.OdmlXlsTable(odML_file)\n",
    "    # optional: change the color options in the output table\n",
    "    table.first_marked_style.fontcolor = 'dark_green'\n",
    "    table.second_marked_style.fontcolor = 'dark_teal'\n",
    "    table.highlight_defaults = True\n",
    "    # write to xls format\n",
    "    table.write2file('.'.join(odML_file.split('.')[:-1]) + '.xls')\n",
    "    \n",
    "# visualize the complete metadata collection in the xls format\n",
    "visualize_as_xls('animal_info.odml')"
   ]
  },
  {
   "cell_type": "markdown",
   "metadata": {},
   "source": [
    "### Scenario 4: How to filter a subset of an odML to edit it later on"
   ]
  },
  {
   "cell_type": "markdown",
   "metadata": {},
   "source": [
    "For larger experiments the generated odML structure will grow in complexity. For easier visualization and modification / update of data we will generate an odML file which contains only a subset of the complete score sheet using the odML filter function."
   ]
  },
  {
   "cell_type": "code",
   "execution_count": null,
   "metadata": {
    "collapsed": true
   },
   "outputs": [],
   "source": [
    "def extract_subset(odML_file):\n",
    "    \"\"\"Extract comments for the first day in this millenial.\"\"\"\n",
    "    table = odt.OdmlTable(odML_file)\n",
    "    # extract properties, which have no value information\n",
    "    table.filter(Value=[])\n",
    "    # generate separate file containing only subset of the information\n",
    "    table.write2odml('animal_info_filtered.odml')\n",
    "    \n",
    "# extract a subset of the information to a different file\n",
    "extract_subset('animal_info.odml')"
   ]
  },
  {
   "cell_type": "markdown",
   "metadata": {},
   "source": [
    "The next step could be to convert the [filtered odML file](animal_info_filtered.odml) into a csv file, update the necessary entries and convert it back into the odML format to finally merge the change back into the complete score sheet. For demonstration purposes here, we will modify the filtered odML file directly and merge it into the [complete score sheet](animal_info.odml)."
   ]
  },
  {
   "cell_type": "markdown",
   "metadata": {},
   "source": [
    "### Scenario 5: Merging the edited subset back into the original structure"
   ]
  },
  {
   "cell_type": "code",
   "execution_count": null,
   "metadata": {
    "collapsed": true
   },
   "outputs": [],
   "source": [
    "# this code mimics a manual modification of an existing odML file, e.g. using the csv representation generated with odMLtables\n",
    "import odml\n",
    "odmlfile = odml.fileio.load('animal_info_filtered.odml', show_warnings=False)\n",
    "odmlfile['Subject'].properties['Alias'].values = ['mouse_134']\n",
    "odmlfile['Subject']['Scores_2000-01-01'].properties['Comment'].values = ['Blood sample was taken and shows no abnormalities']\n",
    "odml.fileio.save(odmlfile, 'animal_info_filtered.odml')"
   ]
  },
  {
   "cell_type": "markdown",
   "metadata": {},
   "source": [
    "For merging the changes back into the [complete score sheet](animal_info.odml) we can use the same function as in `scenario 2`. However, in case of editing already existing metadata entries, we need to overwrite outdated entries in the original odML file."
   ]
  },
  {
   "cell_type": "code",
   "execution_count": null,
   "metadata": {
    "collapsed": true
   },
   "outputs": [],
   "source": [
    "# merge the modified filtered odML into the complete metadata collection\n",
    "merge_odml_files('animal_info.odml', 'animal_info_filtered.odml', overwrite_values=True)"
   ]
  },
  {
   "cell_type": "markdown",
   "metadata": {},
   "source": [
    "### Scenario 6: Compare entries in the odML via data screening, lab book tables"
   ]
  },
  {
   "cell_type": "markdown",
   "metadata": {},
   "source": [
    "For many odML files a number of metadata structure are repeating within the file. Here, all metadata sections for the daily measurement have the same structure. For visualization and documentation purposes in labbooks an overview across these related structures is usefull and can be generated using the odMLtables `compare` function."
   ]
  },
  {
   "cell_type": "code",
   "execution_count": null,
   "metadata": {},
   "outputs": [],
   "source": [
    "def generate_overview(odML_file, sections='all'):\n",
    "    \"\"\" Compare entries with same structure across an odML file \"\"\"\n",
    "    if sections=='all':\n",
    "        # compare between all available score sheet sections\n",
    "        sections = [s.name for s in odml.fileio.load(odML_file, show_warnings=False)['Subject'].sections]\n",
    "    table = odt.compare_section_xls_table.CompareSectionXlsTable()\n",
    "    table.load_from_file(odML_file)\n",
    "    # specify all sections to be compared\n",
    "    table.choose_sections(*sections)\n",
    "    # save to different odML file\n",
    "    table.write2file('.'.join(odML_file.split('.')[:-1]) + '_overview.xls')\n",
    "    \n",
    "# compare all properties across the complete metadata collection\n",
    "generate_overview('animal_info.odml')"
   ]
  },
  {
   "cell_type": "markdown",
   "metadata": {},
   "source": [
    "This generates an `xls` [overview table](animal_info_overview.xls) comparing the first value entries for all selected sections."
   ]
  },
  {
   "cell_type": "markdown",
   "metadata": {},
   "source": [
    "### Scenario 7: Automatized processing of metadata collections"
   ]
  },
  {
   "cell_type": "markdown",
   "metadata": {},
   "source": [
    "The workflow presented in `scenario 1 to 6` can be to some extend automatized using odMLtables. This simplifies the generation of an comprehensive metadata collection for the experimenter and makes the workflow more robust against human errors.\n",
    "\n",
    "Here we start from a collection of daily csv sheets and generate a complete metadata collection as well as overview sheets from these."
   ]
  },
  {
   "cell_type": "markdown",
   "metadata": {},
   "source": [
    "In the first step we generation a number of score sheets containing dummy data to demonstrate the metadata workflow building on top of these files."
   ]
  },
  {
   "cell_type": "code",
   "execution_count": null,
   "metadata": {
    "collapsed": true
   },
   "outputs": [],
   "source": [
    "# generate a number of score sheets for demonstration of workflow\n",
    "import os\n",
    "import numpy.random as random\n",
    "\n",
    "def generate_dummy_score_sheets(folder):\n",
    "    \"\"\" Generate 20 daily score sheets with random values entered\"\"\"\n",
    "    # make sure folder exists\n",
    "    if not os.path.exists(folder):\n",
    "        os.mkdir(folder)\n",
    "        \n",
    "    # generate score sheets and save them into the folder\n",
    "    for i in range(20):\n",
    "        score_sheet = \\\n",
    "\"\"\"Section,Measure,Value,Unit,Type\n",
    "/Subject/Scores_2000-01-{0:02d},Weight,{1:.1f},g,float\n",
    ",Experimenter,{2},,string\n",
    ",Date,2000-01-{0:02d},,date\n",
    ",Comment,{3},,string\n",
    "\"\"\".format(i+1, random.uniform(low=4.0, high=6.5), random.choice(['Alice','Bob']),\n",
    "           random.choice(['','Blood sample shows no abnormalities','Blood sample shows infection'], p=[0.85,0.1,0.05]))\n",
    "        with open(folder + '/score_sheet_day{}.csv'.format(i), 'w+') as f:\n",
    "            f.write(score_sheet)\n",
    "            \n",
    "def generate_animal_info(folder):\n",
    "    # string representation of the score sheet in csv format\n",
    "    animal_info = \\\n",
    "\"\"\"Section,Measure,Value,Unit,Type\n",
    "/Subject,Species,Mus musculus,,string\n",
    ",Birthday,1999-12-24 12:00:00,,datetime\n",
    ",uID,asdf1234ghjk56789,,string\n",
    ",Alias,,,string\n",
    "\"\"\"\n",
    "    # write the string representation to disk\n",
    "    with open(folder + '/animal_info.csv', 'w+') as f:\n",
    "        f.write(animal_info)\n",
    "        \n",
    "# generate multiple daily score sheets for demonstation purposes\n",
    "generate_dummy_score_sheets('./complete_workflow')\n",
    "generate_animal_info('./complete_workflow')"
   ]
  },
  {
   "cell_type": "markdown",
   "metadata": {},
   "source": [
    "In the second step we define the complete workflow for metadata collection, merge, storage and visualizations in a single function and run this on the dummy data generated before. An example of one of the dummy data sets is available [here](./complete_workflow/score_sheet_day0.csv)."
   ]
  },
  {
   "cell_type": "code",
   "execution_count": null,
   "metadata": {},
   "outputs": [],
   "source": [
    "# metadata workflow based on previously generated collection of csv files\n",
    "import glob\n",
    "def process_all_metadata(folder):\n",
    "    \"\"\" Find daily score sheets, merge them into complete metadata collection and generate visualizations. \"\"\"\n",
    "    # extract all metadata files present in this folder\n",
    "    source_files = sorted(glob.glob(folder + '/*.csv'))\n",
    "    if not source_files:\n",
    "        return None\n",
    "    \n",
    "    # convert all source files\n",
    "    for source_file in source_files:\n",
    "        csv_to_odml(source_file)\n",
    "    # merge score sheets into animal info document\n",
    "    for score_sheet in sorted(glob.glob(folder + '/score_sheet*.odml')):\n",
    "        merge_odml_files(folder + '/animal_info.odml', score_sheet, overwrite_values=True)\n",
    "        \n",
    "    # create visualization and comparison tables\n",
    "    visualize_as_xls(folder + '/animal_info.odml')\n",
    "    generate_overview(folder + '/animal_info.odml')\n",
    "    \n",
    "# run complete metadata workflow from score sheet detection to visualization generation\n",
    "process_all_metadata('./complete_workflow')\n",
    "\n",
    "# copy style sheet for visualization in browser\n",
    "os.popen('cp odml.xsl ./complete_workflow/odml.xsl')"
   ]
  },
  {
   "cell_type": "markdown",
   "metadata": {},
   "source": [
    "This generates in addition to the dummy score sheet in the subfolder `complete_workflow` a [complete metadata collection in a single odML file](./complete_workflow/animal_info.odml) as well as two `xls` files for [visualization](./complete_workflow/animal_info.xls) of the odML structure and an [overview](./complete_workflow/animal_info_overview.xls) across all common properties within the complete metadata collection."
   ]
  }
 ],
 "metadata": {
  "kernelspec": {
   "display_name": "Python 3",
   "language": "python",
   "name": "python3"
  },
  "language_info": {
   "codemirror_mode": {
    "name": "ipython",
    "version": 3
   },
   "file_extension": ".py",
   "mimetype": "text/x-python",
   "name": "python",
   "nbconvert_exporter": "python",
   "pygments_lexer": "ipython3",
   "version": "3.7.2"
  }
 },
 "nbformat": 4,
 "nbformat_minor": 2
}

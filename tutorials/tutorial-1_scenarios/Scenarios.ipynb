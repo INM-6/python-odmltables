{
 "cells": [
  {
   "cell_type": "markdown",
   "metadata": {},
   "source": [
    "# odMLtables scenarios"
   ]
  },
  {
   "cell_type": "markdown",
   "metadata": {},
   "source": [
    "This tutorial is an implementation of the scenarios described in *Sprenger et al (in prep.) odMLtables: A user-friendly approach for managing metadata of neurophysiological experiments* The scenarios present a simple, but realistic use case of odML and odMLtables in an experimental lab and are a good start to start using odML and odMLtables. Modification of this jupyter notebook is highly encuraged and can serve as a starting point for your own metadata workflow. For a detailed description of the individual scenarios, see *Sprenger et al. (in prep)*.\n",
    "\n",
    "To execute the steps of the tutorial, press *Ctrl + Enter* in the cell you want to execute."
   ]
  },
  {
   "cell_type": "markdown",
   "metadata": {},
   "source": [
    "### Scenario 1: How to generate a metadata template without programming language"
   ]
  },
  {
   "cell_type": "markdown",
   "metadata": {},
   "source": [
    "This scenario describes how a template structure for daily data collection can be set up. The example used here is the measurement of basic attributes of a mouse. The measures collected on a single day can be listed in a table as shown below, where *'YYYY-MM-DD'* specifies the measurement date."
   ]
  },
  {
   "cell_type": "markdown",
   "metadata": {},
   "source": [
    "| Date       | Measure             | Value    | Unit | Type   |\n",
    "|------------|---------------------|----------|------|--------|\n",
    "| YYYY-MM-DD | Weight              |          | g    | float  |\n",
    "|            | Water Intake        |          | ml   | float  |\n",
    "|            | Breathing Frequency |          | bpm  | float  |\n",
    "|            | Measured by         | John Doe |      | string |\n",
    "|            | Comment             |          |      | string |"
   ]
  },
  {
   "cell_type": "markdown",
   "metadata": {},
   "source": [
    "This table can be generated using any spreadsheet software. Possible formats supported by odMLtables are *.xls* and *.csv*. A possible implementation using Microsoft Excel or LibreOffice Calc can include color coding to aid visual inspection and might look like this"
   ]
  },
  {
   "cell_type": "markdown",
   "metadata": {},
   "source": [
    "![Screenshot%20from%202018-11-05%2013-47-44.png](attachment:Screenshot%20from%202018-11-05%2013-47-44.png)"
   ]
  },
  {
   "cell_type": "markdown",
   "metadata": {},
   "source": [
    " For simplicity, we generate a *.csv* file with the same content using Python here."
   ]
  },
  {
   "cell_type": "code",
   "execution_count": 1,
   "metadata": {},
   "outputs": [],
   "source": [
    "# string representation of the score sheet in csv format\n",
    "score_sheet = \\\n",
    "\"\"\"Date,Measure,Value,Unit,Type\n",
    "YYYY-MM-DD,Weight,,g,float\n",
    ",Water Intake,,ml,float\n",
    ",Breathing Frequency,,bpm,float\n",
    ",Measured by, John Doe,,string\n",
    ",Comment,,,string\n",
    "\"\"\"\n",
    "# write the string representation to disk\n",
    "with open('score_sheet.csv', 'w+') as f:\n",
    "    f.write(score_sheet)"
   ]
  },
  {
   "cell_type": "markdown",
   "metadata": {},
   "source": [
    "This [metadata template](score_sheet.csv) in *.csv* format can be converted to an odML file using odMLtables:"
   ]
  },
  {
   "cell_type": "code",
   "execution_count": 2,
   "metadata": {},
   "outputs": [],
   "source": [
    "import odmltables as odt\n",
    "\n",
    "def score_sheet_to_odml(csv_file):\n",
    "    \"\"\"Convert a score sheet from csv to odML format.\"\"\"\n",
    "    \n",
    "    # initialize an OdmlTable object for handling metadata\n",
    "    table = odt.OdmlTable()\n",
    "    # specify experiment specific headers used in the score sheet csv files (Date, Measure, Unit and Type)\n",
    "    table.change_header(Path=1, PropertyName=2, Value=3, DataUnit=4, odmlDatatype=5)\n",
    "    table.change_header_titles(Path='Date',PropertyName='Measure', DataUnit='Unit', odmlDatatype='Type')\n",
    "\n",
    "    # load from csv format and save in odML format\n",
    "    table.load_from_csv_table(csv_file)\n",
    "    table.write2odml(csv_file[:-4] + '.odml')\n",
    "    \n",
    "# convert the score sheet to odml format\n",
    "score_sheet_to_odml('score_sheet.csv')"
   ]
  },
  {
   "cell_type": "markdown",
   "metadata": {},
   "source": [
    "The resulting [odML file](score_sheet.odml) can be visualized in the browser using the `odml.xls` style sheet. When working locally on your computer, you can generate this visualization by opening the odML file in your browser while having the style sheet located in the same folder."
   ]
  },
  {
   "cell_type": "code",
   "execution_count": 3,
   "metadata": {},
   "outputs": [
    {
     "data": {
      "text/html": [
       "<html xmlns:fn=\"http://www.w3.org/2005/02/xpath-functions\" xmlns:odml=\"http://www.g-node.org/odml\">\n",
       "  <style type=\"text/css\">\n",
       "            body { margin-left:2%; margin-top:10px; padding:0;} div { border:0px solid #888; }\n",
       "\n",
       "            #navigationContainer { left:10%; width:95%;}\n",
       "\n",
       "            #contentContainer { left:10%; width:95%;}\n",
       "         </style>\n",
       "  <body>\n",
       "    <a name=\"top\" style=\"color:#336699\">\n",
       "      <h1>odML - Metadata</h1>\n",
       "    </a>\n",
       "    <div id=\"navigationContainer\">\n",
       "      <p>\n",
       "        <hr style=\"color:yellow; background-color:#336699; height:4px; margin-right:0; text-align:right; border:1px dashed black;\"/>\n",
       "        <h2>Document info</h2>\n",
       "        <b>Author: </b>\n",
       "        <br/>\n",
       "        <b>Date: </b>\n",
       "        <br/>\n",
       "        <b>Version: </b>\n",
       "        <br/>\n",
       "        <b>Repository: </b>\n",
       "        <br/>\n",
       "      </p>\n",
       "      <hr style=\"color:yellow; background-color:#336699; height:4px; margin-right:0; text-align:right; border:1px dashed black;\"/>\n",
       "      <h2>Structure</h2>\n",
       "      <font size=\"-1\">\n",
       "        <li>\n",
       "          <ol style=\"compact\">\n",
       "            <font size=\"normal\">\n",
       "              <a href=\"#Sec1\">YYYY-MM-DD (type: )\n",
       "               </a>\n",
       "            </font>\n",
       "          </ol>\n",
       "        </li>\n",
       "      </font>\n",
       "    </div>\n",
       "    <div id=\"contentContainer\">\n",
       "      <hr style=\"color:yellow; background-color:#336699; height:4px; margin-right:0; text-align:right; border:1px dashed black;\"/>\n",
       "      <h2>Content</h2>\n",
       "      <a name=\"Sec1\">\n",
       "        <h3>Section: YYYY-MM-DD</h3>\n",
       "      </a>\n",
       "      <p>\n",
       "        <b>Type: </b>\n",
       "        <br/>\n",
       "        <b>Repository: </b>\n",
       "        <br/>\n",
       "        <b>Link: </b>\n",
       "        <br/>\n",
       "        <b>Include:</b>\n",
       "        <br/>\n",
       "        <b>Definition:</b>\n",
       "        <br/>\n",
       "      </p>\n",
       "      <table border=\"1\" rules=\"rows\" width=\"100%\">\n",
       "        <font size=\"-1\">\n",
       "          <tr bgcolor=\"#336699\" valign=\"middle\" align=\"left\">\n",
       "            <th>\n",
       "              <font size=\"+1\" color=\"white\">\n",
       "                <b>Name</b>\n",
       "              </font>\n",
       "            </th>\n",
       "            <th>\n",
       "              <font size=\"+1\" color=\"white\">\n",
       "                <b>Value</b>\n",
       "              </font>\n",
       "            </th>\n",
       "            <th>\n",
       "              <font size=\"+1\" color=\"white\">\n",
       "                <b>Uncertainty</b>\n",
       "              </font>\n",
       "            </th>\n",
       "            <th>\n",
       "              <font size=\"+1\" color=\"white\">\n",
       "                <b>Unit</b>\n",
       "              </font>\n",
       "            </th>\n",
       "            <th>\n",
       "              <font size=\"+1\" color=\"white\">\n",
       "                <b>Type</b>\n",
       "              </font>\n",
       "            </th>\n",
       "            <th>\n",
       "              <font size=\"+1\" color=\"white\">\n",
       "                <b>Reference</b>\n",
       "              </font>\n",
       "            </th>\n",
       "            <th>\n",
       "              <font size=\"+1\" color=\"white\">\n",
       "                <b>Definition</b>\n",
       "              </font>\n",
       "            </th>\n",
       "            <th>\n",
       "              <font size=\"+1\" color=\"white\">\n",
       "                <b>Value origin</b>\n",
       "              </font>\n",
       "            </th>\n",
       "          </tr>\n",
       "          <tr>\n",
       "            <td width=\"15%\">\n",
       "              <a name=\"Breathing Frequency\"/>\n",
       "              <p>Breathing Frequency</p>\n",
       "            </td>\n",
       "            <td width=\"10%\">\n",
       "              <p/>\n",
       "            </td>\n",
       "            <td width=\"5%\">\n",
       "              <p/>\n",
       "            </td>\n",
       "            <td width=\"5%\">\n",
       "              <p>bpm</p>\n",
       "            </td>\n",
       "            <td width=\"5%\">\n",
       "              <p>float</p>\n",
       "            </td>\n",
       "            <td width=\"5%\">\n",
       "              <p/>\n",
       "            </td>\n",
       "            <td width=\"22.5%\">\n",
       "              <p/>\n",
       "            </td>\n",
       "            <td width=\"7.5%%\">\n",
       "              <p/>\n",
       "            </td>\n",
       "          </tr>\n",
       "          <tr>\n",
       "            <td width=\"15%\">\n",
       "              <a name=\"Comment\"/>\n",
       "              <p>Comment</p>\n",
       "            </td>\n",
       "            <td width=\"10%\">\n",
       "              <p/>\n",
       "            </td>\n",
       "            <td width=\"5%\">\n",
       "              <p/>\n",
       "            </td>\n",
       "            <td width=\"5%\">\n",
       "              <p/>\n",
       "            </td>\n",
       "            <td width=\"5%\">\n",
       "              <p>string</p>\n",
       "            </td>\n",
       "            <td width=\"5%\">\n",
       "              <p/>\n",
       "            </td>\n",
       "            <td width=\"22.5%\">\n",
       "              <p/>\n",
       "            </td>\n",
       "            <td width=\"7.5%%\">\n",
       "              <p/>\n",
       "            </td>\n",
       "          </tr>\n",
       "          <tr>\n",
       "            <td width=\"15%\">\n",
       "              <a name=\"Measured by\"/>\n",
       "              <p>Measured by</p>\n",
       "            </td>\n",
       "            <td width=\"10%\">\n",
       "              <p>John Doe</p>\n",
       "            </td>\n",
       "            <td width=\"5%\">\n",
       "              <p/>\n",
       "            </td>\n",
       "            <td width=\"5%\">\n",
       "              <p/>\n",
       "            </td>\n",
       "            <td width=\"5%\">\n",
       "              <p>string</p>\n",
       "            </td>\n",
       "            <td width=\"5%\">\n",
       "              <p/>\n",
       "            </td>\n",
       "            <td width=\"22.5%\">\n",
       "              <p/>\n",
       "            </td>\n",
       "            <td width=\"7.5%%\">\n",
       "              <p/>\n",
       "            </td>\n",
       "          </tr>\n",
       "          <tr>\n",
       "            <td width=\"15%\">\n",
       "              <a name=\"Water Intake\"/>\n",
       "              <p>Water Intake</p>\n",
       "            </td>\n",
       "            <td width=\"10%\">\n",
       "              <p/>\n",
       "            </td>\n",
       "            <td width=\"5%\">\n",
       "              <p/>\n",
       "            </td>\n",
       "            <td width=\"5%\">\n",
       "              <p>ml</p>\n",
       "            </td>\n",
       "            <td width=\"5%\">\n",
       "              <p>float</p>\n",
       "            </td>\n",
       "            <td width=\"5%\">\n",
       "              <p/>\n",
       "            </td>\n",
       "            <td width=\"22.5%\">\n",
       "              <p/>\n",
       "            </td>\n",
       "            <td width=\"7.5%%\">\n",
       "              <p/>\n",
       "            </td>\n",
       "          </tr>\n",
       "          <tr>\n",
       "            <td width=\"15%\">\n",
       "              <a name=\"Weight\"/>\n",
       "              <p>Weight</p>\n",
       "            </td>\n",
       "            <td width=\"10%\">\n",
       "              <p/>\n",
       "            </td>\n",
       "            <td width=\"5%\">\n",
       "              <p/>\n",
       "            </td>\n",
       "            <td width=\"5%\">\n",
       "              <p>g</p>\n",
       "            </td>\n",
       "            <td width=\"5%\">\n",
       "              <p>float</p>\n",
       "            </td>\n",
       "            <td width=\"5%\">\n",
       "              <p/>\n",
       "            </td>\n",
       "            <td width=\"22.5%\">\n",
       "              <p/>\n",
       "            </td>\n",
       "            <td width=\"7.5%%\">\n",
       "              <p/>\n",
       "            </td>\n",
       "          </tr>\n",
       "        </font>\n",
       "      </table>\n",
       "      <a href=\"#top\">\n",
       "        <tiny>top</tiny>\n",
       "      </a>\n",
       "      <hr style=\"background-color:#336699; height:1px; margin-right:0; text-align:right;\"/>\n",
       "    </div>\n",
       "  </body>\n",
       "</html>\n"
      ],
      "text/plain": [
       "<IPython.core.display.HTML object>"
      ]
     },
     "metadata": {},
     "output_type": "display_data"
    }
   ],
   "source": [
    "# This is utility code for displaying the odML file as html representation here.\n",
    "# You can also just open the odML file in your browser having the style sheet in the same location as your odML file and\n",
    "# will get the same result\n",
    "from IPython.display import display, HTML\n",
    "import lxml.etree as ET\n",
    "\n",
    "def display_odML_as_html(odML_file, xsl_file='odml.xsl'):\n",
    "    # generate html representation from odML file and style sheet\n",
    "    dom = ET.parse(odML_file)\n",
    "    xslt = ET.parse(xsl_file)\n",
    "    transform = ET.XSLT(xslt)\n",
    "    newdom = transform(dom)\n",
    "    \n",
    "    # display html\n",
    "    display(HTML(ET.tostring(newdom, pretty_print=True).decode()))\n",
    "    \n",
    "display_odML_as_html('score_sheet.odml')"
   ]
  },
  {
   "cell_type": "markdown",
   "metadata": {},
   "source": [
    "### Scenario 2: Collecting daily observations in a common odML structure"
   ]
  },
  {
   "cell_type": "markdown",
   "metadata": {
    "collapsed": true
   },
   "source": [
    "The template structure defined in `scenario 1` can now be copied for each measurement day and filled. The filled files will then be converted to odML and incorporated in a single odML file containing the complete metadata collected for an animal.\n",
    "\n",
    "Here again we generate a filled metadata sheet in csv format using Python. In a real case this step would be performed using any spreadsheet software."
   ]
  },
  {
   "cell_type": "code",
   "execution_count": 4,
   "metadata": {},
   "outputs": [],
   "source": [
    "# string representation of the score sheet in csv format\n",
    "score_sheet1 = \\\n",
    "\"\"\"Date,Measure,Value,Unit,Type\n",
    "2000-01-01,Weight,20.3,g,float\n",
    ",Water Intake,5.21,ml,float\n",
    ",Breathing Frequency,323,bpm,float\n",
    ",Measured by, John Doe,,string\n",
    ",Comment,Blood sample taken,,string\n",
    "\"\"\"\n",
    "# write the string representation to disk\n",
    "with open('score_sheet_day1.csv', 'w+') as f:\n",
    "    f.write(score_sheet1)"
   ]
  },
  {
   "cell_type": "markdown",
   "metadata": {},
   "source": [
    "Since this is the only [set of measurements](score_sheet_day1.odml) availabe yet, in the next step we only need to convert it into the odML format as we did with the score sheet template in `scenario 1` and rename it because it is already the [complete set of measurements](score_sheet_complete.odml) at this point."
   ]
  },
  {
   "cell_type": "code",
   "execution_count": 5,
   "metadata": {},
   "outputs": [],
   "source": [
    "# convert the score sheet to odml format\n",
    "score_sheet_to_odml('score_sheet_day1.csv')\n",
    "\n",
    "# rename file, because this is the complete score sheet for now\n",
    "import os\n",
    "os.rename('score_sheet_day1.odml', 'score_sheet_complete.odml')"
   ]
  },
  {
   "cell_type": "markdown",
   "metadata": {},
   "source": [
    "In the next step we aquire a [second set of measurements](score_sheet_day2.csv), recorded on day 2. We directly convert the generated `csv` file into the [odML format](score_sheet_day2.odml)."
   ]
  },
  {
   "cell_type": "code",
   "execution_count": 6,
   "metadata": {},
   "outputs": [],
   "source": [
    "# string representation of the score sheet in csv format\n",
    "score_sheet2 = \\\n",
    "\"\"\"Date,Measure,Value,Unit,Type\n",
    "2000-01-02,Weight,23.5,g,float\n",
    ",Water Intake,6.89,ml,float\n",
    ",Breathing Frequency,309,bpm,float\n",
    ",Measured by, John Doe,,string\n",
    ",Comment,small scratch at the right ear,,string\n",
    "\"\"\"\n",
    "# write the string representation to disk\n",
    "with open('score_sheet_day2.csv', 'w+') as f:\n",
    "    f.write(score_sheet2)\n",
    "# convert the score sheet to odml format\n",
    "score_sheet_to_odml('score_sheet_day2.csv')"
   ]
  },
  {
   "cell_type": "markdown",
   "metadata": {},
   "source": [
    "Now, we have two odML files for two subsequent recording days. To merge these into a single odML structure, we use the `merge` functionality provided by odMLtables. We expect the odML documents not to overlap, so we use the `stric` merge mode which raises errors for conflicting entries in the two odML files.\n",
    "\n",
    "The measurement data of subsequent recordings days are added to the complete set stored in `score_sheet_complete.odml`."
   ]
  },
  {
   "cell_type": "code",
   "execution_count": 7,
   "metadata": {},
   "outputs": [
    {
     "name": "stderr",
     "output_type": "stream",
     "text": [
      "warning[None:6:<section>]: missing element <type> within <section> tag{'oid': '2dfce481-6a28-4505-af99-f1499d0290b6', 'name': '2000-01-01', 'properties': <Property Weight>} (line 6)\n",
      "warning[None:6:<section>]: missing element <type> within <section> tag{'oid': '21ca73cb-0081-40a5-8589-ea5d1e2f4dac', 'name': '2000-01-02', 'properties': <Property Weight>} (line 6)\n"
     ]
    }
   ],
   "source": [
    "def merge_score_sheets(file1, file2):\n",
    "    \"\"\" Merge one score sheet (file2) into another score sheet (file1) in odML representation\"\"\"\n",
    "    # load first odML file\n",
    "    table1 = odt.OdmlTable(file1)\n",
    "    # merge file2 into table1\n",
    "    table1.merge(odt.OdmlTable(file2))\n",
    "    # overwrite file1 with the merged score sheets\n",
    "    table1.write2odml(file1)\n",
    "    \n",
    "# merge the daily score sheet into the complete metadata collection\n",
    "merge_score_sheets('score_sheet_complete.odml',\n",
    "                   'score_sheet_day2.odml')"
   ]
  },
  {
   "cell_type": "markdown",
   "metadata": {},
   "source": [
    "### Scenario 3: How to filter a subset of an odML to edit it later on"
   ]
  },
  {
   "cell_type": "markdown",
   "metadata": {},
   "source": [
    "For larger experiments the generated odML structure will grow in complexity. For easier visualization and modification / update of data we will generate an odML file which contains only a subset of the complete score sheet using the odML filter function."
   ]
  },
  {
   "cell_type": "code",
   "execution_count": 8,
   "metadata": {},
   "outputs": [
    {
     "name": "stderr",
     "output_type": "stream",
     "text": [
      "warning[None:6:<section>]: missing element <type> within <section> tag{'oid': 'f9087e77-923d-4f5e-bca7-502a8d7ab8ec', 'name': '2000-01-01', 'properties': <Property Weight>} (line 6)\n",
      "warning[None:43:<section>]: missing element <type> within <section> tag{'oid': 'd5931e5b-a43b-46cc-bb5b-f403f3d9d52f', 'name': '2000-01-02', 'properties': <Property Weight>} (line 43)\n"
     ]
    }
   ],
   "source": [
    "def extract_subset(odML_file):\n",
    "    \"\"\"Extract comments for the first day in this millenial.\"\"\"\n",
    "    table = odt.OdmlTable(odML_file)\n",
    "    # extract specific property based on property name and section name\n",
    "    table.filter(SectionName='2000-01-01', PropertyName='Comment')\n",
    "    # generate separate file containing only subset of the information\n",
    "    table.write2odml('score_sheet_filtered.odml')\n",
    "    \n",
    "# extract a subset of the information to a different file\n",
    "extract_subset('score_sheet_complete.odml')"
   ]
  },
  {
   "cell_type": "markdown",
   "metadata": {},
   "source": [
    "The next step could be to convert the [filtered odML file](score_sheet_filtered.odml) into a csv file, update the necessary entries and convert it back into the odML format to finally merge the change back into the complete score sheet. For demonstration purposes here, we will modify the filtered odML file directly and merge it into the [complete score sheet](score_sheet_complete.odml)."
   ]
  },
  {
   "cell_type": "code",
   "execution_count": 9,
   "metadata": {},
   "outputs": [
    {
     "name": "stderr",
     "output_type": "stream",
     "text": [
      "warning[None:6:<section>]: missing element <type> within <section> tag{'oid': '56160345-50ae-464c-ae91-a21bc7b1b795', 'name': '2000-01-01', 'properties': <Property Comment>} (line 6)\n"
     ]
    }
   ],
   "source": [
    "# this code mimics a manual modification of an existing odML file, eg using the csv representation generated with odMLtables\n",
    "import odml\n",
    "odmlfile = odml.fileio.load('score_sheet_filtered.odml')\n",
    "odmlfile.sections['2000-01-01'].properties['Comment'].value = ['Blood sample shows no abnormalities']\n",
    "odml.fileio.save(odmlfile, 'score_sheet_filtered.odml')"
   ]
  },
  {
   "cell_type": "markdown",
   "metadata": {},
   "source": [
    "### Scenario 4: Merging the edited subset back into the original structure"
   ]
  },
  {
   "cell_type": "markdown",
   "metadata": {},
   "source": [
    "For merging the changes back into the [complete score sheet](score_sheet_complete.odml) we can use the same function as in `scenario 2`. In this case however, the entries of the two odML files overlap and we want to extend values in the first document by entries in the second one, so we merge using the `append` mode."
   ]
  },
  {
   "cell_type": "code",
   "execution_count": 10,
   "metadata": {},
   "outputs": [
    {
     "name": "stderr",
     "output_type": "stream",
     "text": [
      "warning[None:6:<section>]: missing element <type> within <section> tag{'oid': 'f9087e77-923d-4f5e-bca7-502a8d7ab8ec', 'name': '2000-01-01', 'properties': <Property Weight>} (line 6)\n",
      "warning[None:43:<section>]: missing element <type> within <section> tag{'oid': 'd5931e5b-a43b-46cc-bb5b-f403f3d9d52f', 'name': '2000-01-02', 'properties': <Property Weight>} (line 43)\n",
      "warning[None:6:<section>]: missing element <type> within <section> tag{'oid': '56160345-50ae-464c-ae91-a21bc7b1b795', 'name': '2000-01-01', 'properties': <Property Comment>} (line 6)\n"
     ]
    }
   ],
   "source": [
    "# merge the modified filtered odML into the complete metadata collection\n",
    "merge_score_sheets('score_sheet_complete.odml', 'score_sheet_filtered.odml')"
   ]
  },
  {
   "cell_type": "markdown",
   "metadata": {},
   "source": [
    "### Scenario 5: Create a tabular representation of the final merged odML for better viewing using the color options"
   ]
  },
  {
   "cell_type": "markdown",
   "metadata": {},
   "source": [
    "For visualization of the metadata we convert the odML file to the [tabular representation](score_sheet_complete.xls) in the `.xls` format. This has the advantage of color support within the tabular structure. All color options can be customized using odMLtables."
   ]
  },
  {
   "cell_type": "code",
   "execution_count": 11,
   "metadata": {},
   "outputs": [
    {
     "name": "stderr",
     "output_type": "stream",
     "text": [
      "warning[None:6:<section>]: missing element <type> within <section> tag{'oid': '0b0f4337-c419-4b6f-8042-05eb21a61734', 'name': '2000-01-01', 'properties': <Property Weight>} (line 6)\n",
      "warning[None:43:<section>]: missing element <type> within <section> tag{'oid': '1f0b9dd6-8766-46fc-aa66-f5e0589dc1fd', 'name': '2000-01-02', 'properties': <Property Weight>} (line 43)\n"
     ]
    }
   ],
   "source": [
    "def visualize_as_xls(odML_file):\n",
    "    \"\"\" Generate an xls version of an odML file for visualization purposes \"\"\"\n",
    "    table = odt.OdmlXlsTable(odML_file)\n",
    "    # optional: change the color options in the output table\n",
    "    table.first_marked_style.fontcolor = 'red'\n",
    "    table.second_marked_style.fontcolor = 'red'\n",
    "    # write to xls format\n",
    "    table.write2file('.'.join(odML_file.split('.')[:-1]) + '.xls')\n",
    "    \n",
    "# visualize the complete metadata collection in the xls format\n",
    "visualize_as_xls('score_sheet_complete.odml')"
   ]
  },
  {
   "cell_type": "markdown",
   "metadata": {},
   "source": [
    "### Scenario 6: Compare entries in the odML via data screening, lab book tables"
   ]
  },
  {
   "cell_type": "markdown",
   "metadata": {},
   "source": [
    "For many odML files a number of metadata structure are repeating within the file. Here, all metadata sections for the daily measurement have the same structure. For visualization and documentation purposes in labbooks an overview across these related structures is usefull and can be generated using the odMLtables `compare` function."
   ]
  },
  {
   "cell_type": "code",
   "execution_count": 12,
   "metadata": {},
   "outputs": [
    {
     "name": "stderr",
     "output_type": "stream",
     "text": [
      "warning[None:6:<section>]: missing element <type> within <section> tag{'oid': '0b0f4337-c419-4b6f-8042-05eb21a61734', 'name': '2000-01-01', 'properties': <Property Weight>} (line 6)\n",
      "warning[None:43:<section>]: missing element <type> within <section> tag{'oid': '1f0b9dd6-8766-46fc-aa66-f5e0589dc1fd', 'name': '2000-01-02', 'properties': <Property Weight>} (line 43)\n",
      "warning[None:6:<section>]: missing element <type> within <section> tag{'oid': '0b0f4337-c419-4b6f-8042-05eb21a61734', 'name': '2000-01-01', 'properties': <Property Weight>} (line 6)\n",
      "warning[None:43:<section>]: missing element <type> within <section> tag{'oid': '1f0b9dd6-8766-46fc-aa66-f5e0589dc1fd', 'name': '2000-01-02', 'properties': <Property Weight>} (line 43)\n",
      "/home/julia/repositories/python/python-odmltables/odmltables/compare_section_table.py:66: UserWarning: Property Comment contains 2 values. Only showing first one in comparison table\n",
      "  'comparison table' % (prop.name, len(prop.value)))\n"
     ]
    }
   ],
   "source": [
    "def generate_overview(odML_file, sections='all'):\n",
    "    \"\"\" Compare entries with same structure across an odML file \"\"\"\n",
    "    if sections=='all':\n",
    "        # compare between all available sections\n",
    "        sections = [s.name for s in odml.fileio.load(odML_file).sections]\n",
    "    table = odt.compare_section_xls_table.CompareSectionXlsTable()\n",
    "    table.load_from_file(odML_file)\n",
    "    # specify all sections to be compared\n",
    "    table.choose_sections(*sections)\n",
    "    # save to different odML file\n",
    "    table.write2file('.'.join(odML_file.split('.')[:-1]) + '_overview.xls')\n",
    "    \n",
    "# compare all properties across the complete metadata collection\n",
    "generate_overview('score_sheet_complete.odml')"
   ]
  },
  {
   "cell_type": "markdown",
   "metadata": {},
   "source": [
    "This generates an `xls` [overview table](score_sheet_complete_overview.xls) comparing the first value entries for all selected sections."
   ]
  },
  {
   "cell_type": "markdown",
   "metadata": {},
   "source": [
    "### Scenario 7: Automatized processing of metadata collections"
   ]
  },
  {
   "cell_type": "markdown",
   "metadata": {},
   "source": [
    "The workflow presented in `scenario 1 to 6` can be to some extend automatized using odMLtables. This simplifies the generation of an comprehensive metadata collection for the experimenter and makes the workflow more robust against human errors.\n",
    "\n",
    "Here we start from a collection of daily csv sheets and generate a complete metadata collection as well as overview sheets from these."
   ]
  },
  {
   "cell_type": "markdown",
   "metadata": {},
   "source": [
    "In the first step we generation a number of score sheets containing dummy data to demonstrate the metadata workflow building on top of these files."
   ]
  },
  {
   "cell_type": "code",
   "execution_count": 13,
   "metadata": {},
   "outputs": [],
   "source": [
    "# generate a number of score sheets for demonstration of workflow\n",
    "import os\n",
    "import numpy.random as random\n",
    "\n",
    "def generate_dummy_data(folder):\n",
    "    \"\"\" Generate 20 daily score sheets with random values entered\"\"\"\n",
    "    # make sure folder exists\n",
    "    if not os.path.exists(folder):\n",
    "        os.mkdir(folder)\n",
    "        \n",
    "    # generate score sheets and save them into the folder\n",
    "    for i in range(20):\n",
    "        score_sheet = \\\n",
    "\"\"\"Date,Measure,Value,Unit,Type\n",
    "2000-01-{0:02d},Weight,{1:.1f},g,float\n",
    ",Water Intake,{2:.2f},ml,float\n",
    ",Breathing Frequency,{3:.1f},bpm,float\n",
    ",Measured by, John Doe,,string\n",
    ",Comment,-,,string\n",
    "\"\"\".format(i+1, random.uniform(low=19, high=25), random.uniform(low=5, high=7), random.uniform(low=300, high=400))\n",
    "        with open(folder + '/score_sheet_day{}.csv'.format(i), 'w+') as f:\n",
    "            f.write(score_sheet)\n",
    "        \n",
    "# generate multiple daily score sheets for demonstation purposes\n",
    "generate_dummy_data('./complete_workflow')"
   ]
  },
  {
   "cell_type": "markdown",
   "metadata": {},
   "source": [
    "In the second step we define the complete workflow for metadata collection, merge, storage and visualizations in a single function and run this on the dummy data generated before. An example of one of the dummy data sets is available [here](./complete_workflow/score_sheet_day1.csv)."
   ]
  },
  {
   "cell_type": "code",
   "execution_count": 14,
   "metadata": {},
   "outputs": [
    {
     "name": "stderr",
     "output_type": "stream",
     "text": [
      "warning[None:6:<section>]: missing element <type> within <section> tag{'oid': '9e344f35-8005-4353-ac8b-fd9bf7e188ff', 'name': '2000-01-01', 'properties': <Property Weight>} (line 6)\n",
      "warning[None:6:<section>]: missing element <type> within <section> tag{'oid': '32174195-11f2-4929-a790-dd4c7d5fc3aa', 'name': '2000-01-02', 'properties': <Property Weight>} (line 6)\n",
      "warning[None:6:<section>]: missing element <type> within <section> tag{'oid': '65e37a85-64b9-46d1-b7fa-c26cbcd5e9a7', 'name': '2000-01-01', 'properties': <Property Weight>} (line 6)\n",
      "warning[None:43:<section>]: missing element <type> within <section> tag{'oid': '9b972b51-0248-4a43-adf6-7eb96b1b489c', 'name': '2000-01-02', 'properties': <Property Weight>} (line 43)\n",
      "warning[None:6:<section>]: missing element <type> within <section> tag{'oid': 'be8d8ffd-ee88-47ff-90ef-becf2b4765f8', 'name': '2000-01-11', 'properties': <Property Weight>} (line 6)\n",
      "warning[None:6:<section>]: missing element <type> within <section> tag{'oid': '73d33702-3f01-4aec-9cb7-04a834a00e8a', 'name': '2000-01-01', 'properties': <Property Weight>} (line 6)\n",
      "warning[None:43:<section>]: missing element <type> within <section> tag{'oid': 'ebcc8362-aac6-40f3-838e-cb1a2b7cec27', 'name': '2000-01-02', 'properties': <Property Weight>} (line 43)\n",
      "warning[None:80:<section>]: missing element <type> within <section> tag{'oid': 'affec30e-b9dc-49b7-9733-e14834e54b9f', 'name': '2000-01-11', 'properties': <Property Weight>} (line 80)\n",
      "warning[None:6:<section>]: missing element <type> within <section> tag{'oid': '27a63a7c-4553-4e73-b9b5-34c3d60986c5', 'name': '2000-01-12', 'properties': <Property Weight>} (line 6)\n",
      "warning[None:6:<section>]: missing element <type> within <section> tag{'oid': '8e542a33-eaac-4099-897a-ba88bfe9bf40', 'name': '2000-01-01', 'properties': <Property Weight>} (line 6)\n",
      "warning[None:43:<section>]: missing element <type> within <section> tag{'oid': '853a251e-7fa3-49b3-933a-dc155ab4c13e', 'name': '2000-01-02', 'properties': <Property Weight>} (line 43)\n",
      "warning[None:80:<section>]: missing element <type> within <section> tag{'oid': '57a4b8b7-0c31-4da3-b737-59c740abe7f1', 'name': '2000-01-11', 'properties': <Property Weight>} (line 80)\n",
      "warning[None:117:<section>]: missing element <type> within <section> tag{'oid': 'bce8779a-cf8f-4a66-9247-e97a0f9e353d', 'name': '2000-01-12', 'properties': <Property Weight>} (line 117)\n",
      "warning[None:6:<section>]: missing element <type> within <section> tag{'oid': '5514bae0-aa17-48e5-ae6a-6b8cd1910688', 'name': '2000-01-13', 'properties': <Property Weight>} (line 6)\n",
      "warning[None:6:<section>]: missing element <type> within <section> tag{'oid': 'f61c5d76-ccce-408e-b47b-ac2bf8a0eeb1', 'name': '2000-01-01', 'properties': <Property Weight>} (line 6)\n",
      "warning[None:43:<section>]: missing element <type> within <section> tag{'oid': 'c75fa44b-a530-4db2-a265-6b01fff6dbe8', 'name': '2000-01-02', 'properties': <Property Weight>} (line 43)\n",
      "warning[None:80:<section>]: missing element <type> within <section> tag{'oid': 'b60e9006-904b-44d4-bb5d-4d25e3d4f1a4', 'name': '2000-01-11', 'properties': <Property Weight>} (line 80)\n",
      "warning[None:117:<section>]: missing element <type> within <section> tag{'oid': '81f50ad7-9262-43f1-a2b0-0d31505a28bb', 'name': '2000-01-12', 'properties': <Property Weight>} (line 117)\n",
      "warning[None:154:<section>]: missing element <type> within <section> tag{'oid': '27b50a82-ea9f-43cd-b7c2-76aaae9cb388', 'name': '2000-01-13', 'properties': <Property Weight>} (line 154)\n",
      "warning[None:6:<section>]: missing element <type> within <section> tag{'oid': 'f04c4f57-e8c1-4ae0-bcee-35f81f119541', 'name': '2000-01-14', 'properties': <Property Weight>} (line 6)\n",
      "warning[None:6:<section>]: missing element <type> within <section> tag{'oid': 'b052567d-bb2b-485c-ae22-1fea0cef65d1', 'name': '2000-01-01', 'properties': <Property Weight>} (line 6)\n",
      "warning[None:43:<section>]: missing element <type> within <section> tag{'oid': 'b2c8d9dc-ffc7-4083-a84a-7ec7d287a258', 'name': '2000-01-02', 'properties': <Property Weight>} (line 43)\n",
      "warning[None:80:<section>]: missing element <type> within <section> tag{'oid': '091c11c6-6d7a-4afc-9c88-db006c61a349', 'name': '2000-01-11', 'properties': <Property Weight>} (line 80)\n",
      "warning[None:117:<section>]: missing element <type> within <section> tag{'oid': '055b615b-c45c-4296-980a-12e5f83fb2e1', 'name': '2000-01-12', 'properties': <Property Weight>} (line 117)\n",
      "warning[None:154:<section>]: missing element <type> within <section> tag{'oid': 'dd9cdac0-0849-4f50-bbbc-3865558558d5', 'name': '2000-01-13', 'properties': <Property Weight>} (line 154)\n",
      "warning[None:191:<section>]: missing element <type> within <section> tag{'oid': '1d4ae638-0ed3-49d9-b068-e16f31d8e107', 'name': '2000-01-14', 'properties': <Property Weight>} (line 191)\n",
      "warning[None:6:<section>]: missing element <type> within <section> tag{'oid': '706c269a-8ca5-422d-880b-e0950d43f5d3', 'name': '2000-01-15', 'properties': <Property Weight>} (line 6)\n",
      "warning[None:6:<section>]: missing element <type> within <section> tag{'oid': 'c16bd706-e0f1-4f15-afeb-b79e7b927543', 'name': '2000-01-01', 'properties': <Property Weight>} (line 6)\n",
      "warning[None:43:<section>]: missing element <type> within <section> tag{'oid': '68e5f5ab-0342-4a86-adce-31315b7fdc03', 'name': '2000-01-02', 'properties': <Property Weight>} (line 43)\n",
      "warning[None:80:<section>]: missing element <type> within <section> tag{'oid': '82d487e2-f885-4912-acfd-388bdddc8e7c', 'name': '2000-01-11', 'properties': <Property Weight>} (line 80)\n",
      "warning[None:117:<section>]: missing element <type> within <section> tag{'oid': 'f300630f-f0eb-44e2-aeea-5b96c6abb07c', 'name': '2000-01-12', 'properties': <Property Weight>} (line 117)\n",
      "warning[None:154:<section>]: missing element <type> within <section> tag{'oid': '46dd8d70-f1d1-4572-96e4-964d30760c9e', 'name': '2000-01-13', 'properties': <Property Weight>} (line 154)\n",
      "warning[None:191:<section>]: missing element <type> within <section> tag{'oid': 'c00e4783-a9dd-4c36-93ff-83f4288e8a4a', 'name': '2000-01-14', 'properties': <Property Weight>} (line 191)\n",
      "warning[None:228:<section>]: missing element <type> within <section> tag{'oid': '7296d70a-158e-456c-a221-8ff6701406f0', 'name': '2000-01-15', 'properties': <Property Weight>} (line 228)\n",
      "warning[None:6:<section>]: missing element <type> within <section> tag{'oid': 'f6d88cbc-275f-4a9e-848f-b7eb1058caf1', 'name': '2000-01-16', 'properties': <Property Weight>} (line 6)\n",
      "warning[None:6:<section>]: missing element <type> within <section> tag{'oid': '2f961bbe-4541-49ef-a676-43ae5b1dc845', 'name': '2000-01-01', 'properties': <Property Weight>} (line 6)\n",
      "warning[None:43:<section>]: missing element <type> within <section> tag{'oid': '2bd97497-dd75-47ac-a344-0bc63a40c318', 'name': '2000-01-02', 'properties': <Property Weight>} (line 43)\n",
      "warning[None:80:<section>]: missing element <type> within <section> tag{'oid': '1cc39c0f-728f-4652-a6f4-b80e6e53a0eb', 'name': '2000-01-11', 'properties': <Property Weight>} (line 80)\n",
      "warning[None:117:<section>]: missing element <type> within <section> tag{'oid': '54cfdcf2-d9a0-4b53-90a1-7553aeeddbb1', 'name': '2000-01-12', 'properties': <Property Weight>} (line 117)\n",
      "warning[None:154:<section>]: missing element <type> within <section> tag{'oid': '63aba99a-ab81-40cc-8739-c16e7e78c337', 'name': '2000-01-13', 'properties': <Property Weight>} (line 154)\n",
      "warning[None:191:<section>]: missing element <type> within <section> tag{'oid': '8a2fefbd-3c6f-4bf8-96b8-0fbf7e37cbec', 'name': '2000-01-14', 'properties': <Property Weight>} (line 191)\n",
      "warning[None:228:<section>]: missing element <type> within <section> tag{'oid': '53a67cdb-ce24-4525-a449-95437b28caad', 'name': '2000-01-15', 'properties': <Property Weight>} (line 228)\n",
      "warning[None:265:<section>]: missing element <type> within <section> tag{'oid': 'a1facd0e-65d7-4e37-b2df-9d0ba2b8fdd2', 'name': '2000-01-16', 'properties': <Property Weight>} (line 265)\n",
      "warning[None:6:<section>]: missing element <type> within <section> tag{'oid': 'e41c3c53-c4db-4252-81ce-e3d5b6111180', 'name': '2000-01-17', 'properties': <Property Weight>} (line 6)\n",
      "warning[None:6:<section>]: missing element <type> within <section> tag{'oid': '93a60011-18fe-4199-ba73-6673e15a11c2', 'name': '2000-01-01', 'properties': <Property Weight>} (line 6)\n",
      "warning[None:43:<section>]: missing element <type> within <section> tag{'oid': '8ce8f29c-ff74-4cba-aaf3-b0f5a29ee530', 'name': '2000-01-02', 'properties': <Property Weight>} (line 43)\n",
      "warning[None:80:<section>]: missing element <type> within <section> tag{'oid': '82528ea5-1c25-4c42-83b2-58eabb45db4d', 'name': '2000-01-11', 'properties': <Property Weight>} (line 80)\n",
      "warning[None:117:<section>]: missing element <type> within <section> tag{'oid': '567f4caa-bd9a-425b-8507-f721e25b0e57', 'name': '2000-01-12', 'properties': <Property Weight>} (line 117)\n",
      "warning[None:154:<section>]: missing element <type> within <section> tag{'oid': 'd29a08d3-e998-43f0-95d3-f02bf94d459e', 'name': '2000-01-13', 'properties': <Property Weight>} (line 154)\n",
      "warning[None:191:<section>]: missing element <type> within <section> tag{'oid': '02ae0777-2d28-4dc3-8bb7-5514051dd573', 'name': '2000-01-14', 'properties': <Property Weight>} (line 191)\n",
      "warning[None:228:<section>]: missing element <type> within <section> tag{'oid': 'd29152a9-9249-4ed0-911c-7263c9a15527', 'name': '2000-01-15', 'properties': <Property Weight>} (line 228)\n",
      "warning[None:265:<section>]: missing element <type> within <section> tag{'oid': 'de7d2085-39f7-4d7e-bf05-f3e96329ae2b', 'name': '2000-01-16', 'properties': <Property Weight>} (line 265)\n",
      "warning[None:302:<section>]: missing element <type> within <section> tag{'oid': '6ae25fda-6ddb-4395-913a-b78df8a98105', 'name': '2000-01-17', 'properties': <Property Weight>} (line 302)\n",
      "warning[None:6:<section>]: missing element <type> within <section> tag{'oid': '56bab80a-ce6f-4abc-86e9-500a9fa61e5f', 'name': '2000-01-18', 'properties': <Property Weight>} (line 6)\n",
      "warning[None:6:<section>]: missing element <type> within <section> tag{'oid': '10308743-ddf4-4839-b7b0-748bac95a9a5', 'name': '2000-01-01', 'properties': <Property Weight>} (line 6)\n",
      "warning[None:43:<section>]: missing element <type> within <section> tag{'oid': 'f9d88a8e-3f1d-4b3e-b4fa-27694be8c737', 'name': '2000-01-02', 'properties': <Property Weight>} (line 43)\n"
     ]
    },
    {
     "name": "stderr",
     "output_type": "stream",
     "text": [
      "warning[None:80:<section>]: missing element <type> within <section> tag{'oid': '89f8f740-cb0d-4f44-bf76-24c92510e8c5', 'name': '2000-01-11', 'properties': <Property Weight>} (line 80)\n",
      "warning[None:117:<section>]: missing element <type> within <section> tag{'oid': '49bb0544-1c3e-4cf5-8694-5d623e39cc04', 'name': '2000-01-12', 'properties': <Property Weight>} (line 117)\n",
      "warning[None:154:<section>]: missing element <type> within <section> tag{'oid': 'a3ca251e-cf90-42e1-a741-5c5f886720d3', 'name': '2000-01-13', 'properties': <Property Weight>} (line 154)\n",
      "warning[None:191:<section>]: missing element <type> within <section> tag{'oid': 'fd44cee9-0473-476a-8471-4965d15b464b', 'name': '2000-01-14', 'properties': <Property Weight>} (line 191)\n",
      "warning[None:228:<section>]: missing element <type> within <section> tag{'oid': '8ad7a791-f3cd-4f5e-84af-7337657067c0', 'name': '2000-01-15', 'properties': <Property Weight>} (line 228)\n",
      "warning[None:265:<section>]: missing element <type> within <section> tag{'oid': 'f5e58397-fb0a-4433-aa9a-5761ae9d3f5e', 'name': '2000-01-16', 'properties': <Property Weight>} (line 265)\n",
      "warning[None:302:<section>]: missing element <type> within <section> tag{'oid': 'e4894117-8bef-4035-b7b7-5edd6301eac9', 'name': '2000-01-17', 'properties': <Property Weight>} (line 302)\n",
      "warning[None:339:<section>]: missing element <type> within <section> tag{'oid': '9120c37f-b3c0-450a-91c0-51a643f9a323', 'name': '2000-01-18', 'properties': <Property Weight>} (line 339)\n",
      "warning[None:6:<section>]: missing element <type> within <section> tag{'oid': 'cf2743f0-947f-4944-a8d3-4dd6d1b1ccc7', 'name': '2000-01-19', 'properties': <Property Weight>} (line 6)\n",
      "warning[None:6:<section>]: missing element <type> within <section> tag{'oid': '7444383f-249e-4df7-9f03-8cb5c2132dbf', 'name': '2000-01-01', 'properties': <Property Weight>} (line 6)\n",
      "warning[None:43:<section>]: missing element <type> within <section> tag{'oid': '7c222810-66e2-4074-8efd-ec20196ab87d', 'name': '2000-01-02', 'properties': <Property Weight>} (line 43)\n",
      "warning[None:80:<section>]: missing element <type> within <section> tag{'oid': '2fccaa64-8214-4405-b23a-4b94f997845b', 'name': '2000-01-11', 'properties': <Property Weight>} (line 80)\n",
      "warning[None:117:<section>]: missing element <type> within <section> tag{'oid': '014c7db3-0f56-4a7b-9a1d-11839b79675b', 'name': '2000-01-12', 'properties': <Property Weight>} (line 117)\n",
      "warning[None:154:<section>]: missing element <type> within <section> tag{'oid': 'cd621247-1332-40be-bbd2-2d0e32b182a9', 'name': '2000-01-13', 'properties': <Property Weight>} (line 154)\n",
      "warning[None:191:<section>]: missing element <type> within <section> tag{'oid': 'e0d494aa-c9f9-4ae0-bab9-a93602de8e54', 'name': '2000-01-14', 'properties': <Property Weight>} (line 191)\n",
      "warning[None:228:<section>]: missing element <type> within <section> tag{'oid': 'e0e73077-a285-4ef6-a976-7ec75ddc9b6c', 'name': '2000-01-15', 'properties': <Property Weight>} (line 228)\n",
      "warning[None:265:<section>]: missing element <type> within <section> tag{'oid': 'd8686812-fad1-4ccc-9882-cb9bb827eab1', 'name': '2000-01-16', 'properties': <Property Weight>} (line 265)\n",
      "warning[None:302:<section>]: missing element <type> within <section> tag{'oid': 'fc3a4c94-c741-4789-8200-6429407ee6e7', 'name': '2000-01-17', 'properties': <Property Weight>} (line 302)\n",
      "warning[None:339:<section>]: missing element <type> within <section> tag{'oid': '6c09ad42-029b-4e2c-bf5e-52fb27ef3a84', 'name': '2000-01-18', 'properties': <Property Weight>} (line 339)\n",
      "warning[None:376:<section>]: missing element <type> within <section> tag{'oid': 'aa0bf090-56b3-46e4-8fb0-89f80953923a', 'name': '2000-01-19', 'properties': <Property Weight>} (line 376)\n",
      "warning[None:6:<section>]: missing element <type> within <section> tag{'oid': '35b12eee-c632-4969-b4f4-dec97f51e668', 'name': '2000-01-20', 'properties': <Property Weight>} (line 6)\n",
      "warning[None:6:<section>]: missing element <type> within <section> tag{'oid': '9fc5a633-8b04-4326-8a50-c849728a5bb5', 'name': '2000-01-01', 'properties': <Property Weight>} (line 6)\n",
      "warning[None:43:<section>]: missing element <type> within <section> tag{'oid': 'd8fae8eb-c337-4bdd-8f09-2757452e3d7e', 'name': '2000-01-02', 'properties': <Property Weight>} (line 43)\n",
      "warning[None:80:<section>]: missing element <type> within <section> tag{'oid': '80be7b25-7d28-48ee-b0fd-2b344b269f68', 'name': '2000-01-11', 'properties': <Property Weight>} (line 80)\n",
      "warning[None:117:<section>]: missing element <type> within <section> tag{'oid': 'd52c18e9-6934-4db8-bace-b6fa53261f35', 'name': '2000-01-12', 'properties': <Property Weight>} (line 117)\n",
      "warning[None:154:<section>]: missing element <type> within <section> tag{'oid': 'd077e769-a1dd-4f55-a9e5-b0fce84cfce8', 'name': '2000-01-13', 'properties': <Property Weight>} (line 154)\n",
      "warning[None:191:<section>]: missing element <type> within <section> tag{'oid': 'd6347ba5-1c4c-42b4-bad2-f3bb994dd348', 'name': '2000-01-14', 'properties': <Property Weight>} (line 191)\n",
      "warning[None:228:<section>]: missing element <type> within <section> tag{'oid': '0cddb3a9-d500-4d64-af32-82e0312ab5c0', 'name': '2000-01-15', 'properties': <Property Weight>} (line 228)\n",
      "warning[None:265:<section>]: missing element <type> within <section> tag{'oid': '3a2e8fbe-f3a8-4f2b-92ce-8b08ae809ddd', 'name': '2000-01-16', 'properties': <Property Weight>} (line 265)\n",
      "warning[None:302:<section>]: missing element <type> within <section> tag{'oid': 'dd19e4e9-ccd1-43ed-9d5d-f5d50e9a38f3', 'name': '2000-01-17', 'properties': <Property Weight>} (line 302)\n",
      "warning[None:339:<section>]: missing element <type> within <section> tag{'oid': '021142bf-70fb-487a-9c64-39efd883f2d8', 'name': '2000-01-18', 'properties': <Property Weight>} (line 339)\n",
      "warning[None:376:<section>]: missing element <type> within <section> tag{'oid': 'bf555b7d-9c54-44ca-89a2-309bb1aca692', 'name': '2000-01-19', 'properties': <Property Weight>} (line 376)\n",
      "warning[None:413:<section>]: missing element <type> within <section> tag{'oid': 'd0c185f3-5fdc-45b3-bfcd-bcd55de678cc', 'name': '2000-01-20', 'properties': <Property Weight>} (line 413)\n",
      "warning[None:6:<section>]: missing element <type> within <section> tag{'oid': 'e28901bb-7017-4332-8f09-f0766f5b0c64', 'name': '2000-01-03', 'properties': <Property Weight>} (line 6)\n",
      "warning[None:6:<section>]: missing element <type> within <section> tag{'oid': '0a0a3c2f-2267-40f4-be35-7a105587f715', 'name': '2000-01-01', 'properties': <Property Weight>} (line 6)\n",
      "warning[None:43:<section>]: missing element <type> within <section> tag{'oid': '92902467-7f35-4698-870d-77d75c619cac', 'name': '2000-01-02', 'properties': <Property Weight>} (line 43)\n",
      "warning[None:80:<section>]: missing element <type> within <section> tag{'oid': 'f3973ab2-556e-44a2-9976-2aaa78b65cad', 'name': '2000-01-03', 'properties': <Property Weight>} (line 80)\n",
      "warning[None:117:<section>]: missing element <type> within <section> tag{'oid': '2c99dd69-7215-4058-b8c9-295566c9f3c7', 'name': '2000-01-11', 'properties': <Property Weight>} (line 117)\n",
      "warning[None:154:<section>]: missing element <type> within <section> tag{'oid': '1203949a-0a88-4641-91eb-2e22bcb2e448', 'name': '2000-01-12', 'properties': <Property Weight>} (line 154)\n",
      "warning[None:191:<section>]: missing element <type> within <section> tag{'oid': '01171582-4aa0-48d6-941b-b7cb92a7e94a', 'name': '2000-01-13', 'properties': <Property Weight>} (line 191)\n",
      "warning[None:228:<section>]: missing element <type> within <section> tag{'oid': '53a4abac-7b3f-4f65-b93f-11a50c642905', 'name': '2000-01-14', 'properties': <Property Weight>} (line 228)\n",
      "warning[None:265:<section>]: missing element <type> within <section> tag{'oid': '12199cb5-8e7c-4040-8dd2-5c3ed7f397f2', 'name': '2000-01-15', 'properties': <Property Weight>} (line 265)\n",
      "warning[None:302:<section>]: missing element <type> within <section> tag{'oid': '8395c1e8-873f-4e31-8a5f-a7401aedcb07', 'name': '2000-01-16', 'properties': <Property Weight>} (line 302)\n",
      "warning[None:339:<section>]: missing element <type> within <section> tag{'oid': '9ac3a8fd-e297-4ee6-8bac-cffca6d361dc', 'name': '2000-01-17', 'properties': <Property Weight>} (line 339)\n",
      "warning[None:376:<section>]: missing element <type> within <section> tag{'oid': 'a114980a-f9b7-4541-9437-8310e5b393e1', 'name': '2000-01-18', 'properties': <Property Weight>} (line 376)\n",
      "warning[None:413:<section>]: missing element <type> within <section> tag{'oid': '998941fe-97c3-4490-b863-4118db52dfad', 'name': '2000-01-19', 'properties': <Property Weight>} (line 413)\n",
      "warning[None:450:<section>]: missing element <type> within <section> tag{'oid': '0dec4bfc-1797-4416-aaec-490cdde9f357', 'name': '2000-01-20', 'properties': <Property Weight>} (line 450)\n",
      "warning[None:6:<section>]: missing element <type> within <section> tag{'oid': '92c4b77f-7e35-4623-ad30-07469e9aee2d', 'name': '2000-01-04', 'properties': <Property Weight>} (line 6)\n"
     ]
    },
    {
     "name": "stderr",
     "output_type": "stream",
     "text": [
      "warning[None:6:<section>]: missing element <type> within <section> tag{'oid': '87e18629-fff3-4bb1-93c1-e494c33f78f9', 'name': '2000-01-01', 'properties': <Property Weight>} (line 6)\n",
      "warning[None:43:<section>]: missing element <type> within <section> tag{'oid': 'c9614a6f-1bb8-4365-851b-f3753a3a660d', 'name': '2000-01-02', 'properties': <Property Weight>} (line 43)\n",
      "warning[None:80:<section>]: missing element <type> within <section> tag{'oid': '9677efed-c522-4e2e-a86b-3a897c8d9669', 'name': '2000-01-03', 'properties': <Property Weight>} (line 80)\n",
      "warning[None:117:<section>]: missing element <type> within <section> tag{'oid': 'a43d16f1-f911-4eea-8e01-a3f564d7389b', 'name': '2000-01-04', 'properties': <Property Weight>} (line 117)\n",
      "warning[None:154:<section>]: missing element <type> within <section> tag{'oid': 'f19c8c62-3a1f-46dc-aa80-68066f317576', 'name': '2000-01-11', 'properties': <Property Weight>} (line 154)\n",
      "warning[None:191:<section>]: missing element <type> within <section> tag{'oid': '508469b5-b1c1-4f04-b1f6-b781ab7b7114', 'name': '2000-01-12', 'properties': <Property Weight>} (line 191)\n",
      "warning[None:228:<section>]: missing element <type> within <section> tag{'oid': '8079ab8d-c2e8-4e94-b100-cd4a3beccf27', 'name': '2000-01-13', 'properties': <Property Weight>} (line 228)\n",
      "warning[None:265:<section>]: missing element <type> within <section> tag{'oid': '24a6ad32-4462-404d-9d75-4b4864276ab8', 'name': '2000-01-14', 'properties': <Property Weight>} (line 265)\n",
      "warning[None:302:<section>]: missing element <type> within <section> tag{'oid': '17c00f7c-e3e0-4580-ae9b-34e53a720912', 'name': '2000-01-15', 'properties': <Property Weight>} (line 302)\n",
      "warning[None:339:<section>]: missing element <type> within <section> tag{'oid': '8268e9ec-386f-4b01-98c4-e04c38bc3c98', 'name': '2000-01-16', 'properties': <Property Weight>} (line 339)\n",
      "warning[None:376:<section>]: missing element <type> within <section> tag{'oid': '4fade245-1e33-4b2e-bdb4-59ab3db91943', 'name': '2000-01-17', 'properties': <Property Weight>} (line 376)\n",
      "warning[None:413:<section>]: missing element <type> within <section> tag{'oid': 'f11c4d7a-6a0f-4f22-9698-4f0e1bee7b86', 'name': '2000-01-18', 'properties': <Property Weight>} (line 413)\n",
      "warning[None:450:<section>]: missing element <type> within <section> tag{'oid': '0f449c9c-5d72-4a67-a978-9693798b6728', 'name': '2000-01-19', 'properties': <Property Weight>} (line 450)\n",
      "warning[None:487:<section>]: missing element <type> within <section> tag{'oid': '34a0f423-5ce7-4ffe-9e94-52eb8f802c64', 'name': '2000-01-20', 'properties': <Property Weight>} (line 487)\n",
      "warning[None:6:<section>]: missing element <type> within <section> tag{'oid': 'e98a2c37-9d93-4e7a-ae25-a3cc5c7614cc', 'name': '2000-01-05', 'properties': <Property Weight>} (line 6)\n",
      "warning[None:6:<section>]: missing element <type> within <section> tag{'oid': '6e91ffdc-471b-4a36-b184-ce9960ca6241', 'name': '2000-01-01', 'properties': <Property Weight>} (line 6)\n",
      "warning[None:43:<section>]: missing element <type> within <section> tag{'oid': '9cd7f240-764d-4e9e-b1c9-0e22ab8b0834', 'name': '2000-01-02', 'properties': <Property Weight>} (line 43)\n",
      "warning[None:80:<section>]: missing element <type> within <section> tag{'oid': 'c00eee0d-023c-4fae-85ec-dbdb77e0cccf', 'name': '2000-01-03', 'properties': <Property Weight>} (line 80)\n",
      "warning[None:117:<section>]: missing element <type> within <section> tag{'oid': '6e78171b-d3d5-4be0-8e22-bde499ef4bf1', 'name': '2000-01-04', 'properties': <Property Weight>} (line 117)\n",
      "warning[None:154:<section>]: missing element <type> within <section> tag{'oid': '51ae85cc-e704-4774-9a57-96e67bebf472', 'name': '2000-01-05', 'properties': <Property Weight>} (line 154)\n",
      "warning[None:191:<section>]: missing element <type> within <section> tag{'oid': '005464c4-a282-4b83-b9cb-10718a04f006', 'name': '2000-01-11', 'properties': <Property Weight>} (line 191)\n",
      "warning[None:228:<section>]: missing element <type> within <section> tag{'oid': '83c23207-4a71-452d-9877-b4f81661ac0f', 'name': '2000-01-12', 'properties': <Property Weight>} (line 228)\n",
      "warning[None:265:<section>]: missing element <type> within <section> tag{'oid': '1be21be7-04f6-4a89-8827-cd78186a927d', 'name': '2000-01-13', 'properties': <Property Weight>} (line 265)\n",
      "warning[None:302:<section>]: missing element <type> within <section> tag{'oid': '7e1193cd-247e-4cb2-acf2-55d9331331cf', 'name': '2000-01-14', 'properties': <Property Weight>} (line 302)\n",
      "warning[None:339:<section>]: missing element <type> within <section> tag{'oid': '611368c4-bd5e-44fb-9f31-876785844f8c', 'name': '2000-01-15', 'properties': <Property Weight>} (line 339)\n",
      "warning[None:376:<section>]: missing element <type> within <section> tag{'oid': '20b1f446-f316-46ca-bb00-767afc12aee3', 'name': '2000-01-16', 'properties': <Property Weight>} (line 376)\n",
      "warning[None:413:<section>]: missing element <type> within <section> tag{'oid': 'dda45008-63a7-4c5d-84bc-e600e3de364d', 'name': '2000-01-17', 'properties': <Property Weight>} (line 413)\n",
      "warning[None:450:<section>]: missing element <type> within <section> tag{'oid': '62467bc3-ae3f-4049-bd7f-d2386fcc5346', 'name': '2000-01-18', 'properties': <Property Weight>} (line 450)\n",
      "warning[None:487:<section>]: missing element <type> within <section> tag{'oid': '001b71ee-7950-4c85-b237-d8f1e06b3421', 'name': '2000-01-19', 'properties': <Property Weight>} (line 487)\n",
      "warning[None:524:<section>]: missing element <type> within <section> tag{'oid': '910eef6b-cd11-4ca3-b3d2-10661d5b618a', 'name': '2000-01-20', 'properties': <Property Weight>} (line 524)\n",
      "warning[None:6:<section>]: missing element <type> within <section> tag{'oid': 'c16d3801-0bee-4c7c-b070-e835014270c1', 'name': '2000-01-06', 'properties': <Property Weight>} (line 6)\n",
      "warning[None:6:<section>]: missing element <type> within <section> tag{'oid': 'bd9f16a3-ffb2-4322-b363-218240a1457a', 'name': '2000-01-01', 'properties': <Property Weight>} (line 6)\n",
      "warning[None:43:<section>]: missing element <type> within <section> tag{'oid': 'f634651c-a80d-4f4d-ad45-995838c6aad5', 'name': '2000-01-02', 'properties': <Property Weight>} (line 43)\n",
      "warning[None:80:<section>]: missing element <type> within <section> tag{'oid': 'a1f89b44-6e11-42b6-b58d-c146ca26949c', 'name': '2000-01-03', 'properties': <Property Weight>} (line 80)\n",
      "warning[None:117:<section>]: missing element <type> within <section> tag{'oid': 'a508f1fc-0ff3-402c-95b6-3331b189eb83', 'name': '2000-01-04', 'properties': <Property Weight>} (line 117)\n",
      "warning[None:154:<section>]: missing element <type> within <section> tag{'oid': 'e3f76a89-2ad0-4d17-ab6c-3f7d77a301d6', 'name': '2000-01-05', 'properties': <Property Weight>} (line 154)\n",
      "warning[None:191:<section>]: missing element <type> within <section> tag{'oid': '5fc90074-da33-4ce2-b8a6-bbe7da944778', 'name': '2000-01-06', 'properties': <Property Weight>} (line 191)\n",
      "warning[None:228:<section>]: missing element <type> within <section> tag{'oid': 'ad61b98f-c88d-44c1-85d5-c382945a5216', 'name': '2000-01-11', 'properties': <Property Weight>} (line 228)\n",
      "warning[None:265:<section>]: missing element <type> within <section> tag{'oid': '0b282c52-5592-4f9f-a1ce-b4e0d0907e80', 'name': '2000-01-12', 'properties': <Property Weight>} (line 265)\n",
      "warning[None:302:<section>]: missing element <type> within <section> tag{'oid': '3a094d21-b293-4c27-b850-d3ca33a19533', 'name': '2000-01-13', 'properties': <Property Weight>} (line 302)\n",
      "warning[None:339:<section>]: missing element <type> within <section> tag{'oid': '431e5fde-4939-4bd5-bd36-8a033059c548', 'name': '2000-01-14', 'properties': <Property Weight>} (line 339)\n",
      "warning[None:376:<section>]: missing element <type> within <section> tag{'oid': '1c70b82e-4f2b-40cb-beac-f20a61cca30a', 'name': '2000-01-15', 'properties': <Property Weight>} (line 376)\n",
      "warning[None:413:<section>]: missing element <type> within <section> tag{'oid': '0a4fa4e6-f813-4685-9ea0-73a46d70317f', 'name': '2000-01-16', 'properties': <Property Weight>} (line 413)\n",
      "warning[None:450:<section>]: missing element <type> within <section> tag{'oid': '8cc8ac3c-3cd7-4632-ba68-09d1cfa6122f', 'name': '2000-01-17', 'properties': <Property Weight>} (line 450)\n",
      "warning[None:487:<section>]: missing element <type> within <section> tag{'oid': '8226da11-cecf-42ad-aaab-75cb4988cc57', 'name': '2000-01-18', 'properties': <Property Weight>} (line 487)\n",
      "warning[None:524:<section>]: missing element <type> within <section> tag{'oid': '33025545-fe81-40db-96cb-0a9b891eb2ed', 'name': '2000-01-19', 'properties': <Property Weight>} (line 524)\n",
      "warning[None:561:<section>]: missing element <type> within <section> tag{'oid': 'e20364ed-7a4a-49d5-b439-8d3c9347cfbe', 'name': '2000-01-20', 'properties': <Property Weight>} (line 561)\n"
     ]
    },
    {
     "name": "stderr",
     "output_type": "stream",
     "text": [
      "warning[None:6:<section>]: missing element <type> within <section> tag{'oid': '77ec520c-2504-46ff-98b8-6b050e6df85d', 'name': '2000-01-07', 'properties': <Property Weight>} (line 6)\n",
      "warning[None:6:<section>]: missing element <type> within <section> tag{'oid': '3408e518-334f-45e6-8d68-5afc4a4a8aaf', 'name': '2000-01-01', 'properties': <Property Weight>} (line 6)\n",
      "warning[None:43:<section>]: missing element <type> within <section> tag{'oid': '53945995-8ed2-4691-b3ee-dd08ee83d16c', 'name': '2000-01-02', 'properties': <Property Weight>} (line 43)\n",
      "warning[None:80:<section>]: missing element <type> within <section> tag{'oid': '679b891b-7f1f-4ff8-b941-ced8d33b651e', 'name': '2000-01-03', 'properties': <Property Weight>} (line 80)\n",
      "warning[None:117:<section>]: missing element <type> within <section> tag{'oid': 'ab17c1f7-d876-4bf4-ba9c-e58b1c36b3cf', 'name': '2000-01-04', 'properties': <Property Weight>} (line 117)\n",
      "warning[None:154:<section>]: missing element <type> within <section> tag{'oid': '392d1157-19c2-4b01-80cc-41d45d4dd3b3', 'name': '2000-01-05', 'properties': <Property Weight>} (line 154)\n",
      "warning[None:191:<section>]: missing element <type> within <section> tag{'oid': 'd9b2b55d-692b-49d3-9d3a-2ee1f4c2aad8', 'name': '2000-01-06', 'properties': <Property Weight>} (line 191)\n",
      "warning[None:228:<section>]: missing element <type> within <section> tag{'oid': '851be47f-1964-4673-8bcf-ae3f66815cce', 'name': '2000-01-07', 'properties': <Property Weight>} (line 228)\n",
      "warning[None:265:<section>]: missing element <type> within <section> tag{'oid': '2d478a68-8066-46ff-8f8b-a37121b38377', 'name': '2000-01-11', 'properties': <Property Weight>} (line 265)\n",
      "warning[None:302:<section>]: missing element <type> within <section> tag{'oid': '9a88fd95-99a9-4de5-865a-77174d0d1741', 'name': '2000-01-12', 'properties': <Property Weight>} (line 302)\n",
      "warning[None:339:<section>]: missing element <type> within <section> tag{'oid': 'fcc75b7d-4e20-45f0-b742-5846e01dce42', 'name': '2000-01-13', 'properties': <Property Weight>} (line 339)\n",
      "warning[None:376:<section>]: missing element <type> within <section> tag{'oid': 'bf8945c2-f0e7-4c9b-bce0-c7de5fe3383d', 'name': '2000-01-14', 'properties': <Property Weight>} (line 376)\n",
      "warning[None:413:<section>]: missing element <type> within <section> tag{'oid': 'b9d87c19-309c-4541-b3cf-ce1fb8e27e7b', 'name': '2000-01-15', 'properties': <Property Weight>} (line 413)\n",
      "warning[None:450:<section>]: missing element <type> within <section> tag{'oid': '8437767a-d844-4065-92c6-1162f24f76ff', 'name': '2000-01-16', 'properties': <Property Weight>} (line 450)\n",
      "warning[None:487:<section>]: missing element <type> within <section> tag{'oid': '1fc10436-310f-464b-bbb9-b6e8fc61af68', 'name': '2000-01-17', 'properties': <Property Weight>} (line 487)\n",
      "warning[None:524:<section>]: missing element <type> within <section> tag{'oid': '081ba9f1-1ee7-40db-811a-ee8c409d9317', 'name': '2000-01-18', 'properties': <Property Weight>} (line 524)\n",
      "warning[None:561:<section>]: missing element <type> within <section> tag{'oid': '28b0aaab-31b4-4e46-adce-7bf17bd99dfb', 'name': '2000-01-19', 'properties': <Property Weight>} (line 561)\n",
      "warning[None:598:<section>]: missing element <type> within <section> tag{'oid': 'e4ea40b1-b096-48cf-831a-d13608690e90', 'name': '2000-01-20', 'properties': <Property Weight>} (line 598)\n",
      "warning[None:6:<section>]: missing element <type> within <section> tag{'oid': 'c4e72104-f515-4c7e-abca-68fe724fb1f2', 'name': '2000-01-08', 'properties': <Property Weight>} (line 6)\n",
      "warning[None:6:<section>]: missing element <type> within <section> tag{'oid': '9c4a1545-8829-4410-ad95-dd316c9039dd', 'name': '2000-01-01', 'properties': <Property Weight>} (line 6)\n",
      "warning[None:43:<section>]: missing element <type> within <section> tag{'oid': '9a6cd17a-205b-45a8-a2ea-b0865c0ec10f', 'name': '2000-01-02', 'properties': <Property Weight>} (line 43)\n",
      "warning[None:80:<section>]: missing element <type> within <section> tag{'oid': '73288b17-1c47-48ab-aa93-abd8904a70a9', 'name': '2000-01-03', 'properties': <Property Weight>} (line 80)\n",
      "warning[None:117:<section>]: missing element <type> within <section> tag{'oid': 'c7d94575-26e4-427a-9732-ccf061e3e106', 'name': '2000-01-04', 'properties': <Property Weight>} (line 117)\n",
      "warning[None:154:<section>]: missing element <type> within <section> tag{'oid': '5776fb7c-11bc-4182-9d9c-f5832e4b5eab', 'name': '2000-01-05', 'properties': <Property Weight>} (line 154)\n",
      "warning[None:191:<section>]: missing element <type> within <section> tag{'oid': 'a5400339-a974-402c-8fe7-06d1a91a8a3b', 'name': '2000-01-06', 'properties': <Property Weight>} (line 191)\n",
      "warning[None:228:<section>]: missing element <type> within <section> tag{'oid': '5fd15b28-4dd3-4056-9e6d-1067d18153e3', 'name': '2000-01-07', 'properties': <Property Weight>} (line 228)\n",
      "warning[None:265:<section>]: missing element <type> within <section> tag{'oid': '006825d4-9ee8-4933-b12d-16bd34eff2eb', 'name': '2000-01-08', 'properties': <Property Weight>} (line 265)\n",
      "warning[None:302:<section>]: missing element <type> within <section> tag{'oid': 'e75e0711-01a7-49db-b30f-4aba4c7481b9', 'name': '2000-01-11', 'properties': <Property Weight>} (line 302)\n",
      "warning[None:339:<section>]: missing element <type> within <section> tag{'oid': 'e1e24ba2-e63a-4f54-ba3d-88a3416c1f7a', 'name': '2000-01-12', 'properties': <Property Weight>} (line 339)\n",
      "warning[None:376:<section>]: missing element <type> within <section> tag{'oid': 'c551fc3a-f0d9-4d97-92c6-e1457b1cb022', 'name': '2000-01-13', 'properties': <Property Weight>} (line 376)\n",
      "warning[None:413:<section>]: missing element <type> within <section> tag{'oid': '019e5fc6-eecb-4ee6-8c79-56118b6e2f2e', 'name': '2000-01-14', 'properties': <Property Weight>} (line 413)\n",
      "warning[None:450:<section>]: missing element <type> within <section> tag{'oid': 'cd129d33-0c13-4105-8b7f-42017983600d', 'name': '2000-01-15', 'properties': <Property Weight>} (line 450)\n",
      "warning[None:487:<section>]: missing element <type> within <section> tag{'oid': 'a36879a0-cbe5-4196-929d-5785620a1bbe', 'name': '2000-01-16', 'properties': <Property Weight>} (line 487)\n",
      "warning[None:524:<section>]: missing element <type> within <section> tag{'oid': 'a81702f3-676a-4979-ac8a-9f458eb90360', 'name': '2000-01-17', 'properties': <Property Weight>} (line 524)\n",
      "warning[None:561:<section>]: missing element <type> within <section> tag{'oid': '3646e87a-669d-4455-bcae-26bdb47ec79b', 'name': '2000-01-18', 'properties': <Property Weight>} (line 561)\n",
      "warning[None:598:<section>]: missing element <type> within <section> tag{'oid': 'e5acf5ee-95fd-4eed-9103-588982cadb12', 'name': '2000-01-19', 'properties': <Property Weight>} (line 598)\n",
      "warning[None:635:<section>]: missing element <type> within <section> tag{'oid': '1d1cf3d7-2173-4987-8819-9ec44c49d3a4', 'name': '2000-01-20', 'properties': <Property Weight>} (line 635)\n",
      "warning[None:6:<section>]: missing element <type> within <section> tag{'oid': 'ff67bab0-1224-4958-a5b7-d91a087bdc99', 'name': '2000-01-09', 'properties': <Property Weight>} (line 6)\n",
      "warning[None:6:<section>]: missing element <type> within <section> tag{'oid': 'db4769d4-c0bf-4b13-b378-4acbccb325d8', 'name': '2000-01-01', 'properties': <Property Weight>} (line 6)\n",
      "warning[None:43:<section>]: missing element <type> within <section> tag{'oid': 'e1e2471f-adf7-492a-8658-7454d7096aaa', 'name': '2000-01-02', 'properties': <Property Weight>} (line 43)\n",
      "warning[None:80:<section>]: missing element <type> within <section> tag{'oid': 'de8ae305-baf2-4e94-8a78-76b095cff2f1', 'name': '2000-01-03', 'properties': <Property Weight>} (line 80)\n",
      "warning[None:117:<section>]: missing element <type> within <section> tag{'oid': '30b61e71-7b42-44f8-be09-0ab0a58b0ff6', 'name': '2000-01-04', 'properties': <Property Weight>} (line 117)\n",
      "warning[None:154:<section>]: missing element <type> within <section> tag{'oid': 'd9181b1c-b835-42e7-a8e0-ff322bf741e5', 'name': '2000-01-05', 'properties': <Property Weight>} (line 154)\n",
      "warning[None:191:<section>]: missing element <type> within <section> tag{'oid': '03f45456-f475-4c9e-a530-ea2b1b1a1bb3', 'name': '2000-01-06', 'properties': <Property Weight>} (line 191)\n",
      "warning[None:228:<section>]: missing element <type> within <section> tag{'oid': 'aa7e6787-659c-4c9d-af8c-78657eba3126', 'name': '2000-01-07', 'properties': <Property Weight>} (line 228)\n",
      "warning[None:265:<section>]: missing element <type> within <section> tag{'oid': 'e05f2850-662a-4f28-9b09-a47b86ee7ee9', 'name': '2000-01-08', 'properties': <Property Weight>} (line 265)\n",
      "warning[None:302:<section>]: missing element <type> within <section> tag{'oid': '8d9f5357-b485-4c3f-bc6f-ade3500fed2a', 'name': '2000-01-09', 'properties': <Property Weight>} (line 302)\n",
      "warning[None:339:<section>]: missing element <type> within <section> tag{'oid': '38633bc8-64e9-4b0a-bad1-8cf005560fe8', 'name': '2000-01-11', 'properties': <Property Weight>} (line 339)\n",
      "warning[None:376:<section>]: missing element <type> within <section> tag{'oid': '6633b10c-b026-49c2-a32d-fe23af434724', 'name': '2000-01-12', 'properties': <Property Weight>} (line 376)\n",
      "warning[None:413:<section>]: missing element <type> within <section> tag{'oid': '9eaeb988-534b-4521-9aba-fe739c55188e', 'name': '2000-01-13', 'properties': <Property Weight>} (line 413)\n",
      "warning[None:450:<section>]: missing element <type> within <section> tag{'oid': '8ff274b7-8f40-4e00-821f-b5e6f583c68d', 'name': '2000-01-14', 'properties': <Property Weight>} (line 450)\n",
      "warning[None:487:<section>]: missing element <type> within <section> tag{'oid': 'd018218e-dddd-4541-b66a-2df1c30ebcb9', 'name': '2000-01-15', 'properties': <Property Weight>} (line 487)\n",
      "warning[None:524:<section>]: missing element <type> within <section> tag{'oid': '95597bfb-11ef-40d6-953b-7a6bd16bc46a', 'name': '2000-01-16', 'properties': <Property Weight>} (line 524)\n",
      "warning[None:561:<section>]: missing element <type> within <section> tag{'oid': '1f6b7bc3-6c16-462b-a983-f8c22ccf337b', 'name': '2000-01-17', 'properties': <Property Weight>} (line 561)\n",
      "warning[None:598:<section>]: missing element <type> within <section> tag{'oid': 'ed234ff0-f382-49a2-be3d-f26fb8fb0598', 'name': '2000-01-18', 'properties': <Property Weight>} (line 598)\n",
      "warning[None:635:<section>]: missing element <type> within <section> tag{'oid': 'd9732c5b-224f-45cd-ba77-4b055c6a173f', 'name': '2000-01-19', 'properties': <Property Weight>} (line 635)\n",
      "warning[None:672:<section>]: missing element <type> within <section> tag{'oid': '3bfdf6f9-a5b3-4e4c-b2e3-c56687dca4d0', 'name': '2000-01-20', 'properties': <Property Weight>} (line 672)\n",
      "warning[None:6:<section>]: missing element <type> within <section> tag{'oid': '3de6aed4-e37f-490c-82b7-4277645bf6a0', 'name': '2000-01-10', 'properties': <Property Weight>} (line 6)\n",
      "warning[None:6:<section>]: missing element <type> within <section> tag{'oid': '24b51fb7-e402-44d6-8181-470ff16a41f2', 'name': '2000-01-01', 'properties': <Property Weight>} (line 6)\n",
      "warning[None:43:<section>]: missing element <type> within <section> tag{'oid': 'f8fe2819-b789-4420-b340-ecd189839aed', 'name': '2000-01-02', 'properties': <Property Weight>} (line 43)\n",
      "warning[None:80:<section>]: missing element <type> within <section> tag{'oid': 'c0dddebc-1b02-40f5-832b-61edc0718766', 'name': '2000-01-03', 'properties': <Property Weight>} (line 80)\n",
      "warning[None:117:<section>]: missing element <type> within <section> tag{'oid': 'ce38790c-4ea0-4dbe-97f5-258dc804fa3a', 'name': '2000-01-04', 'properties': <Property Weight>} (line 117)\n",
      "warning[None:154:<section>]: missing element <type> within <section> tag{'oid': 'c077e50c-dacc-4de3-9fcd-9d4920da2bed', 'name': '2000-01-05', 'properties': <Property Weight>} (line 154)\n",
      "warning[None:191:<section>]: missing element <type> within <section> tag{'oid': '311584c5-3b61-4b1d-8e68-064cc8829450', 'name': '2000-01-06', 'properties': <Property Weight>} (line 191)\n",
      "warning[None:228:<section>]: missing element <type> within <section> tag{'oid': 'f287f8c6-44e5-4b06-a86a-c3f3596823c9', 'name': '2000-01-07', 'properties': <Property Weight>} (line 228)\n",
      "warning[None:265:<section>]: missing element <type> within <section> tag{'oid': '42bb1168-b214-470a-ac8c-fc81f0069395', 'name': '2000-01-08', 'properties': <Property Weight>} (line 265)\n",
      "warning[None:302:<section>]: missing element <type> within <section> tag{'oid': 'e3636996-4fc3-4acb-8665-9e79b2f7716f', 'name': '2000-01-09', 'properties': <Property Weight>} (line 302)\n",
      "warning[None:339:<section>]: missing element <type> within <section> tag{'oid': '9de4fa0a-8ad2-489d-8ae7-0f30312bd845', 'name': '2000-01-10', 'properties': <Property Weight>} (line 339)\n",
      "warning[None:376:<section>]: missing element <type> within <section> tag{'oid': '7f54561d-bbf5-4d18-9fcc-eca27739365c', 'name': '2000-01-11', 'properties': <Property Weight>} (line 376)\n",
      "warning[None:413:<section>]: missing element <type> within <section> tag{'oid': '02d0c521-78cd-4d97-812c-9e04d2dfda60', 'name': '2000-01-12', 'properties': <Property Weight>} (line 413)\n",
      "warning[None:450:<section>]: missing element <type> within <section> tag{'oid': '75ce65ca-1971-4353-9148-771704df3888', 'name': '2000-01-13', 'properties': <Property Weight>} (line 450)\n",
      "warning[None:487:<section>]: missing element <type> within <section> tag{'oid': 'c0860a56-827b-4918-9b78-8e17668d9ca0', 'name': '2000-01-14', 'properties': <Property Weight>} (line 487)\n",
      "warning[None:524:<section>]: missing element <type> within <section> tag{'oid': '93b10cfb-c3e5-4022-af92-185cdc74d0a4', 'name': '2000-01-15', 'properties': <Property Weight>} (line 524)\n",
      "warning[None:561:<section>]: missing element <type> within <section> tag{'oid': '550585b4-3308-4bf3-95ff-59c08399eb3b', 'name': '2000-01-16', 'properties': <Property Weight>} (line 561)\n",
      "warning[None:598:<section>]: missing element <type> within <section> tag{'oid': '50f213a0-153a-4e01-aede-99a11c0cfa02', 'name': '2000-01-17', 'properties': <Property Weight>} (line 598)\n",
      "warning[None:635:<section>]: missing element <type> within <section> tag{'oid': 'bc7c5a42-b3e5-42e4-832f-c7929005d932', 'name': '2000-01-18', 'properties': <Property Weight>} (line 635)\n",
      "warning[None:672:<section>]: missing element <type> within <section> tag{'oid': 'b86aeead-186e-44f1-9abe-2b89fefab77e', 'name': '2000-01-19', 'properties': <Property Weight>} (line 672)\n",
      "warning[None:709:<section>]: missing element <type> within <section> tag{'oid': '4d8bffac-ae00-4e50-8e46-a57a341ecf1c', 'name': '2000-01-20', 'properties': <Property Weight>} (line 709)\n"
     ]
    },
    {
     "name": "stderr",
     "output_type": "stream",
     "text": [
      "warning[None:6:<section>]: missing element <type> within <section> tag{'oid': '24b51fb7-e402-44d6-8181-470ff16a41f2', 'name': '2000-01-01', 'properties': <Property Weight>} (line 6)\n",
      "warning[None:43:<section>]: missing element <type> within <section> tag{'oid': 'f8fe2819-b789-4420-b340-ecd189839aed', 'name': '2000-01-02', 'properties': <Property Weight>} (line 43)\n",
      "warning[None:80:<section>]: missing element <type> within <section> tag{'oid': 'c0dddebc-1b02-40f5-832b-61edc0718766', 'name': '2000-01-03', 'properties': <Property Weight>} (line 80)\n",
      "warning[None:117:<section>]: missing element <type> within <section> tag{'oid': 'ce38790c-4ea0-4dbe-97f5-258dc804fa3a', 'name': '2000-01-04', 'properties': <Property Weight>} (line 117)\n",
      "warning[None:154:<section>]: missing element <type> within <section> tag{'oid': 'c077e50c-dacc-4de3-9fcd-9d4920da2bed', 'name': '2000-01-05', 'properties': <Property Weight>} (line 154)\n",
      "warning[None:191:<section>]: missing element <type> within <section> tag{'oid': '311584c5-3b61-4b1d-8e68-064cc8829450', 'name': '2000-01-06', 'properties': <Property Weight>} (line 191)\n",
      "warning[None:228:<section>]: missing element <type> within <section> tag{'oid': 'f287f8c6-44e5-4b06-a86a-c3f3596823c9', 'name': '2000-01-07', 'properties': <Property Weight>} (line 228)\n",
      "warning[None:265:<section>]: missing element <type> within <section> tag{'oid': '42bb1168-b214-470a-ac8c-fc81f0069395', 'name': '2000-01-08', 'properties': <Property Weight>} (line 265)\n",
      "warning[None:302:<section>]: missing element <type> within <section> tag{'oid': 'e3636996-4fc3-4acb-8665-9e79b2f7716f', 'name': '2000-01-09', 'properties': <Property Weight>} (line 302)\n",
      "warning[None:339:<section>]: missing element <type> within <section> tag{'oid': '9de4fa0a-8ad2-489d-8ae7-0f30312bd845', 'name': '2000-01-10', 'properties': <Property Weight>} (line 339)\n",
      "warning[None:376:<section>]: missing element <type> within <section> tag{'oid': '7f54561d-bbf5-4d18-9fcc-eca27739365c', 'name': '2000-01-11', 'properties': <Property Weight>} (line 376)\n",
      "warning[None:413:<section>]: missing element <type> within <section> tag{'oid': '02d0c521-78cd-4d97-812c-9e04d2dfda60', 'name': '2000-01-12', 'properties': <Property Weight>} (line 413)\n",
      "warning[None:450:<section>]: missing element <type> within <section> tag{'oid': '75ce65ca-1971-4353-9148-771704df3888', 'name': '2000-01-13', 'properties': <Property Weight>} (line 450)\n",
      "warning[None:487:<section>]: missing element <type> within <section> tag{'oid': 'c0860a56-827b-4918-9b78-8e17668d9ca0', 'name': '2000-01-14', 'properties': <Property Weight>} (line 487)\n",
      "warning[None:524:<section>]: missing element <type> within <section> tag{'oid': '93b10cfb-c3e5-4022-af92-185cdc74d0a4', 'name': '2000-01-15', 'properties': <Property Weight>} (line 524)\n",
      "warning[None:561:<section>]: missing element <type> within <section> tag{'oid': '550585b4-3308-4bf3-95ff-59c08399eb3b', 'name': '2000-01-16', 'properties': <Property Weight>} (line 561)\n",
      "warning[None:598:<section>]: missing element <type> within <section> tag{'oid': '50f213a0-153a-4e01-aede-99a11c0cfa02', 'name': '2000-01-17', 'properties': <Property Weight>} (line 598)\n",
      "warning[None:635:<section>]: missing element <type> within <section> tag{'oid': 'bc7c5a42-b3e5-42e4-832f-c7929005d932', 'name': '2000-01-18', 'properties': <Property Weight>} (line 635)\n",
      "warning[None:672:<section>]: missing element <type> within <section> tag{'oid': 'b86aeead-186e-44f1-9abe-2b89fefab77e', 'name': '2000-01-19', 'properties': <Property Weight>} (line 672)\n",
      "warning[None:709:<section>]: missing element <type> within <section> tag{'oid': '4d8bffac-ae00-4e50-8e46-a57a341ecf1c', 'name': '2000-01-20', 'properties': <Property Weight>} (line 709)\n",
      "warning[None:6:<section>]: missing element <type> within <section> tag{'oid': '24b51fb7-e402-44d6-8181-470ff16a41f2', 'name': '2000-01-01', 'properties': <Property Weight>} (line 6)\n",
      "warning[None:43:<section>]: missing element <type> within <section> tag{'oid': 'f8fe2819-b789-4420-b340-ecd189839aed', 'name': '2000-01-02', 'properties': <Property Weight>} (line 43)\n",
      "warning[None:80:<section>]: missing element <type> within <section> tag{'oid': 'c0dddebc-1b02-40f5-832b-61edc0718766', 'name': '2000-01-03', 'properties': <Property Weight>} (line 80)\n",
      "warning[None:117:<section>]: missing element <type> within <section> tag{'oid': 'ce38790c-4ea0-4dbe-97f5-258dc804fa3a', 'name': '2000-01-04', 'properties': <Property Weight>} (line 117)\n",
      "warning[None:154:<section>]: missing element <type> within <section> tag{'oid': 'c077e50c-dacc-4de3-9fcd-9d4920da2bed', 'name': '2000-01-05', 'properties': <Property Weight>} (line 154)\n",
      "warning[None:191:<section>]: missing element <type> within <section> tag{'oid': '311584c5-3b61-4b1d-8e68-064cc8829450', 'name': '2000-01-06', 'properties': <Property Weight>} (line 191)\n",
      "warning[None:228:<section>]: missing element <type> within <section> tag{'oid': 'f287f8c6-44e5-4b06-a86a-c3f3596823c9', 'name': '2000-01-07', 'properties': <Property Weight>} (line 228)\n",
      "warning[None:265:<section>]: missing element <type> within <section> tag{'oid': '42bb1168-b214-470a-ac8c-fc81f0069395', 'name': '2000-01-08', 'properties': <Property Weight>} (line 265)\n",
      "warning[None:302:<section>]: missing element <type> within <section> tag{'oid': 'e3636996-4fc3-4acb-8665-9e79b2f7716f', 'name': '2000-01-09', 'properties': <Property Weight>} (line 302)\n",
      "warning[None:339:<section>]: missing element <type> within <section> tag{'oid': '9de4fa0a-8ad2-489d-8ae7-0f30312bd845', 'name': '2000-01-10', 'properties': <Property Weight>} (line 339)\n",
      "warning[None:376:<section>]: missing element <type> within <section> tag{'oid': '7f54561d-bbf5-4d18-9fcc-eca27739365c', 'name': '2000-01-11', 'properties': <Property Weight>} (line 376)\n",
      "warning[None:413:<section>]: missing element <type> within <section> tag{'oid': '02d0c521-78cd-4d97-812c-9e04d2dfda60', 'name': '2000-01-12', 'properties': <Property Weight>} (line 413)\n",
      "warning[None:450:<section>]: missing element <type> within <section> tag{'oid': '75ce65ca-1971-4353-9148-771704df3888', 'name': '2000-01-13', 'properties': <Property Weight>} (line 450)\n",
      "warning[None:487:<section>]: missing element <type> within <section> tag{'oid': 'c0860a56-827b-4918-9b78-8e17668d9ca0', 'name': '2000-01-14', 'properties': <Property Weight>} (line 487)\n",
      "warning[None:524:<section>]: missing element <type> within <section> tag{'oid': '93b10cfb-c3e5-4022-af92-185cdc74d0a4', 'name': '2000-01-15', 'properties': <Property Weight>} (line 524)\n",
      "warning[None:561:<section>]: missing element <type> within <section> tag{'oid': '550585b4-3308-4bf3-95ff-59c08399eb3b', 'name': '2000-01-16', 'properties': <Property Weight>} (line 561)\n",
      "warning[None:598:<section>]: missing element <type> within <section> tag{'oid': '50f213a0-153a-4e01-aede-99a11c0cfa02', 'name': '2000-01-17', 'properties': <Property Weight>} (line 598)\n",
      "warning[None:635:<section>]: missing element <type> within <section> tag{'oid': 'bc7c5a42-b3e5-42e4-832f-c7929005d932', 'name': '2000-01-18', 'properties': <Property Weight>} (line 635)\n",
      "warning[None:672:<section>]: missing element <type> within <section> tag{'oid': 'b86aeead-186e-44f1-9abe-2b89fefab77e', 'name': '2000-01-19', 'properties': <Property Weight>} (line 672)\n",
      "warning[None:709:<section>]: missing element <type> within <section> tag{'oid': '4d8bffac-ae00-4e50-8e46-a57a341ecf1c', 'name': '2000-01-20', 'properties': <Property Weight>} (line 709)\n"
     ]
    },
    {
     "data": {
      "text/plain": [
       "<os._wrap_close at 0x7fc73c6a2b70>"
      ]
     },
     "execution_count": 14,
     "metadata": {},
     "output_type": "execute_result"
    }
   ],
   "source": [
    "# metadata workflow based on previously generated collection of csv files\n",
    "import glob\n",
    "def process_all_metadata(folder):\n",
    "    \"\"\" Find daily score sheets, merge them into complete metadata collection and generate visualizations. \"\"\"\n",
    "    # extract all metadata files present in this folder\n",
    "    source_files = sorted(glob.glob(folder + '/score_sheet_day*.csv'))\n",
    "    if not source_files:\n",
    "        return None\n",
    "    \n",
    "    # convert first source file to add other files to\n",
    "    score_sheet_to_odml(source_files[0])\n",
    "    os.rename(source_files[0][:-4] + '.odml', folder + '/score_sheet_complete.odml')\n",
    "    \n",
    "    # convert all other source files\n",
    "    for source_file in source_files[1:]:\n",
    "        score_sheet_to_odml(source_file)\n",
    "        merge_score_sheets(folder + '/score_sheet_complete.odml',\n",
    "                           source_file[:-4] + '.odml')\n",
    "        \n",
    "    # create visualization and comparison tables\n",
    "    visualize_as_xls(folder + '/score_sheet_complete.odml')\n",
    "    generate_overview(folder + '/score_sheet_complete.odml')\n",
    "    \n",
    "# run complete metadata workflow from score sheet detection to visualization generation\n",
    "process_all_metadata('./complete_workflow')\n",
    "\n",
    "# copy style sheet for visualization in browser\n",
    "os.popen('cp odml.xsl ./complete_workflow/odml.xsl')"
   ]
  },
  {
   "cell_type": "markdown",
   "metadata": {},
   "source": [
    "This generates in addition to the dummy score sheet in the subfolder `complete_workflow` a [complete metadata collection in a single odML file](./complete_workflow/score_sheet_complete.odml) as well as two `xls` files for [visualization](./complete_workflow/score_sheet_complete.xls) of the odML structure and an [overview](./complete_workflow/score_sheet_complete_overview.xls) across all common properties within the complete metadata collection."
   ]
  }
 ],
 "metadata": {
  "kernelspec": {
   "display_name": "Python 3",
   "language": "python",
   "name": "python3"
  },
  "language_info": {
   "codemirror_mode": {
    "name": "ipython",
    "version": 3
   },
   "file_extension": ".py",
   "mimetype": "text/x-python",
   "name": "python",
   "nbconvert_exporter": "python",
   "pygments_lexer": "ipython3",
   "version": "3.7.0"
  }
 },
 "nbformat": 4,
 "nbformat_minor": 2
}

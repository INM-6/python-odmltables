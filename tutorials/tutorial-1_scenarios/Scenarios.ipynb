{
 "cells": [
  {
   "cell_type": "code",
   "execution_count": 1,
   "metadata": {},
   "outputs": [],
   "source": [
    "# This is a temporary solution, until fixes for https://github.com/G-Node/python-odml/issues/289 are released\n",
    "!pip install git+https://github.com/g-node/python-odml.git@master --upgrade --quiet"
   ]
  },
  {
   "cell_type": "markdown",
   "metadata": {},
   "source": [
    "# odMLtables scenarios"
   ]
  },
  {
   "cell_type": "markdown",
   "metadata": {},
   "source": [
    "This tutorial is an implementation of the scenarios described in *Sprenger et al (in prep.) odMLtables: A user-friendly approach for managing metadata of neurophysiological experiments* The scenarios present a simple, but realistic use case of odML and odMLtables in an experimental lab and are a good start to start using odML and odMLtables. Modification of this jupyter notebook is highly encuraged and can serve as a starting point for your own metadata workflow. For a detailed description of the individual scenarios, see *Sprenger et al. (in prep)*.\n",
    "\n",
    "To execute the steps of the tutorial, press *Ctrl + Enter* in the cell you want to execute."
   ]
  },
  {
   "cell_type": "markdown",
   "metadata": {},
   "source": [
    "### Scenario 1: How to generate a metadata template without programming language"
   ]
  },
  {
   "cell_type": "markdown",
   "metadata": {},
   "source": [
    "This scenario describes how a template structure for daily data collection can be set up. The example used here is the measurement of basic attributes of a mouse. The measures collected on a single day can be listed in a table as shown below, where *'YYYY-MM-DD'* specifies the measurement date."
   ]
  },
  {
   "cell_type": "markdown",
   "metadata": {},
   "source": [
    "| Date       | Measure             | Value    | Unit | Type   |\n",
    "|------------|---------------------|----------|------|--------|\n",
    "| YYYY-MM-DD | Weight              |          | g    | float  |\n",
    "|            | Water Intake        |          | ml   | float  |\n",
    "|            | Breathing Frequency |          | bpm  | float  |\n",
    "|            | Measured by         | John Doe |      | string |\n",
    "|            | Comment             |          |      | string |"
   ]
  },
  {
   "cell_type": "markdown",
   "metadata": {},
   "source": [
    "This table can be generated using any spreadsheet software. Possible formats supported by odMLtables are *.xls* and *.csv*. A possible implementation using Microsoft Excel or LibreOffice Calc can include color coding to aid visual inspection and might look like this"
   ]
  },
  {
   "cell_type": "markdown",
   "metadata": {},
   "source": [
    "![Screenshot%20from%202018-11-05%2013-47-44.png](attachment:Screenshot%20from%202018-11-05%2013-47-44.png)"
   ]
  },
  {
   "cell_type": "markdown",
   "metadata": {},
   "source": [
    " For simplicity, we generate a *.csv* file with the same content using Python here."
   ]
  },
  {
   "cell_type": "code",
   "execution_count": 2,
   "metadata": {},
   "outputs": [],
   "source": [
    "# string representation of the score sheet in csv format\n",
    "score_sheet = \\\n",
    "\"\"\"Date,Measure,Value,Unit,Type\n",
    "YYYY-MM-DD,Weight,,g,float\n",
    ",Water Intake,,ml,float\n",
    ",Breathing Frequency,,bpm,float\n",
    ",Measured by, John Doe,,string\n",
    ",Comment,,,string\n",
    "\"\"\"\n",
    "# write the string representation to disk\n",
    "with open('score_sheet.csv', 'w+') as f:\n",
    "    f.write(score_sheet)"
   ]
  },
  {
   "cell_type": "markdown",
   "metadata": {},
   "source": [
    "This [metadata template](score_sheet.csv) in *.csv* format can be converted to an odML file using odMLtables:"
   ]
  },
  {
   "cell_type": "code",
   "execution_count": 3,
   "metadata": {},
   "outputs": [],
   "source": [
    "import odmltables as odt\n",
    "\n",
    "def score_sheet_to_odml(csv_file):\n",
    "    \"\"\"Convert a score sheet from csv to odML format.\"\"\"\n",
    "    \n",
    "    # initialize an OdmlTable object for handling metadata\n",
    "    table = odt.OdmlTable()\n",
    "    # specify experiment specific headers used in the score sheet csv files (Date, Measure, Unit and Type)\n",
    "    table.change_header(Path=1, PropertyName=2, Value=3, DataUnit=4, odmlDatatype=5)\n",
    "    table.change_header_titles(Path='Date',PropertyName='Measure', DataUnit='Unit', odmlDatatype='Type')\n",
    "\n",
    "    # load from csv format and save in odML format\n",
    "    table.load_from_csv_table(csv_file)\n",
    "    table.write2odml(csv_file[:-4] + '.odml')\n",
    "    \n",
    "# convert the score sheet to odml format\n",
    "score_sheet_to_odml('score_sheet.csv')"
   ]
  },
  {
   "cell_type": "markdown",
   "metadata": {},
   "source": [
    "The resulting [odML file](score_sheet.odml) can be visualized in the browser using the `odml.xls` style sheet. When working locally on your computer, you can generate this visualization by opening the odML file in your browser while having the style sheet located in the same folder."
   ]
  },
  {
   "cell_type": "code",
   "execution_count": 4,
   "metadata": {},
   "outputs": [
    {
     "data": {
      "text/html": [
       "<html xmlns:fn=\"http://www.w3.org/2005/02/xpath-functions\" xmlns:odml=\"http://www.g-node.org/odml\">\n",
       "  <style type=\"text/css\">\n",
       "            body { margin-left:2%; margin-top:10px; padding:0;} div { border:0px solid #888; }\n",
       "\n",
       "            #navigationContainer { left:10%; width:95%;}\n",
       "\n",
       "            #contentContainer { left:10%; width:95%;}\n",
       "         </style>\n",
       "  <body>\n",
       "    <a name=\"top\" style=\"color:#336699\">\n",
       "      <h1>odML - Metadata</h1>\n",
       "    </a>\n",
       "    <div id=\"navigationContainer\">\n",
       "      <p>\n",
       "        <hr style=\"color:yellow; background-color:#336699; height:4px; margin-right:0; text-align:right; border:1px dashed black;\"/>\n",
       "        <h2>Document info</h2>\n",
       "        <b>Author: </b>\n",
       "        <br/>\n",
       "        <b>Date: </b>\n",
       "        <br/>\n",
       "        <b>Version: </b>\n",
       "        <br/>\n",
       "        <b>Repository: </b>\n",
       "        <br/>\n",
       "      </p>\n",
       "      <hr style=\"color:yellow; background-color:#336699; height:4px; margin-right:0; text-align:right; border:1px dashed black;\"/>\n",
       "      <h2>Structure</h2>\n",
       "      <font size=\"-1\">\n",
       "        <li>\n",
       "          <ol style=\"compact\">\n",
       "            <font size=\"normal\">\n",
       "              <a href=\"#Sec1\">YYYY-MM-DD (type: )\n",
       "               </a>\n",
       "            </font>\n",
       "          </ol>\n",
       "        </li>\n",
       "      </font>\n",
       "    </div>\n",
       "    <div id=\"contentContainer\">\n",
       "      <hr style=\"color:yellow; background-color:#336699; height:4px; margin-right:0; text-align:right; border:1px dashed black;\"/>\n",
       "      <h2>Content</h2>\n",
       "      <a name=\"Sec1\">\n",
       "        <h3>Section: YYYY-MM-DD</h3>\n",
       "      </a>\n",
       "      <p>\n",
       "        <b>Type: </b>\n",
       "        <br/>\n",
       "        <b>Repository: </b>\n",
       "        <br/>\n",
       "        <b>Link: </b>\n",
       "        <br/>\n",
       "        <b>Include:</b>\n",
       "        <br/>\n",
       "        <b>Definition:</b>\n",
       "        <br/>\n",
       "      </p>\n",
       "      <table border=\"1\" rules=\"rows\" width=\"100%\">\n",
       "        <font size=\"-1\">\n",
       "          <tr bgcolor=\"#336699\" valign=\"middle\" align=\"left\">\n",
       "            <th>\n",
       "              <font size=\"+1\" color=\"white\">\n",
       "                <b>Name</b>\n",
       "              </font>\n",
       "            </th>\n",
       "            <th>\n",
       "              <font size=\"+1\" color=\"white\">\n",
       "                <b>Value</b>\n",
       "              </font>\n",
       "            </th>\n",
       "            <th>\n",
       "              <font size=\"+1\" color=\"white\">\n",
       "                <b>Uncertainty</b>\n",
       "              </font>\n",
       "            </th>\n",
       "            <th>\n",
       "              <font size=\"+1\" color=\"white\">\n",
       "                <b>Unit</b>\n",
       "              </font>\n",
       "            </th>\n",
       "            <th>\n",
       "              <font size=\"+1\" color=\"white\">\n",
       "                <b>Type</b>\n",
       "              </font>\n",
       "            </th>\n",
       "            <th>\n",
       "              <font size=\"+1\" color=\"white\">\n",
       "                <b>Reference</b>\n",
       "              </font>\n",
       "            </th>\n",
       "            <th>\n",
       "              <font size=\"+1\" color=\"white\">\n",
       "                <b>Definition</b>\n",
       "              </font>\n",
       "            </th>\n",
       "            <th>\n",
       "              <font size=\"+1\" color=\"white\">\n",
       "                <b>Value origin</b>\n",
       "              </font>\n",
       "            </th>\n",
       "          </tr>\n",
       "          <tr>\n",
       "            <td width=\"15%\">\n",
       "              <a name=\"Breathing Frequency\"/>\n",
       "              <p>Breathing Frequency</p>\n",
       "            </td>\n",
       "            <td width=\"10%\">\n",
       "              <p/>\n",
       "            </td>\n",
       "            <td width=\"5%\">\n",
       "              <p/>\n",
       "            </td>\n",
       "            <td width=\"5%\">\n",
       "              <p>bpm</p>\n",
       "            </td>\n",
       "            <td width=\"5%\">\n",
       "              <p>float</p>\n",
       "            </td>\n",
       "            <td width=\"5%\">\n",
       "              <p/>\n",
       "            </td>\n",
       "            <td width=\"22.5%\">\n",
       "              <p/>\n",
       "            </td>\n",
       "            <td width=\"7.5%%\">\n",
       "              <p/>\n",
       "            </td>\n",
       "          </tr>\n",
       "          <tr>\n",
       "            <td width=\"15%\">\n",
       "              <a name=\"Comment\"/>\n",
       "              <p>Comment</p>\n",
       "            </td>\n",
       "            <td width=\"10%\">\n",
       "              <p/>\n",
       "            </td>\n",
       "            <td width=\"5%\">\n",
       "              <p/>\n",
       "            </td>\n",
       "            <td width=\"5%\">\n",
       "              <p/>\n",
       "            </td>\n",
       "            <td width=\"5%\">\n",
       "              <p>string</p>\n",
       "            </td>\n",
       "            <td width=\"5%\">\n",
       "              <p/>\n",
       "            </td>\n",
       "            <td width=\"22.5%\">\n",
       "              <p/>\n",
       "            </td>\n",
       "            <td width=\"7.5%%\">\n",
       "              <p/>\n",
       "            </td>\n",
       "          </tr>\n",
       "          <tr>\n",
       "            <td width=\"15%\">\n",
       "              <a name=\"Measured by\"/>\n",
       "              <p>Measured by</p>\n",
       "            </td>\n",
       "            <td width=\"10%\">\n",
       "              <p>John Doe</p>\n",
       "            </td>\n",
       "            <td width=\"5%\">\n",
       "              <p/>\n",
       "            </td>\n",
       "            <td width=\"5%\">\n",
       "              <p/>\n",
       "            </td>\n",
       "            <td width=\"5%\">\n",
       "              <p>string</p>\n",
       "            </td>\n",
       "            <td width=\"5%\">\n",
       "              <p/>\n",
       "            </td>\n",
       "            <td width=\"22.5%\">\n",
       "              <p/>\n",
       "            </td>\n",
       "            <td width=\"7.5%%\">\n",
       "              <p/>\n",
       "            </td>\n",
       "          </tr>\n",
       "          <tr>\n",
       "            <td width=\"15%\">\n",
       "              <a name=\"Water Intake\"/>\n",
       "              <p>Water Intake</p>\n",
       "            </td>\n",
       "            <td width=\"10%\">\n",
       "              <p/>\n",
       "            </td>\n",
       "            <td width=\"5%\">\n",
       "              <p/>\n",
       "            </td>\n",
       "            <td width=\"5%\">\n",
       "              <p>ml</p>\n",
       "            </td>\n",
       "            <td width=\"5%\">\n",
       "              <p>float</p>\n",
       "            </td>\n",
       "            <td width=\"5%\">\n",
       "              <p/>\n",
       "            </td>\n",
       "            <td width=\"22.5%\">\n",
       "              <p/>\n",
       "            </td>\n",
       "            <td width=\"7.5%%\">\n",
       "              <p/>\n",
       "            </td>\n",
       "          </tr>\n",
       "          <tr>\n",
       "            <td width=\"15%\">\n",
       "              <a name=\"Weight\"/>\n",
       "              <p>Weight</p>\n",
       "            </td>\n",
       "            <td width=\"10%\">\n",
       "              <p/>\n",
       "            </td>\n",
       "            <td width=\"5%\">\n",
       "              <p/>\n",
       "            </td>\n",
       "            <td width=\"5%\">\n",
       "              <p>g</p>\n",
       "            </td>\n",
       "            <td width=\"5%\">\n",
       "              <p>float</p>\n",
       "            </td>\n",
       "            <td width=\"5%\">\n",
       "              <p/>\n",
       "            </td>\n",
       "            <td width=\"22.5%\">\n",
       "              <p/>\n",
       "            </td>\n",
       "            <td width=\"7.5%%\">\n",
       "              <p/>\n",
       "            </td>\n",
       "          </tr>\n",
       "        </font>\n",
       "      </table>\n",
       "      <a href=\"#top\">\n",
       "        <tiny>top</tiny>\n",
       "      </a>\n",
       "      <hr style=\"background-color:#336699; height:1px; margin-right:0; text-align:right;\"/>\n",
       "    </div>\n",
       "  </body>\n",
       "</html>\n"
      ],
      "text/plain": [
       "<IPython.core.display.HTML object>"
      ]
     },
     "metadata": {},
     "output_type": "display_data"
    }
   ],
   "source": [
    "# This is utility code for displaying the odML file as html representation here.\n",
    "# You can also just open the odML file in your browser having the style sheet in the same location as your odML file and\n",
    "# will get the same result\n",
    "from IPython.display import display, HTML\n",
    "import lxml.etree as ET\n",
    "\n",
    "def display_odML_as_html(odML_file, xsl_file='odml.xsl'):\n",
    "    # generate html representation from odML file and style sheet\n",
    "    dom = ET.parse(odML_file)\n",
    "    xslt = ET.parse(xsl_file)\n",
    "    transform = ET.XSLT(xslt)\n",
    "    newdom = transform(dom)\n",
    "    \n",
    "    # display html\n",
    "    display(HTML(ET.tostring(newdom, pretty_print=True).decode()))\n",
    "    \n",
    "display_odML_as_html('score_sheet.odml')"
   ]
  },
  {
   "cell_type": "markdown",
   "metadata": {},
   "source": [
    "### Scenario 2: Collecting daily observations in a common odML structure"
   ]
  },
  {
   "cell_type": "markdown",
   "metadata": {
    "collapsed": true
   },
   "source": [
    "The template structure defined in `scenario 1` can now be copied for each measurement day and filled. The filled files will then be converted to odML and incorporated in a single odML file containing the complete metadata collected for an animal.\n",
    "\n",
    "Here again we generate a filled metadata sheet in csv format using Python. In a real case this step would be performed using any spreadsheet software."
   ]
  },
  {
   "cell_type": "code",
   "execution_count": 5,
   "metadata": {},
   "outputs": [],
   "source": [
    "# string representation of the score sheet in csv format\n",
    "score_sheet1 = \\\n",
    "\"\"\"Date,Measure,Value,Unit,Type\n",
    "2000-01-01,Weight,20.3,g,float\n",
    ",Water Intake,5.21,ml,float\n",
    ",Breathing Frequency,323,bpm,float\n",
    ",Measured by, John Doe,,string\n",
    ",Comment,Blood sample taken,,string\n",
    "\"\"\"\n",
    "# write the string representation to disk\n",
    "with open('score_sheet_day1.csv', 'w+') as f:\n",
    "    f.write(score_sheet1)"
   ]
  },
  {
   "cell_type": "markdown",
   "metadata": {},
   "source": [
    "Since this is the only [set of measurements](score_sheet_day1.odml) availabe yet, in the next step we only need to convert it into the odML format as we did with the score sheet template in `scenario 1` and rename it because it is already the [complete set of measurements](score_sheet_complete.odml) at this point."
   ]
  },
  {
   "cell_type": "code",
   "execution_count": 6,
   "metadata": {},
   "outputs": [],
   "source": [
    "# convert the score sheet to odml format\n",
    "score_sheet_to_odml('score_sheet_day1.csv')\n",
    "\n",
    "# rename file, because this is the complete score sheet for now\n",
    "import os\n",
    "os.rename('score_sheet_day1.odml', 'score_sheet_complete.odml')"
   ]
  },
  {
   "cell_type": "markdown",
   "metadata": {},
   "source": [
    "In the next step we aquire a [second set of measurements](score_sheet_day2.csv), recorded on day 2. We directly convert the generated `csv` file into the [odML format](score_sheet_day2.odml)."
   ]
  },
  {
   "cell_type": "code",
   "execution_count": 7,
   "metadata": {},
   "outputs": [],
   "source": [
    "# string representation of the score sheet in csv format\n",
    "score_sheet2 = \\\n",
    "\"\"\"Date,Measure,Value,Unit,Type\n",
    "2000-01-02,Weight,23.5,g,float\n",
    ",Water Intake,6.89,ml,float\n",
    ",Breathing Frequency,309,bpm,float\n",
    ",Measured by, John Doe,,string\n",
    ",Comment,small scratch at the right ear,,string\n",
    "\"\"\"\n",
    "# write the string representation to disk\n",
    "with open('score_sheet_day2.csv', 'w+') as f:\n",
    "    f.write(score_sheet2)\n",
    "# convert the score sheet to odml format\n",
    "score_sheet_to_odml('score_sheet_day2.csv')"
   ]
  },
  {
   "cell_type": "markdown",
   "metadata": {},
   "source": [
    "Now, we have two odML files for two subsequent recording days. To merge these into a single odML structure, we use the `merge` functionality provided by odMLtables. We expect the odML documents not to overlap, so we use the `stric` merge mode which raises errors for conflicting entries in the two odML files.\n",
    "\n",
    "The measurement data of subsequent recordings days are added to the complete set stored in `score_sheet_complete.odml`."
   ]
  },
  {
   "cell_type": "code",
   "execution_count": 8,
   "metadata": {},
   "outputs": [],
   "source": [
    "def merge_score_sheets(file1, file2):\n",
    "    \"\"\" Merge one score sheet (file2) into another score sheet (file1) in odML representation\"\"\"\n",
    "    # load first odML file\n",
    "    table1 = odt.OdmlTable(file1)\n",
    "    # merge file2 into table1\n",
    "    table1.merge(odt.OdmlTable(file2))\n",
    "    # overwrite file1 with the merged score sheets\n",
    "    table1.write2odml(file1)\n",
    "    \n",
    "# merge the daily score sheet into the complete metadata collection\n",
    "merge_score_sheets('score_sheet_complete.odml',\n",
    "                   'score_sheet_day2.odml')"
   ]
  },
  {
   "cell_type": "markdown",
   "metadata": {},
   "source": [
    "### Scenario 3: How to filter a subset of an odML to edit it later on"
   ]
  },
  {
   "cell_type": "markdown",
   "metadata": {},
   "source": [
    "For larger experiments the generated odML structure will grow in complexity. For easier visualization and modification / update of data we will generate an odML file which contains only a subset of the complete score sheet using the odML filter function."
   ]
  },
  {
   "cell_type": "code",
   "execution_count": 9,
   "metadata": {},
   "outputs": [],
   "source": [
    "def extract_subset(odML_file):\n",
    "    \"\"\"Extract comments for the first day in this millenial.\"\"\"\n",
    "    table = odt.OdmlTable(odML_file)\n",
    "    # extract specific property based on property name and section name\n",
    "    table.filter(SectionName='2000-01-01', PropertyName='Comment')\n",
    "    # generate separate file containing only subset of the information\n",
    "    table.write2odml('score_sheet_filtered.odml')\n",
    "    \n",
    "# extract a subset of the information to a different file\n",
    "extract_subset('score_sheet_complete.odml')"
   ]
  },
  {
   "cell_type": "markdown",
   "metadata": {},
   "source": [
    "The next step could be to convert the [filtered odML file](score_sheet_filtered.odml) into a csv file, update the necessary entries and convert it back into the odML format to finally merge the change back into the complete score sheet. For demonstration purposes here, we will modify the filtered odML file directly and merge it into the [complete score sheet](score_sheet_complete.odml)."
   ]
  },
  {
   "cell_type": "code",
   "execution_count": 10,
   "metadata": {},
   "outputs": [],
   "source": [
    "# this code mimics a manual modification of an existing odML file, eg using the csv representation generated with odMLtables\n",
    "import odml\n",
    "odmlfile = odml.fileio.load('score_sheet_filtered.odml', show_warnings=False)\n",
    "odmlfile.sections['2000-01-01'].properties['Comment'].value = ['Blood sample shows no abnormalities']\n",
    "odml.fileio.save(odmlfile, 'score_sheet_filtered.odml')"
   ]
  },
  {
   "cell_type": "markdown",
   "metadata": {},
   "source": [
    "### Scenario 4: Merging the edited subset back into the original structure"
   ]
  },
  {
   "cell_type": "markdown",
   "metadata": {},
   "source": [
    "For merging the changes back into the [complete score sheet](score_sheet_complete.odml) we can use the same function as in `scenario 2`. In this case however, the entries of the two odML files overlap and we want to extend values in the first document by entries in the second one, so we merge using the `append` mode."
   ]
  },
  {
   "cell_type": "code",
   "execution_count": 11,
   "metadata": {},
   "outputs": [],
   "source": [
    "# merge the modified filtered odML into the complete metadata collection\n",
    "merge_score_sheets('score_sheet_complete.odml', 'score_sheet_filtered.odml')"
   ]
  },
  {
   "cell_type": "markdown",
   "metadata": {},
   "source": [
    "### Scenario 5: Create a tabular representation of the final merged odML for better viewing using the color options"
   ]
  },
  {
   "cell_type": "markdown",
   "metadata": {},
   "source": [
    "For visualization of the metadata we convert the odML file to the [tabular representation](score_sheet_complete.xls) in the `.xls` format. This has the advantage of color support within the tabular structure. All color options can be customized using odMLtables."
   ]
  },
  {
   "cell_type": "code",
   "execution_count": 12,
   "metadata": {},
   "outputs": [],
   "source": [
    "def visualize_as_xls(odML_file):\n",
    "    \"\"\" Generate an xls version of an odML file for visualization purposes \"\"\"\n",
    "    table = odt.OdmlXlsTable(odML_file)\n",
    "    # optional: change the color options in the output table\n",
    "    table.first_marked_style.fontcolor = 'red'\n",
    "    table.second_marked_style.fontcolor = 'red'\n",
    "    # write to xls format\n",
    "    table.write2file('.'.join(odML_file.split('.')[:-1]) + '.xls')\n",
    "    \n",
    "# visualize the complete metadata collection in the xls format\n",
    "visualize_as_xls('score_sheet_complete.odml')"
   ]
  },
  {
   "cell_type": "markdown",
   "metadata": {},
   "source": [
    "### Scenario 6: Compare entries in the odML via data screening, lab book tables"
   ]
  },
  {
   "cell_type": "markdown",
   "metadata": {},
   "source": [
    "For many odML files a number of metadata structure are repeating within the file. Here, all metadata sections for the daily measurement have the same structure. For visualization and documentation purposes in labbooks an overview across these related structures is usefull and can be generated using the odMLtables `compare` function."
   ]
  },
  {
   "cell_type": "code",
   "execution_count": 13,
   "metadata": {},
   "outputs": [
    {
     "name": "stderr",
     "output_type": "stream",
     "text": [
      "/home/julia/repositories/python/python-odmltables/odmltables/compare_section_table.py:67: UserWarning: Property Comment contains 2 values. Only showing first one in comparison table\n",
      "  'comparison table' % (prop.name, len(prop.value)))\n"
     ]
    }
   ],
   "source": [
    "def generate_overview(odML_file, sections='all'):\n",
    "    \"\"\" Compare entries with same structure across an odML file \"\"\"\n",
    "    if sections=='all':\n",
    "        # compare between all available sections\n",
    "        sections = [s.name for s in odml.fileio.load(odML_file, show_warnings=False).sections]\n",
    "    table = odt.compare_section_xls_table.CompareSectionXlsTable()\n",
    "    table.load_from_file(odML_file)\n",
    "    # specify all sections to be compared\n",
    "    table.choose_sections(*sections)\n",
    "    # save to different odML file\n",
    "    table.write2file('.'.join(odML_file.split('.')[:-1]) + '_overview.xls')\n",
    "    \n",
    "# compare all properties across the complete metadata collection\n",
    "generate_overview('score_sheet_complete.odml')"
   ]
  },
  {
   "cell_type": "markdown",
   "metadata": {},
   "source": [
    "This generates an `xls` [overview table](score_sheet_complete_overview.xls) comparing the first value entries for all selected sections."
   ]
  },
  {
   "cell_type": "markdown",
   "metadata": {},
   "source": [
    "### Scenario 7: Automatized processing of metadata collections"
   ]
  },
  {
   "cell_type": "markdown",
   "metadata": {},
   "source": [
    "The workflow presented in `scenario 1 to 6` can be to some extend automatized using odMLtables. This simplifies the generation of an comprehensive metadata collection for the experimenter and makes the workflow more robust against human errors.\n",
    "\n",
    "Here we start from a collection of daily csv sheets and generate a complete metadata collection as well as overview sheets from these."
   ]
  },
  {
   "cell_type": "markdown",
   "metadata": {},
   "source": [
    "In the first step we generation a number of score sheets containing dummy data to demonstrate the metadata workflow building on top of these files."
   ]
  },
  {
   "cell_type": "code",
   "execution_count": 14,
   "metadata": {},
   "outputs": [],
   "source": [
    "# generate a number of score sheets for demonstration of workflow\n",
    "import os\n",
    "import numpy.random as random\n",
    "\n",
    "def generate_dummy_data(folder):\n",
    "    \"\"\" Generate 20 daily score sheets with random values entered\"\"\"\n",
    "    # make sure folder exists\n",
    "    if not os.path.exists(folder):\n",
    "        os.mkdir(folder)\n",
    "        \n",
    "    # generate score sheets and save them into the folder\n",
    "    for i in range(20):\n",
    "        score_sheet = \\\n",
    "\"\"\"Date,Measure,Value,Unit,Type\n",
    "2000-01-{0:02d},Weight,{1:.1f},g,float\n",
    ",Water Intake,{2:.2f},ml,float\n",
    ",Breathing Frequency,{3:.1f},bpm,float\n",
    ",Measured by, John Doe,,string\n",
    ",Comment,-,,string\n",
    "\"\"\".format(i+1, random.uniform(low=19, high=25), random.uniform(low=5, high=7), random.uniform(low=300, high=400))\n",
    "        with open(folder + '/score_sheet_day{}.csv'.format(i), 'w+') as f:\n",
    "            f.write(score_sheet)\n",
    "        \n",
    "# generate multiple daily score sheets for demonstation purposes\n",
    "generate_dummy_data('./complete_workflow')"
   ]
  },
  {
   "cell_type": "markdown",
   "metadata": {},
   "source": [
    "In the second step we define the complete workflow for metadata collection, merge, storage and visualizations in a single function and run this on the dummy data generated before. An example of one of the dummy data sets is available [here](./complete_workflow/score_sheet_day1.csv)."
   ]
  },
  {
   "cell_type": "code",
   "execution_count": 15,
   "metadata": {},
   "outputs": [
    {
     "data": {
      "text/plain": [
       "<os._wrap_close at 0x7f53ea4f8dd8>"
      ]
     },
     "execution_count": 15,
     "metadata": {},
     "output_type": "execute_result"
    }
   ],
   "source": [
    "# metadata workflow based on previously generated collection of csv files\n",
    "import glob\n",
    "def process_all_metadata(folder):\n",
    "    \"\"\" Find daily score sheets, merge them into complete metadata collection and generate visualizations. \"\"\"\n",
    "    # extract all metadata files present in this folder\n",
    "    source_files = sorted(glob.glob(folder + '/score_sheet_day*.csv'))\n",
    "    if not source_files:\n",
    "        return None\n",
    "    \n",
    "    # convert first source file to add other files to\n",
    "    score_sheet_to_odml(source_files[0])\n",
    "    os.rename(source_files[0][:-4] + '.odml', folder + '/score_sheet_complete.odml')\n",
    "    \n",
    "    # convert all other source files\n",
    "    for source_file in source_files[1:]:\n",
    "        score_sheet_to_odml(source_file)\n",
    "        merge_score_sheets(folder + '/score_sheet_complete.odml',\n",
    "                           source_file[:-4] + '.odml')\n",
    "        \n",
    "    # create visualization and comparison tables\n",
    "    visualize_as_xls(folder + '/score_sheet_complete.odml')\n",
    "    generate_overview(folder + '/score_sheet_complete.odml')\n",
    "    \n",
    "# run complete metadata workflow from score sheet detection to visualization generation\n",
    "process_all_metadata('./complete_workflow')\n",
    "\n",
    "# copy style sheet for visualization in browser\n",
    "os.popen('cp odml.xsl ./complete_workflow/odml.xsl')"
   ]
  },
  {
   "cell_type": "markdown",
   "metadata": {},
   "source": [
    "This generates in addition to the dummy score sheet in the subfolder `complete_workflow` a [complete metadata collection in a single odML file](./complete_workflow/score_sheet_complete.odml) as well as two `xls` files for [visualization](./complete_workflow/score_sheet_complete.xls) of the odML structure and an [overview](./complete_workflow/score_sheet_complete_overview.xls) across all common properties within the complete metadata collection."
   ]
  }
 ],
 "metadata": {
  "kernelspec": {
   "display_name": "Python 3",
   "language": "python",
   "name": "python3"
  },
  "language_info": {
   "codemirror_mode": {
    "name": "ipython",
    "version": 3
   },
   "file_extension": ".py",
   "mimetype": "text/x-python",
   "name": "python",
   "nbconvert_exporter": "python",
   "pygments_lexer": "ipython3",
   "version": "3.7.0"
  }
 },
 "nbformat": 4,
 "nbformat_minor": 2
}

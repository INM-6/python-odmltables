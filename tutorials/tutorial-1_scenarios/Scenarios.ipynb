{
 "cells": [
  {
   "cell_type": "markdown",
   "metadata": {},
   "source": [
    "# odMLtables scenarios"
   ]
  },
  {
   "cell_type": "markdown",
   "metadata": {},
   "source": [
    "This tutorial is an implementation of the scenarios described in *Sprenger et al (in prep.) odMLtables: A user-friendly approach for managing metadata of neurophysiological experiments* The scenarios present a simple, but realistic use case of odML and odMLtables in an experimental lab and are a good start to start using odML and odMLtables. Modification of this jupyter notebook is highly encuraged and can serve as a starting point for your own metadata workflow. For a detailed description of the individual scenarios, see *Sprenger et al. (in prep)*.\n",
    "\n",
    "To execute the steps of the tutorial, press *Ctrl + Enter* in the cell you want to execute."
   ]
  },
  {
   "cell_type": "markdown",
   "metadata": {},
   "source": [
    "### Scenario 1: How to generate a metadata template without programming language"
   ]
  },
  {
   "cell_type": "markdown",
   "metadata": {},
   "source": [
    "This scenario describes how a template structure for daily data collection can be set up. The example used here is the measurement of basic attributes of a mouse. The measures collected on a single day can be listed in a table as shown below, where *'YYYY-MM-DD'* specifies the measurement date."
   ]
  },
  {
   "cell_type": "markdown",
   "metadata": {},
   "source": [
    "| Date       | Measure             | Value    | Unit | Type   |\n",
    "|------------|---------------------|----------|------|--------|\n",
    "| YYYY-MM-DD | Weight              |          | g    | float  |\n",
    "|            | Water Intake        |          | ml   | float  |\n",
    "|            | Breathing Frequency |          | bpm  | float  |\n",
    "|            | Measured by         | John Doe |      | string |\n",
    "|            | Comment             |          |      | string |"
   ]
  },
  {
   "cell_type": "markdown",
   "metadata": {},
   "source": [
    "This table can be generated using any spreadsheet software. Possible formats supported by odMLtables are *.xls* and *.csv*. A possible implementation using Microsoft Excel or LibreOffice Calc can include color coding to aid visual inspection and might look like this"
   ]
  },
  {
   "cell_type": "markdown",
   "metadata": {},
   "source": [
    "![Screenshot%20from%202018-11-05%2013-47-44.png](attachment:Screenshot%20from%202018-11-05%2013-47-44.png)"
   ]
  },
  {
   "cell_type": "markdown",
   "metadata": {},
   "source": [
    " For simplicity, we generate a *.csv* file with the same content using Python here."
   ]
  },
  {
   "cell_type": "code",
   "execution_count": 1,
   "metadata": {
    "collapsed": true
   },
   "outputs": [],
   "source": [
    "# string representation of the score sheet in csv format\n",
    "score_sheet = \\\n",
    "\"\"\"Date,Measure,Value,Unit,Type\n",
    "YYYY-MM-DD,Weight,,g,float\n",
    ",Water Intake,,ml,float\n",
    ",Breathing Frequency,,bpm,float\n",
    ",Measured by, John Doe,,string\n",
    ",Comment,,,string\n",
    "\"\"\"\n",
    "# write the string representation to disk\n",
    "with open('score_sheet.csv', 'w+') as f:\n",
    "    f.write(score_sheet)"
   ]
  },
  {
   "cell_type": "markdown",
   "metadata": {},
   "source": [
    "This metadata template in *.csv* format can be converted to an odML file using odMLtables:"
   ]
  },
  {
   "cell_type": "code",
   "execution_count": 2,
   "metadata": {
    "collapsed": true
   },
   "outputs": [],
   "source": [
    "import odmltables as odt\n",
    "\n",
    "def score_sheet_to_odml(csv_file):\n",
    "    \"\"\"Convert a score sheet from csv to odML format.\"\"\"\n",
    "    \n",
    "    # initialize an OdmlTable object for handling metadata\n",
    "    table = odt.OdmlTable()\n",
    "    # specify experiment specific headers used in the score sheet csv files (Date, Measure, Unit and Type)\n",
    "    table.change_header(Path=1, PropertyName=2, Value=3, DataUnit=4, odmlDatatype=5)\n",
    "    table.change_header_titles(Path='Date',PropertyName='Measure', DataUnit='Unit', odmlDatatype='Type')\n",
    "\n",
    "    # load from csv format and save in odML format\n",
    "    table.load_from_csv_table(csv_file)\n",
    "    table.write2odml(csv_file[:-4] + '.odml')\n",
    "    \n",
    "# convert the score sheet to odml format\n",
    "score_sheet_to_odml('score_sheet.csv')"
   ]
  },
  {
   "cell_type": "markdown",
   "metadata": {},
   "source": [
    "The resulting odML file can be visualized in the browser using the `odml.xls` style sheet. When working locally on your computer, you can generate this visualization by opening the odML file in your browser while having the style sheet located in the same folder."
   ]
  },
  {
   "cell_type": "code",
   "execution_count": 3,
   "metadata": {},
   "outputs": [
    {
     "data": {
      "text/html": [
       "<html xmlns:fn=\"http://www.w3.org/2005/02/xpath-functions\" xmlns:odml=\"http://www.g-node.org/odml\">\n",
       "  <style type=\"text/css\">\n",
       "            body { margin-left:2%; margin-top:10px; padding:0;} div { border:0px solid #888; }\n",
       "\n",
       "            #navigationContainer { left:10%; width:95%;}\n",
       "\n",
       "            #contentContainer { left:10%; width:95%;}\n",
       "         </style>\n",
       "  <body>\n",
       "    <a name=\"top\" style=\"color:#336699\">\n",
       "      <h1>odML - Metadata</h1>\n",
       "    </a>\n",
       "    <div id=\"navigationContainer\">\n",
       "      <p>\n",
       "        <hr style=\"color:yellow; background-color:#336699; height:4px; margin-right:0; text-align:right; border:1px dashed black;\"/>\n",
       "        <h2>Document info</h2>\n",
       "        <b>Author: </b>\n",
       "        <br/>\n",
       "        <b>Date: </b>\n",
       "        <br/>\n",
       "        <b>Version: </b>\n",
       "        <br/>\n",
       "        <b>Repository: </b>\n",
       "        <br/>\n",
       "      </p>\n",
       "      <hr style=\"color:yellow; background-color:#336699; height:4px; margin-right:0; text-align:right; border:1px dashed black;\"/>\n",
       "      <h2>Structure</h2>\n",
       "      <font size=\"-1\">\n",
       "        <li>\n",
       "          <ol style=\"compact\">\n",
       "            <font size=\"normal\">\n",
       "              <a href=\"#Sec1\">YYYY-MM-DD (type: )\n",
       "               </a>\n",
       "            </font>\n",
       "          </ol>\n",
       "        </li>\n",
       "      </font>\n",
       "    </div>\n",
       "    <div id=\"contentContainer\">\n",
       "      <hr style=\"color:yellow; background-color:#336699; height:4px; margin-right:0; text-align:right; border:1px dashed black;\"/>\n",
       "      <h2>Content</h2>\n",
       "      <a name=\"Sec1\">\n",
       "        <h3>Section: YYYY-MM-DD</h3>\n",
       "      </a>\n",
       "      <p>\n",
       "        <b>Type: </b>\n",
       "        <br/>\n",
       "        <b>Repository: </b>\n",
       "        <br/>\n",
       "        <b>Link: </b>\n",
       "        <br/>\n",
       "        <b>Include:</b>\n",
       "        <br/>\n",
       "        <b>Definition:</b>\n",
       "        <br/>\n",
       "      </p>\n",
       "      <table border=\"1\" rules=\"rows\" width=\"100%\">\n",
       "        <font size=\"-1\">\n",
       "          <tr bgcolor=\"#336699\" valign=\"middle\" align=\"left\">\n",
       "            <th>\n",
       "              <font size=\"+1\" color=\"white\">\n",
       "                <b>Name</b>\n",
       "              </font>\n",
       "            </th>\n",
       "            <th>\n",
       "              <font size=\"+1\" color=\"white\">\n",
       "                <b>Value</b>\n",
       "              </font>\n",
       "            </th>\n",
       "            <th>\n",
       "              <font size=\"+1\" color=\"white\">\n",
       "                <b>Uncertainty</b>\n",
       "              </font>\n",
       "            </th>\n",
       "            <th>\n",
       "              <font size=\"+1\" color=\"white\">\n",
       "                <b>Unit</b>\n",
       "              </font>\n",
       "            </th>\n",
       "            <th>\n",
       "              <font size=\"+1\" color=\"white\">\n",
       "                <b>Type</b>\n",
       "              </font>\n",
       "            </th>\n",
       "            <th>\n",
       "              <font size=\"+1\" color=\"white\">\n",
       "                <b>Reference</b>\n",
       "              </font>\n",
       "            </th>\n",
       "            <th>\n",
       "              <font size=\"+1\" color=\"white\">\n",
       "                <b>Definition</b>\n",
       "              </font>\n",
       "            </th>\n",
       "            <th>\n",
       "              <font size=\"+1\" color=\"white\">\n",
       "                <b>Value origin</b>\n",
       "              </font>\n",
       "            </th>\n",
       "          </tr>\n",
       "          <tr>\n",
       "            <td width=\"15%\">\n",
       "              <a name=\"Breathing Frequency\"/>\n",
       "              <p>Breathing Frequency</p>\n",
       "            </td>\n",
       "            <td width=\"10%\">\n",
       "              <p/>\n",
       "            </td>\n",
       "            <td width=\"5%\">\n",
       "              <p/>\n",
       "            </td>\n",
       "            <td width=\"5%\">\n",
       "              <p>bpm</p>\n",
       "            </td>\n",
       "            <td width=\"5%\">\n",
       "              <p>float</p>\n",
       "            </td>\n",
       "            <td width=\"5%\">\n",
       "              <p/>\n",
       "            </td>\n",
       "            <td width=\"22.5%\">\n",
       "              <p/>\n",
       "            </td>\n",
       "            <td width=\"7.5%%\">\n",
       "              <p/>\n",
       "            </td>\n",
       "          </tr>\n",
       "          <tr>\n",
       "            <td width=\"15%\">\n",
       "              <a name=\"Comment\"/>\n",
       "              <p>Comment</p>\n",
       "            </td>\n",
       "            <td width=\"10%\">\n",
       "              <p/>\n",
       "            </td>\n",
       "            <td width=\"5%\">\n",
       "              <p/>\n",
       "            </td>\n",
       "            <td width=\"5%\">\n",
       "              <p/>\n",
       "            </td>\n",
       "            <td width=\"5%\">\n",
       "              <p>string</p>\n",
       "            </td>\n",
       "            <td width=\"5%\">\n",
       "              <p/>\n",
       "            </td>\n",
       "            <td width=\"22.5%\">\n",
       "              <p/>\n",
       "            </td>\n",
       "            <td width=\"7.5%%\">\n",
       "              <p/>\n",
       "            </td>\n",
       "          </tr>\n",
       "          <tr>\n",
       "            <td width=\"15%\">\n",
       "              <a name=\"Measured by\"/>\n",
       "              <p>Measured by</p>\n",
       "            </td>\n",
       "            <td width=\"10%\">\n",
       "              <p>John Doe</p>\n",
       "            </td>\n",
       "            <td width=\"5%\">\n",
       "              <p/>\n",
       "            </td>\n",
       "            <td width=\"5%\">\n",
       "              <p/>\n",
       "            </td>\n",
       "            <td width=\"5%\">\n",
       "              <p>string</p>\n",
       "            </td>\n",
       "            <td width=\"5%\">\n",
       "              <p/>\n",
       "            </td>\n",
       "            <td width=\"22.5%\">\n",
       "              <p/>\n",
       "            </td>\n",
       "            <td width=\"7.5%%\">\n",
       "              <p/>\n",
       "            </td>\n",
       "          </tr>\n",
       "          <tr>\n",
       "            <td width=\"15%\">\n",
       "              <a name=\"Water Intake\"/>\n",
       "              <p>Water Intake</p>\n",
       "            </td>\n",
       "            <td width=\"10%\">\n",
       "              <p/>\n",
       "            </td>\n",
       "            <td width=\"5%\">\n",
       "              <p/>\n",
       "            </td>\n",
       "            <td width=\"5%\">\n",
       "              <p>ml</p>\n",
       "            </td>\n",
       "            <td width=\"5%\">\n",
       "              <p>float</p>\n",
       "            </td>\n",
       "            <td width=\"5%\">\n",
       "              <p/>\n",
       "            </td>\n",
       "            <td width=\"22.5%\">\n",
       "              <p/>\n",
       "            </td>\n",
       "            <td width=\"7.5%%\">\n",
       "              <p/>\n",
       "            </td>\n",
       "          </tr>\n",
       "          <tr>\n",
       "            <td width=\"15%\">\n",
       "              <a name=\"Weight\"/>\n",
       "              <p>Weight</p>\n",
       "            </td>\n",
       "            <td width=\"10%\">\n",
       "              <p/>\n",
       "            </td>\n",
       "            <td width=\"5%\">\n",
       "              <p/>\n",
       "            </td>\n",
       "            <td width=\"5%\">\n",
       "              <p>g</p>\n",
       "            </td>\n",
       "            <td width=\"5%\">\n",
       "              <p>float</p>\n",
       "            </td>\n",
       "            <td width=\"5%\">\n",
       "              <p/>\n",
       "            </td>\n",
       "            <td width=\"22.5%\">\n",
       "              <p/>\n",
       "            </td>\n",
       "            <td width=\"7.5%%\">\n",
       "              <p/>\n",
       "            </td>\n",
       "          </tr>\n",
       "        </font>\n",
       "      </table>\n",
       "      <a href=\"#top\">\n",
       "        <tiny>top</tiny>\n",
       "      </a>\n",
       "      <hr style=\"background-color:#336699; height:1px; margin-right:0; text-align:right;\"/>\n",
       "    </div>\n",
       "  </body>\n",
       "</html>\n"
      ],
      "text/plain": [
       "<IPython.core.display.HTML object>"
      ]
     },
     "metadata": {},
     "output_type": "display_data"
    }
   ],
   "source": [
    "# This is utility code for displaying the odML file as html representation here.\n",
    "# You can also just open the odML file in your browser having the style sheet in the same location as your odML file and\n",
    "# will get the same result\n",
    "from IPython.display import display, HTML\n",
    "import lxml.etree as ET\n",
    "\n",
    "def display_odML_as_html(odML_file, xsl_file='odml.xsl'):\n",
    "    # generate html representation from odML file and style sheet\n",
    "    dom = ET.parse(odML_file)\n",
    "    xslt = ET.parse(xsl_file)\n",
    "    transform = ET.XSLT(xslt)\n",
    "    newdom = transform(dom)\n",
    "    \n",
    "    # display html\n",
    "    display(HTML(ET.tostring(newdom, pretty_print=True).decode()))\n",
    "    \n",
    "display_odML_as_html('score_sheet.odml')"
   ]
  },
  {
   "cell_type": "markdown",
   "metadata": {},
   "source": [
    "### Scenario 2: Collecting daily observations in a common odML structure"
   ]
  },
  {
   "cell_type": "markdown",
   "metadata": {
    "collapsed": true
   },
   "source": [
    "The template structure defined in `scenario 1` can now be copied for each measurement day and filled. The filled files will then be converted to odML and incorporated in a single odML file containing the complete metadata collected for an animal.\n",
    "\n",
    "Here again we generate a filled metadata sheet in csv format using Python. In a real case this step would be performed using any spreadsheet software."
   ]
  },
  {
   "cell_type": "code",
   "execution_count": 4,
   "metadata": {
    "collapsed": true
   },
   "outputs": [],
   "source": [
    "# string representation of the score sheet in csv format\n",
    "score_sheet1 = \\\n",
    "\"\"\"Date,Measure,Value,Unit,Type\n",
    "2000-01-01,Weight,20.3,g,float\n",
    ",Water Intake,5.21,ml,float\n",
    ",Breathing Frequency,323,bpm,float\n",
    ",Measured by, John Doe,,string\n",
    ",Comment,Blood sample taken,,string\n",
    "\"\"\"\n",
    "# write the string representation to disk\n",
    "with open('score_sheet_day1.csv', 'w+') as f:\n",
    "    f.write(score_sheet1)"
   ]
  },
  {
   "cell_type": "markdown",
   "metadata": {},
   "source": [
    "Since this is the only set of measurements availabe yet, we only need to convert it into the odML format as we did with the score sheet template in `scenario 1` and rename it because it is already the complete set of measurements at this point."
   ]
  },
  {
   "cell_type": "code",
   "execution_count": 5,
   "metadata": {
    "collapsed": true
   },
   "outputs": [],
   "source": [
    "# convert the score sheet to odml format\n",
    "score_sheet_to_odml('score_sheet_day1.csv')\n",
    "\n",
    "# rename file, because this is the complete score sheet for now\n",
    "import os\n",
    "os.rename('score_sheet_day1.odml', 'score_sheet_complete.odml')"
   ]
  },
  {
   "cell_type": "markdown",
   "metadata": {},
   "source": [
    "In the next step we aquire a second set of measurements, recorded on day 2. We directly convert the generated `csv` file into the odML format."
   ]
  },
  {
   "cell_type": "code",
   "execution_count": 6,
   "metadata": {
    "collapsed": true
   },
   "outputs": [],
   "source": [
    "# string representation of the score sheet in csv format\n",
    "score_sheet2 = \\\n",
    "\"\"\"Date,Measure,Value,Unit,Type\n",
    "2000-01-02,Weight,23.5,g,float\n",
    ",Water Intake,6.89,ml,float\n",
    ",Breathing Frequency,309,bpm,float\n",
    ",Measured by, John Doe,,string\n",
    ",Comment,small scratch at the right ear,,string\n",
    "\"\"\"\n",
    "# write the string representation to disk\n",
    "with open('score_sheet_day2.csv', 'w+') as f:\n",
    "    f.write(score_sheet2)\n",
    "# convert the score sheet to odml format\n",
    "score_sheet_to_odml('score_sheet_day2.csv')"
   ]
  },
  {
   "cell_type": "markdown",
   "metadata": {},
   "source": [
    "Now, we have two odML files for two subsequent recording days. To merge these into a single odML structure, we use the `merge` functionality provided by odMLtables. We expect the odML documents not to overlap, so we use the `stric` merge mode which raises errors for conflicting entries in the two odML files.\n",
    "\n",
    "The measurement data of subsequent recordings days are added to the complete set stored in `score_sheet_complete.odml`."
   ]
  },
  {
   "cell_type": "code",
   "execution_count": 7,
   "metadata": {},
   "outputs": [
    {
     "name": "stderr",
     "output_type": "stream",
     "text": [
      "warning[None:6:<section>]: missing element <type> within <section> tag{'oid': 'c78b9420-de53-41ae-b902-42fb2212bc62', 'name': '2000-01-01', 'properties': <Property Weight>} (line 6)\n",
      "warning[None:6:<section>]: missing element <type> within <section> tag{'oid': 'eabfda18-4d5f-4e67-ab1d-b980b70de5d4', 'name': '2000-01-02', 'properties': <Property Weight>} (line 6)\n"
     ]
    }
   ],
   "source": [
    "def merge_score_sheets(file1, file2):\n",
    "    \"\"\" Merge one score sheet (file2) into another score sheet (file1) in odML representation\"\"\"\n",
    "    # load first odML file\n",
    "    table1 = odt.OdmlTable(file1)\n",
    "    # merge file2 into table1\n",
    "    table1.merge(odt.OdmlTable(file2))\n",
    "    # overwrite file1 with the merged score sheets\n",
    "    table1.write2odml(file1)\n",
    "    \n",
    "# merge the daily score sheet into the complete metadata collection\n",
    "merge_score_sheets('score_sheet_complete.odml',\n",
    "                   'score_sheet_day2.odml')"
   ]
  },
  {
   "cell_type": "markdown",
   "metadata": {},
   "source": [
    "### Scenario 3: How to filter a subset of an odML to edit it later on"
   ]
  },
  {
   "cell_type": "markdown",
   "metadata": {},
   "source": [
    "For larger experiments the generated odML structure will grow in complexity. For easier visualization and modification / update of data we will generate an odML file which contains only a subset of the complete score sheet using the odML filter function."
   ]
  },
  {
   "cell_type": "code",
   "execution_count": 8,
   "metadata": {},
   "outputs": [
    {
     "name": "stderr",
     "output_type": "stream",
     "text": [
      "warning[None:6:<section>]: missing element <type> within <section> tag{'oid': '0611e857-89f5-40ec-b7da-ae14c43575c9', 'name': '2000-01-01', 'properties': <Property Weight>} (line 6)\n",
      "warning[None:43:<section>]: missing element <type> within <section> tag{'oid': 'f7697a02-ea14-447a-84c9-49e7d0007cbc', 'name': '2000-01-02', 'properties': <Property Weight>} (line 43)\n"
     ]
    }
   ],
   "source": [
    "def extract_subset(odML_file):\n",
    "    \"\"\"Extract comments for the first day in this millenial.\"\"\"\n",
    "    table = odt.OdmlTable(odML_file)\n",
    "    # extract specific property based on property name and section name\n",
    "    table.filter(SectionName='2000-01-01', PropertyName='Comment')\n",
    "    # generate separate file containing only subset of the information\n",
    "    table.write2odml('score_sheet_filtered.odml')\n",
    "    \n",
    "# extract a subset of the information to a different file\n",
    "extract_subset('score_sheet_complete.odml')"
   ]
  },
  {
   "cell_type": "markdown",
   "metadata": {},
   "source": [
    "The next step could be to convert the filtered odML file into a csv file, update the necessary entries and convert it back into the odML format to finally merge the change back into the complete score sheet. For demonstration purposes here, we will modify the filtered odML file directly and merge it into the complete score sheet."
   ]
  },
  {
   "cell_type": "code",
   "execution_count": 9,
   "metadata": {},
   "outputs": [
    {
     "name": "stderr",
     "output_type": "stream",
     "text": [
      "warning[None:6:<section>]: missing element <type> within <section> tag{'oid': '675ea7a8-64e2-4ac6-945e-20e9c71097ea', 'name': '2000-01-01', 'properties': <Property Comment>} (line 6)\n"
     ]
    }
   ],
   "source": [
    "# this code mimics a manual modification of an existing odML file, eg using the csv representation generated with odMLtables\n",
    "import odml\n",
    "odmlfile = odml.fileio.load('score_sheet_filtered.odml')\n",
    "odmlfile.sections['2000-01-01'].properties['Comment'].value = ['Blood sample shows no abnormalities']\n",
    "odml.fileio.save(odmlfile, 'score_sheet_filtered.odml')"
   ]
  },
  {
   "cell_type": "markdown",
   "metadata": {},
   "source": [
    "### Scenario 4: Merging the edited subset back into the original structure"
   ]
  },
  {
   "cell_type": "markdown",
   "metadata": {},
   "source": [
    "For merging the changes back into the complete score sheet we can use the same function as in `scenario 2`. In this case however, the entries of the two odML files overlap and we want to extend values in the first document by entries in the second one, so we merge using the `append` mode."
   ]
  },
  {
   "cell_type": "code",
   "execution_count": 10,
   "metadata": {},
   "outputs": [
    {
     "name": "stderr",
     "output_type": "stream",
     "text": [
      "warning[None:6:<section>]: missing element <type> within <section> tag{'oid': '0611e857-89f5-40ec-b7da-ae14c43575c9', 'name': '2000-01-01', 'properties': <Property Weight>} (line 6)\n",
      "warning[None:43:<section>]: missing element <type> within <section> tag{'oid': 'f7697a02-ea14-447a-84c9-49e7d0007cbc', 'name': '2000-01-02', 'properties': <Property Weight>} (line 43)\n",
      "warning[None:6:<section>]: missing element <type> within <section> tag{'oid': '675ea7a8-64e2-4ac6-945e-20e9c71097ea', 'name': '2000-01-01', 'properties': <Property Comment>} (line 6)\n"
     ]
    }
   ],
   "source": [
    "# merge the modified filtered odML into the complete metadata collection\n",
    "merge_score_sheets('score_sheet_complete.odml', 'score_sheet_filtered.odml')"
   ]
  },
  {
   "cell_type": "markdown",
   "metadata": {},
   "source": [
    "### Scenario 5: Create a tabular representation of the final merged odML for better viewing using the color options"
   ]
  },
  {
   "cell_type": "markdown",
   "metadata": {},
   "source": [
    "For visualization of the metadata we convert the odML file to the tabular representation in the `.xls` format. This has the advantage of color support within the tabular structure. All color options can be customized using odMLtables."
   ]
  },
  {
   "cell_type": "code",
   "execution_count": 11,
   "metadata": {},
   "outputs": [
    {
     "name": "stderr",
     "output_type": "stream",
     "text": [
      "warning[None:6:<section>]: missing element <type> within <section> tag{'oid': 'f2100c70-0bd2-4688-83cd-a79967da450b', 'name': '2000-01-01', 'properties': <Property Weight>} (line 6)\n",
      "warning[None:43:<section>]: missing element <type> within <section> tag{'oid': 'c3f1be71-a420-4af0-9bee-165b40b151ac', 'name': '2000-01-02', 'properties': <Property Weight>} (line 43)\n"
     ]
    }
   ],
   "source": [
    "def visualize_as_xls(odML_file):\n",
    "    \"\"\" Generate an xls version of an odML file for visualization purposes \"\"\"\n",
    "    table = odt.OdmlXlsTable(odML_file)\n",
    "    # optional: change the color options in the output table\n",
    "    table.first_marked_style.fontcolor = 'red'\n",
    "    table.second_marked_style.fontcolor = 'red'\n",
    "    # write to xls format\n",
    "    table.write2file('.'.join(odML_file.split('.')[:-1]) + '.xls')\n",
    "    \n",
    "# visualize the complete metadata collection in the xls format\n",
    "visualize_as_xls('score_sheet_complete.odml')"
   ]
  },
  {
   "cell_type": "markdown",
   "metadata": {},
   "source": [
    "### Scenario 6: Compare entries in the odML via data screening, lab book tables"
   ]
  },
  {
   "cell_type": "markdown",
   "metadata": {},
   "source": [
    "For many odML files a number of metadata structure are repeating within the file. Here, all metadata sections for the daily measurement have the same structure. For visualization and documentation purposes in labbooks an overview across these related structures is usefull and can be generated using the odMLtables `compare` function."
   ]
  },
  {
   "cell_type": "code",
   "execution_count": 12,
   "metadata": {},
   "outputs": [
    {
     "name": "stderr",
     "output_type": "stream",
     "text": [
      "warning[None:6:<section>]: missing element <type> within <section> tag{'oid': 'f2100c70-0bd2-4688-83cd-a79967da450b', 'name': '2000-01-01', 'properties': <Property Weight>} (line 6)\n",
      "warning[None:43:<section>]: missing element <type> within <section> tag{'oid': 'c3f1be71-a420-4af0-9bee-165b40b151ac', 'name': '2000-01-02', 'properties': <Property Weight>} (line 43)\n",
      "warning[None:6:<section>]: missing element <type> within <section> tag{'oid': 'f2100c70-0bd2-4688-83cd-a79967da450b', 'name': '2000-01-01', 'properties': <Property Weight>} (line 6)\n",
      "warning[None:43:<section>]: missing element <type> within <section> tag{'oid': 'c3f1be71-a420-4af0-9bee-165b40b151ac', 'name': '2000-01-02', 'properties': <Property Weight>} (line 43)\n",
      "/home/julia/repositories/python/python-odmltables/odmltables/compare_section_table.py:66: UserWarning: Property Comment contains 2 values. Only showing first one in comparison table\n",
      "  'comparison table' % (prop.name, len(prop.value)))\n"
     ]
    }
   ],
   "source": [
    "def generate_overview(odML_file, sections='all'):\n",
    "    \"\"\" Compare entries with same structure across an odML file \"\"\"\n",
    "    if sections=='all':\n",
    "        # compare between all available sections\n",
    "        sections = [s.name for s in odml.fileio.load(odML_file).sections]\n",
    "    table = odt.compare_section_xls_table.CompareSectionXlsTable()\n",
    "    table.load_from_file(odML_file)\n",
    "    # specify all sections to be compared\n",
    "    table.choose_sections(*sections)\n",
    "    # save to different odML file\n",
    "    table.write2file('.'.join(odML_file.split('.')[:-1]) + '_overview.xls')\n",
    "    \n",
    "# compare all properties across the complete metadata collection\n",
    "generate_overview('score_sheet_complete.odml')"
   ]
  },
  {
   "cell_type": "markdown",
   "metadata": {},
   "source": [
    "This generates an `xls` overview table comparing the first value entries for all selected sections."
   ]
  },
  {
   "cell_type": "markdown",
   "metadata": {},
   "source": [
    "### Scenario 7: Automatized processing of metadata collections"
   ]
  },
  {
   "cell_type": "markdown",
   "metadata": {},
   "source": [
    "The workflow presented in `scenario 1 to 6` can be to some extend automatized using odMLtables. This simplifies the generation of an comprehensive metadata collection for the experimenter and makes the workflow more robust against human errors.\n",
    "\n",
    "Here we start from a collection of daily csv sheets and generate a complete metadata collection as well as overview sheets from these."
   ]
  },
  {
   "cell_type": "markdown",
   "metadata": {},
   "source": [
    "In the first step we generation a number of score sheets containing dummy data to demonstrate the metadata workflow building on top of these files."
   ]
  },
  {
   "cell_type": "code",
   "execution_count": 13,
   "metadata": {
    "collapsed": true
   },
   "outputs": [],
   "source": [
    "# generate a number of score sheets for demonstration of workflow\n",
    "import os\n",
    "import numpy.random as random\n",
    "\n",
    "def generate_dummy_data(folder):\n",
    "    \"\"\" Generate 20 daily score sheets with random values entered\"\"\"\n",
    "    # make sure folder exists\n",
    "    if not os.path.exists(folder):\n",
    "        os.mkdir(folder)\n",
    "        \n",
    "    # generate score sheets and save them into the folder\n",
    "    for i in range(20):\n",
    "        score_sheet = \\\n",
    "\"\"\"Date,Measure,Value,Unit,Type\n",
    "2000-01-{0:02d},Weight,{1:.1f},g,float\n",
    ",Water Intake,{2:.2f},ml,float\n",
    ",Breathing Frequency,{3:.1f},bpm,float\n",
    ",Measured by, John Doe,,string\n",
    ",Comment,-,,string\n",
    "\"\"\".format(i+1, random.uniform(low=19, high=25), random.uniform(low=5, high=7), random.uniform(low=300, high=400))\n",
    "        with open(folder + '/score_sheet_day{}.csv'.format(i), 'w+') as f:\n",
    "            f.write(score_sheet)\n",
    "        \n",
    "# generate multiple daily score sheets for demonstation purposes\n",
    "generate_dummy_data('./complete_workflow')"
   ]
  },
  {
   "cell_type": "markdown",
   "metadata": {},
   "source": [
    "In the second step we define the complete workflow for metadata collection, merge, storage and visualizations in a single function and run this on the dummy data generated before."
   ]
  },
  {
   "cell_type": "code",
   "execution_count": 14,
   "metadata": {},
   "outputs": [
    {
     "name": "stderr",
     "output_type": "stream",
     "text": [
      "warning[None:6:<section>]: missing element <type> within <section> tag{'oid': 'a8a8638a-f781-4f98-b59c-1361ce561577', 'name': '2000-01-01', 'properties': <Property Weight>} (line 6)\n",
      "warning[None:6:<section>]: missing element <type> within <section> tag{'oid': 'bae4a929-dff0-4f33-b55b-f7816f2e57af', 'name': '2000-01-02', 'properties': <Property Weight>} (line 6)\n",
      "warning[None:6:<section>]: missing element <type> within <section> tag{'oid': 'a1114c25-3f00-47cc-95ea-a90a870e88be', 'name': '2000-01-01', 'properties': <Property Weight>} (line 6)\n",
      "warning[None:43:<section>]: missing element <type> within <section> tag{'oid': 'fd6f1e2c-adc9-453a-a9cb-615507f1d51c', 'name': '2000-01-02', 'properties': <Property Weight>} (line 43)\n",
      "warning[None:6:<section>]: missing element <type> within <section> tag{'oid': '0fcb53a0-6537-4a41-af3c-feed14a4ec98', 'name': '2000-01-11', 'properties': <Property Weight>} (line 6)\n",
      "warning[None:6:<section>]: missing element <type> within <section> tag{'oid': '5b707479-960c-42e6-9fe3-c02a09cb3fe5', 'name': '2000-01-01', 'properties': <Property Weight>} (line 6)\n",
      "warning[None:43:<section>]: missing element <type> within <section> tag{'oid': 'b1040b4b-a704-4854-8953-7ebecc7d25df', 'name': '2000-01-02', 'properties': <Property Weight>} (line 43)\n",
      "warning[None:80:<section>]: missing element <type> within <section> tag{'oid': 'e27c171c-86eb-4983-bd89-2da6a73f5ef4', 'name': '2000-01-11', 'properties': <Property Weight>} (line 80)\n",
      "warning[None:6:<section>]: missing element <type> within <section> tag{'oid': '1955bf5c-a7ac-4397-ad0d-d8041f48154a', 'name': '2000-01-12', 'properties': <Property Weight>} (line 6)\n",
      "warning[None:6:<section>]: missing element <type> within <section> tag{'oid': '49d235bb-7503-4678-ad67-74f0f30297b7', 'name': '2000-01-01', 'properties': <Property Weight>} (line 6)\n",
      "warning[None:43:<section>]: missing element <type> within <section> tag{'oid': 'e32b41aa-4aa6-4aaf-a4d9-531c3fb42222', 'name': '2000-01-02', 'properties': <Property Weight>} (line 43)\n",
      "warning[None:80:<section>]: missing element <type> within <section> tag{'oid': '383b2193-44cc-4436-9189-566129f1f97b', 'name': '2000-01-11', 'properties': <Property Weight>} (line 80)\n",
      "warning[None:117:<section>]: missing element <type> within <section> tag{'oid': '41b32312-f296-4c03-ac5e-e5e70916614a', 'name': '2000-01-12', 'properties': <Property Weight>} (line 117)\n",
      "warning[None:6:<section>]: missing element <type> within <section> tag{'oid': '9fbc0bdd-6158-4567-9a83-f3c80194aefc', 'name': '2000-01-13', 'properties': <Property Weight>} (line 6)\n",
      "warning[None:6:<section>]: missing element <type> within <section> tag{'oid': '17ae2635-8a3e-4543-8007-5129f5069e3f', 'name': '2000-01-01', 'properties': <Property Weight>} (line 6)\n",
      "warning[None:43:<section>]: missing element <type> within <section> tag{'oid': '12df8273-1909-4d34-9980-555f24d58938', 'name': '2000-01-02', 'properties': <Property Weight>} (line 43)\n",
      "warning[None:80:<section>]: missing element <type> within <section> tag{'oid': '2996287c-5734-4317-93f3-442610ef57c7', 'name': '2000-01-11', 'properties': <Property Weight>} (line 80)\n",
      "warning[None:117:<section>]: missing element <type> within <section> tag{'oid': 'bdcad4f3-0e6e-48b1-aaf4-811290e59480', 'name': '2000-01-12', 'properties': <Property Weight>} (line 117)\n",
      "warning[None:154:<section>]: missing element <type> within <section> tag{'oid': '275caf69-2900-45c3-8cc1-38201896652c', 'name': '2000-01-13', 'properties': <Property Weight>} (line 154)\n",
      "warning[None:6:<section>]: missing element <type> within <section> tag{'oid': '25f7a6be-e486-4129-af9a-41d1234eba94', 'name': '2000-01-14', 'properties': <Property Weight>} (line 6)\n",
      "warning[None:6:<section>]: missing element <type> within <section> tag{'oid': 'afe9ba23-388c-4de0-97be-d8f15eb6f556', 'name': '2000-01-01', 'properties': <Property Weight>} (line 6)\n",
      "warning[None:43:<section>]: missing element <type> within <section> tag{'oid': '5499e3ef-9a2d-49f9-b6d3-1b65dd460f28', 'name': '2000-01-02', 'properties': <Property Weight>} (line 43)\n",
      "warning[None:80:<section>]: missing element <type> within <section> tag{'oid': 'd9d4b13e-ae7d-47aa-b2d3-c8911c8bfca0', 'name': '2000-01-11', 'properties': <Property Weight>} (line 80)\n",
      "warning[None:117:<section>]: missing element <type> within <section> tag{'oid': '80f40e9f-e257-4a47-964e-6061c6ed75dd', 'name': '2000-01-12', 'properties': <Property Weight>} (line 117)\n",
      "warning[None:154:<section>]: missing element <type> within <section> tag{'oid': 'c6f8a8f5-bf09-4e74-8f89-7408f0ab26a7', 'name': '2000-01-13', 'properties': <Property Weight>} (line 154)\n",
      "warning[None:191:<section>]: missing element <type> within <section> tag{'oid': '9b9ba9a9-615a-4970-b9b2-b7e68feffa6b', 'name': '2000-01-14', 'properties': <Property Weight>} (line 191)\n",
      "warning[None:6:<section>]: missing element <type> within <section> tag{'oid': 'cdcd7fbd-cddc-4c96-a506-abc36c17f442', 'name': '2000-01-15', 'properties': <Property Weight>} (line 6)\n",
      "warning[None:6:<section>]: missing element <type> within <section> tag{'oid': '67577426-a5b1-484c-945b-d240da8c0b9b', 'name': '2000-01-01', 'properties': <Property Weight>} (line 6)\n",
      "warning[None:43:<section>]: missing element <type> within <section> tag{'oid': '4db65e4f-5597-453d-b550-5db92ebdc798', 'name': '2000-01-02', 'properties': <Property Weight>} (line 43)\n",
      "warning[None:80:<section>]: missing element <type> within <section> tag{'oid': '9f86508f-7c44-42ab-a68a-efc2a3f6f1d9', 'name': '2000-01-11', 'properties': <Property Weight>} (line 80)\n",
      "warning[None:117:<section>]: missing element <type> within <section> tag{'oid': '63f31c99-b257-498c-a43d-4c9cfc4e4b71', 'name': '2000-01-12', 'properties': <Property Weight>} (line 117)\n",
      "warning[None:154:<section>]: missing element <type> within <section> tag{'oid': '19a12952-1474-4cee-841d-03d7f8102f33', 'name': '2000-01-13', 'properties': <Property Weight>} (line 154)\n",
      "warning[None:191:<section>]: missing element <type> within <section> tag{'oid': 'c98b4c1a-46e9-4edf-82fa-1bcdff04a228', 'name': '2000-01-14', 'properties': <Property Weight>} (line 191)\n",
      "warning[None:228:<section>]: missing element <type> within <section> tag{'oid': '8eb3d22d-a777-4226-ac9b-dc739f7b0334', 'name': '2000-01-15', 'properties': <Property Weight>} (line 228)\n",
      "warning[None:6:<section>]: missing element <type> within <section> tag{'oid': '9a2fc640-5ba5-42f4-bb07-9171c1e57517', 'name': '2000-01-16', 'properties': <Property Weight>} (line 6)\n",
      "warning[None:6:<section>]: missing element <type> within <section> tag{'oid': 'ced2f070-a1a7-4e1d-acf3-c258c963dc71', 'name': '2000-01-01', 'properties': <Property Weight>} (line 6)\n",
      "warning[None:43:<section>]: missing element <type> within <section> tag{'oid': '44922feb-f310-410b-a0aa-f34e78c0a2ef', 'name': '2000-01-02', 'properties': <Property Weight>} (line 43)\n",
      "warning[None:80:<section>]: missing element <type> within <section> tag{'oid': '705b5277-a465-49e8-9298-85a589dd3288', 'name': '2000-01-11', 'properties': <Property Weight>} (line 80)\n",
      "warning[None:117:<section>]: missing element <type> within <section> tag{'oid': 'b8dc3726-903c-4934-aef9-5c0d5a18ca32', 'name': '2000-01-12', 'properties': <Property Weight>} (line 117)\n",
      "warning[None:154:<section>]: missing element <type> within <section> tag{'oid': 'd727b24f-75c9-41f1-93c8-0639b67311e3', 'name': '2000-01-13', 'properties': <Property Weight>} (line 154)\n",
      "warning[None:191:<section>]: missing element <type> within <section> tag{'oid': 'b3f40334-896a-408e-a87f-3481b8b5f213', 'name': '2000-01-14', 'properties': <Property Weight>} (line 191)\n",
      "warning[None:228:<section>]: missing element <type> within <section> tag{'oid': '557cb70f-ddd4-43aa-a3b4-0774271f56fd', 'name': '2000-01-15', 'properties': <Property Weight>} (line 228)\n",
      "warning[None:265:<section>]: missing element <type> within <section> tag{'oid': 'd551ac09-fd7b-4420-9f35-418afc599345', 'name': '2000-01-16', 'properties': <Property Weight>} (line 265)\n",
      "warning[None:6:<section>]: missing element <type> within <section> tag{'oid': '83a1f02b-3d24-4305-a7bd-ba6be4f5969b', 'name': '2000-01-17', 'properties': <Property Weight>} (line 6)\n",
      "warning[None:6:<section>]: missing element <type> within <section> tag{'oid': '110c168e-5ff1-4167-9284-a8bc7e980a8d', 'name': '2000-01-01', 'properties': <Property Weight>} (line 6)\n",
      "warning[None:43:<section>]: missing element <type> within <section> tag{'oid': '9794002f-8ead-4b7c-a2ef-1eeb2920ae82', 'name': '2000-01-02', 'properties': <Property Weight>} (line 43)\n",
      "warning[None:80:<section>]: missing element <type> within <section> tag{'oid': '68dfc0b7-acbc-408f-bb3f-2d81b3c62b63', 'name': '2000-01-11', 'properties': <Property Weight>} (line 80)\n",
      "warning[None:117:<section>]: missing element <type> within <section> tag{'oid': '2d3f0059-76ea-4852-9987-a6899426232b', 'name': '2000-01-12', 'properties': <Property Weight>} (line 117)\n",
      "warning[None:154:<section>]: missing element <type> within <section> tag{'oid': '0853a30a-a25f-478c-ac0c-f92a5b2d7733', 'name': '2000-01-13', 'properties': <Property Weight>} (line 154)\n",
      "warning[None:191:<section>]: missing element <type> within <section> tag{'oid': 'c07129d4-572a-4382-b3da-9babdf7fc6b1', 'name': '2000-01-14', 'properties': <Property Weight>} (line 191)\n",
      "warning[None:228:<section>]: missing element <type> within <section> tag{'oid': '5c8a9df7-cb43-409b-8e49-1bf0459d6115', 'name': '2000-01-15', 'properties': <Property Weight>} (line 228)\n",
      "warning[None:265:<section>]: missing element <type> within <section> tag{'oid': 'ae67cf10-ae0a-40a9-9147-5e6b823da550', 'name': '2000-01-16', 'properties': <Property Weight>} (line 265)\n",
      "warning[None:302:<section>]: missing element <type> within <section> tag{'oid': 'c0ba798e-6e04-4256-8227-204bffc93c14', 'name': '2000-01-17', 'properties': <Property Weight>} (line 302)\n",
      "warning[None:6:<section>]: missing element <type> within <section> tag{'oid': '2172e063-4d1a-44ae-bec7-457c5fa27d79', 'name': '2000-01-18', 'properties': <Property Weight>} (line 6)\n",
      "warning[None:6:<section>]: missing element <type> within <section> tag{'oid': 'b69138d6-7597-406e-ac8e-c76051e1974f', 'name': '2000-01-01', 'properties': <Property Weight>} (line 6)\n",
      "warning[None:43:<section>]: missing element <type> within <section> tag{'oid': '3b5fe81a-223c-4390-8f10-e257af3bd72e', 'name': '2000-01-02', 'properties': <Property Weight>} (line 43)\n",
      "warning[None:80:<section>]: missing element <type> within <section> tag{'oid': 'c5d4e8c3-69f0-463c-8f5a-1e2b8dc4b70e', 'name': '2000-01-11', 'properties': <Property Weight>} (line 80)\n",
      "warning[None:117:<section>]: missing element <type> within <section> tag{'oid': '054c0d73-6769-43f4-a412-eb041e0a23b7', 'name': '2000-01-12', 'properties': <Property Weight>} (line 117)\n",
      "warning[None:154:<section>]: missing element <type> within <section> tag{'oid': 'b44c55ad-5364-412c-8a49-2746f8944518', 'name': '2000-01-13', 'properties': <Property Weight>} (line 154)\n",
      "warning[None:191:<section>]: missing element <type> within <section> tag{'oid': '0230da61-d2fa-461c-83e8-119eaea1f3be', 'name': '2000-01-14', 'properties': <Property Weight>} (line 191)\n",
      "warning[None:228:<section>]: missing element <type> within <section> tag{'oid': '2b9803f3-e60a-4023-b406-755845cab738', 'name': '2000-01-15', 'properties': <Property Weight>} (line 228)\n",
      "warning[None:265:<section>]: missing element <type> within <section> tag{'oid': '61e89d2c-a791-42da-b867-ca9e58abf44e', 'name': '2000-01-16', 'properties': <Property Weight>} (line 265)\n",
      "warning[None:302:<section>]: missing element <type> within <section> tag{'oid': 'e265270f-d645-48ec-b538-0d0d4e7751c0', 'name': '2000-01-17', 'properties': <Property Weight>} (line 302)\n",
      "warning[None:339:<section>]: missing element <type> within <section> tag{'oid': 'cb0855b2-d89c-46bb-88ed-160c32699c9e', 'name': '2000-01-18', 'properties': <Property Weight>} (line 339)\n",
      "warning[None:6:<section>]: missing element <type> within <section> tag{'oid': '20da952e-2134-4cc4-90aa-2bb685d08ffd', 'name': '2000-01-19', 'properties': <Property Weight>} (line 6)\n"
     ]
    },
    {
     "name": "stderr",
     "output_type": "stream",
     "text": [
      "warning[None:6:<section>]: missing element <type> within <section> tag{'oid': '51e94aff-e3bc-4581-a87b-ea93503c794c', 'name': '2000-01-01', 'properties': <Property Weight>} (line 6)\n",
      "warning[None:43:<section>]: missing element <type> within <section> tag{'oid': '8a78af9c-8f75-43ba-8ad8-67a041e23767', 'name': '2000-01-02', 'properties': <Property Weight>} (line 43)\n",
      "warning[None:80:<section>]: missing element <type> within <section> tag{'oid': '7d25f8af-b013-4f6d-8828-1bbe018b1c27', 'name': '2000-01-11', 'properties': <Property Weight>} (line 80)\n",
      "warning[None:117:<section>]: missing element <type> within <section> tag{'oid': 'dcaf2618-7d65-4b34-9d57-27ca018eb2bf', 'name': '2000-01-12', 'properties': <Property Weight>} (line 117)\n",
      "warning[None:154:<section>]: missing element <type> within <section> tag{'oid': '8631b837-3100-4683-bb10-4fd92cefa070', 'name': '2000-01-13', 'properties': <Property Weight>} (line 154)\n",
      "warning[None:191:<section>]: missing element <type> within <section> tag{'oid': 'c943cb77-13e9-4058-9508-cba9ed0c7ccb', 'name': '2000-01-14', 'properties': <Property Weight>} (line 191)\n",
      "warning[None:228:<section>]: missing element <type> within <section> tag{'oid': '775689a5-4676-461c-8d7e-03569ce9541c', 'name': '2000-01-15', 'properties': <Property Weight>} (line 228)\n",
      "warning[None:265:<section>]: missing element <type> within <section> tag{'oid': 'a8bc23c7-4e72-420c-a386-83b042033ece', 'name': '2000-01-16', 'properties': <Property Weight>} (line 265)\n",
      "warning[None:302:<section>]: missing element <type> within <section> tag{'oid': 'e9e9aa94-249c-4432-ba68-a927f50b0cac', 'name': '2000-01-17', 'properties': <Property Weight>} (line 302)\n",
      "warning[None:339:<section>]: missing element <type> within <section> tag{'oid': 'e034d317-1459-46fa-ba5e-16e1c9dbeb2e', 'name': '2000-01-18', 'properties': <Property Weight>} (line 339)\n",
      "warning[None:376:<section>]: missing element <type> within <section> tag{'oid': '393b644e-46ca-4f08-9556-fb8a4491d416', 'name': '2000-01-19', 'properties': <Property Weight>} (line 376)\n",
      "warning[None:6:<section>]: missing element <type> within <section> tag{'oid': 'e84faaa2-711e-4e1c-a834-270ea0fc6d9e', 'name': '2000-01-20', 'properties': <Property Weight>} (line 6)\n",
      "warning[None:6:<section>]: missing element <type> within <section> tag{'oid': 'fbdd71ca-e537-416e-b88d-5a7702adfb64', 'name': '2000-01-01', 'properties': <Property Weight>} (line 6)\n",
      "warning[None:43:<section>]: missing element <type> within <section> tag{'oid': '5e6bb244-31c9-458e-886f-bc3adbf5bc2f', 'name': '2000-01-02', 'properties': <Property Weight>} (line 43)\n",
      "warning[None:80:<section>]: missing element <type> within <section> tag{'oid': '57d3a0a0-1838-4f63-84f6-6c9b411da08f', 'name': '2000-01-11', 'properties': <Property Weight>} (line 80)\n",
      "warning[None:117:<section>]: missing element <type> within <section> tag{'oid': '59acee08-d4a4-407f-a451-a7229a684d3a', 'name': '2000-01-12', 'properties': <Property Weight>} (line 117)\n",
      "warning[None:154:<section>]: missing element <type> within <section> tag{'oid': '8c3a34cc-879b-4461-a199-75594feb71a0', 'name': '2000-01-13', 'properties': <Property Weight>} (line 154)\n",
      "warning[None:191:<section>]: missing element <type> within <section> tag{'oid': '61a39347-5af3-46d8-a584-b1927227118e', 'name': '2000-01-14', 'properties': <Property Weight>} (line 191)\n",
      "warning[None:228:<section>]: missing element <type> within <section> tag{'oid': '2ead8384-13a9-4035-b3ff-27db40d38d11', 'name': '2000-01-15', 'properties': <Property Weight>} (line 228)\n",
      "warning[None:265:<section>]: missing element <type> within <section> tag{'oid': '9eb066b7-f76e-4643-808a-18073aa832ed', 'name': '2000-01-16', 'properties': <Property Weight>} (line 265)\n",
      "warning[None:302:<section>]: missing element <type> within <section> tag{'oid': 'b1dc64e6-e02c-4ccb-9a6c-e5147f4150d1', 'name': '2000-01-17', 'properties': <Property Weight>} (line 302)\n",
      "warning[None:339:<section>]: missing element <type> within <section> tag{'oid': 'd9ea71be-8bae-4047-96b6-dcb3836400e2', 'name': '2000-01-18', 'properties': <Property Weight>} (line 339)\n",
      "warning[None:376:<section>]: missing element <type> within <section> tag{'oid': '275f74fd-98e5-41e4-8465-2324aecb3eb0', 'name': '2000-01-19', 'properties': <Property Weight>} (line 376)\n",
      "warning[None:413:<section>]: missing element <type> within <section> tag{'oid': 'eea5606a-c2d5-476d-abf8-8783cdfb4e1a', 'name': '2000-01-20', 'properties': <Property Weight>} (line 413)\n",
      "warning[None:6:<section>]: missing element <type> within <section> tag{'oid': '49fa02b6-8a04-4b8c-94b2-2a8343297590', 'name': '2000-01-03', 'properties': <Property Weight>} (line 6)\n",
      "warning[None:6:<section>]: missing element <type> within <section> tag{'oid': 'ad668548-80f4-41fc-8980-0c5f410098af', 'name': '2000-01-01', 'properties': <Property Weight>} (line 6)\n",
      "warning[None:43:<section>]: missing element <type> within <section> tag{'oid': '472dce72-3a6b-4222-abe2-1ec4acc6439b', 'name': '2000-01-02', 'properties': <Property Weight>} (line 43)\n",
      "warning[None:80:<section>]: missing element <type> within <section> tag{'oid': 'b1040786-0763-4346-8aed-bf0561d09070', 'name': '2000-01-03', 'properties': <Property Weight>} (line 80)\n",
      "warning[None:117:<section>]: missing element <type> within <section> tag{'oid': 'd3910994-4d4a-4a4f-814c-532742e0ca7a', 'name': '2000-01-11', 'properties': <Property Weight>} (line 117)\n",
      "warning[None:154:<section>]: missing element <type> within <section> tag{'oid': 'a504abab-51c4-42b8-9e7b-aa9c2ee2f997', 'name': '2000-01-12', 'properties': <Property Weight>} (line 154)\n",
      "warning[None:191:<section>]: missing element <type> within <section> tag{'oid': 'cf4261c1-a1f3-4363-9ada-cc352d082aca', 'name': '2000-01-13', 'properties': <Property Weight>} (line 191)\n",
      "warning[None:228:<section>]: missing element <type> within <section> tag{'oid': 'b676e6e3-fcec-4559-821e-e147c6af20b6', 'name': '2000-01-14', 'properties': <Property Weight>} (line 228)\n",
      "warning[None:265:<section>]: missing element <type> within <section> tag{'oid': '09d80799-618c-48b5-8ba7-b8dd45664b60', 'name': '2000-01-15', 'properties': <Property Weight>} (line 265)\n",
      "warning[None:302:<section>]: missing element <type> within <section> tag{'oid': 'bd96b69b-b649-491a-b1cd-c62cff4d0745', 'name': '2000-01-16', 'properties': <Property Weight>} (line 302)\n",
      "warning[None:339:<section>]: missing element <type> within <section> tag{'oid': '7b8eaa86-5cc4-4e96-81e7-dbdd6b9dcf07', 'name': '2000-01-17', 'properties': <Property Weight>} (line 339)\n",
      "warning[None:376:<section>]: missing element <type> within <section> tag{'oid': '50e20fd0-f6e2-48d3-9533-257f10ff7499', 'name': '2000-01-18', 'properties': <Property Weight>} (line 376)\n",
      "warning[None:413:<section>]: missing element <type> within <section> tag{'oid': 'bebde28b-29af-43bc-8d8e-94208d1e2849', 'name': '2000-01-19', 'properties': <Property Weight>} (line 413)\n",
      "warning[None:450:<section>]: missing element <type> within <section> tag{'oid': 'dfc0a3ea-b343-4a1d-95cb-7c2ecfcaf3df', 'name': '2000-01-20', 'properties': <Property Weight>} (line 450)\n",
      "warning[None:6:<section>]: missing element <type> within <section> tag{'oid': 'a75b69bd-e93b-4800-9eb7-fa9fba98061d', 'name': '2000-01-04', 'properties': <Property Weight>} (line 6)\n",
      "warning[None:6:<section>]: missing element <type> within <section> tag{'oid': '464b101c-c0a9-4988-8a67-f74014f40336', 'name': '2000-01-01', 'properties': <Property Weight>} (line 6)\n",
      "warning[None:43:<section>]: missing element <type> within <section> tag{'oid': '76e19eca-852c-428f-9d45-f5d8b33dc180', 'name': '2000-01-02', 'properties': <Property Weight>} (line 43)\n",
      "warning[None:80:<section>]: missing element <type> within <section> tag{'oid': '181a9f5a-3470-43c5-9d0d-67ae406ee321', 'name': '2000-01-03', 'properties': <Property Weight>} (line 80)\n",
      "warning[None:117:<section>]: missing element <type> within <section> tag{'oid': 'b1d6ef4a-d8a7-48e9-a5d3-66317361caab', 'name': '2000-01-04', 'properties': <Property Weight>} (line 117)\n",
      "warning[None:154:<section>]: missing element <type> within <section> tag{'oid': '5ef3c57d-9745-4a39-9c05-151ca9840c28', 'name': '2000-01-11', 'properties': <Property Weight>} (line 154)\n",
      "warning[None:191:<section>]: missing element <type> within <section> tag{'oid': '1d926e39-dbdd-4484-8fd1-8636e075c41f', 'name': '2000-01-12', 'properties': <Property Weight>} (line 191)\n",
      "warning[None:228:<section>]: missing element <type> within <section> tag{'oid': 'd213d6a7-d700-4181-b3de-616a182f5142', 'name': '2000-01-13', 'properties': <Property Weight>} (line 228)\n",
      "warning[None:265:<section>]: missing element <type> within <section> tag{'oid': '083fd9f0-2b9e-404e-b7b4-944eda64e8a7', 'name': '2000-01-14', 'properties': <Property Weight>} (line 265)\n",
      "warning[None:302:<section>]: missing element <type> within <section> tag{'oid': '358433ec-f967-4b9b-be88-feb05fa733c6', 'name': '2000-01-15', 'properties': <Property Weight>} (line 302)\n",
      "warning[None:339:<section>]: missing element <type> within <section> tag{'oid': 'fea7acba-a0dd-4dfc-8712-7ca25b7750c1', 'name': '2000-01-16', 'properties': <Property Weight>} (line 339)\n",
      "warning[None:376:<section>]: missing element <type> within <section> tag{'oid': '217e5c4e-38d5-4824-89a4-9e3cd7ee7aaf', 'name': '2000-01-17', 'properties': <Property Weight>} (line 376)\n",
      "warning[None:413:<section>]: missing element <type> within <section> tag{'oid': 'a31c6c27-47a0-49e6-9d45-c744da342744', 'name': '2000-01-18', 'properties': <Property Weight>} (line 413)\n",
      "warning[None:450:<section>]: missing element <type> within <section> tag{'oid': 'f7da4ef2-54da-4286-b493-a79ba1f43df6', 'name': '2000-01-19', 'properties': <Property Weight>} (line 450)\n",
      "warning[None:487:<section>]: missing element <type> within <section> tag{'oid': 'a9571ef2-6e6e-4e22-8183-ad2b38ef9263', 'name': '2000-01-20', 'properties': <Property Weight>} (line 487)\n",
      "warning[None:6:<section>]: missing element <type> within <section> tag{'oid': '36d463d7-74bf-4972-8b23-b89bd91bd4ef', 'name': '2000-01-05', 'properties': <Property Weight>} (line 6)\n"
     ]
    },
    {
     "name": "stderr",
     "output_type": "stream",
     "text": [
      "warning[None:6:<section>]: missing element <type> within <section> tag{'oid': '3a94a49f-2efc-41a2-af82-54f1ded4301c', 'name': '2000-01-01', 'properties': <Property Weight>} (line 6)\n",
      "warning[None:43:<section>]: missing element <type> within <section> tag{'oid': '89f32662-64f6-4af7-a6f9-968f280c6ff8', 'name': '2000-01-02', 'properties': <Property Weight>} (line 43)\n",
      "warning[None:80:<section>]: missing element <type> within <section> tag{'oid': '3ddde281-5354-495c-b038-13f1fb44cb7f', 'name': '2000-01-03', 'properties': <Property Weight>} (line 80)\n",
      "warning[None:117:<section>]: missing element <type> within <section> tag{'oid': 'e136060f-a05c-47cb-b5b5-94efa4e04f0f', 'name': '2000-01-04', 'properties': <Property Weight>} (line 117)\n",
      "warning[None:154:<section>]: missing element <type> within <section> tag{'oid': '41c964ef-9b52-4e18-9ec3-df345bd47750', 'name': '2000-01-05', 'properties': <Property Weight>} (line 154)\n",
      "warning[None:191:<section>]: missing element <type> within <section> tag{'oid': 'c7d4934f-0959-487a-9a90-df00a1846bfa', 'name': '2000-01-11', 'properties': <Property Weight>} (line 191)\n",
      "warning[None:228:<section>]: missing element <type> within <section> tag{'oid': '095d7ed4-192e-40b0-a585-8e41fa78c265', 'name': '2000-01-12', 'properties': <Property Weight>} (line 228)\n",
      "warning[None:265:<section>]: missing element <type> within <section> tag{'oid': '1f98f90f-d503-4f17-9a63-dda927e636ed', 'name': '2000-01-13', 'properties': <Property Weight>} (line 265)\n",
      "warning[None:302:<section>]: missing element <type> within <section> tag{'oid': 'd7bef29a-7207-417a-9e2e-569894fa6a03', 'name': '2000-01-14', 'properties': <Property Weight>} (line 302)\n",
      "warning[None:339:<section>]: missing element <type> within <section> tag{'oid': '77550ca8-8123-48e8-af29-7ceb906b2a67', 'name': '2000-01-15', 'properties': <Property Weight>} (line 339)\n",
      "warning[None:376:<section>]: missing element <type> within <section> tag{'oid': '94a3cb9d-3446-44d0-8f76-aa384408d7cf', 'name': '2000-01-16', 'properties': <Property Weight>} (line 376)\n",
      "warning[None:413:<section>]: missing element <type> within <section> tag{'oid': '336cc716-f621-4a98-8f7d-7a928acb4be7', 'name': '2000-01-17', 'properties': <Property Weight>} (line 413)\n",
      "warning[None:450:<section>]: missing element <type> within <section> tag{'oid': 'f9a12a59-2562-4008-9011-bed80058d7f3', 'name': '2000-01-18', 'properties': <Property Weight>} (line 450)\n",
      "warning[None:487:<section>]: missing element <type> within <section> tag{'oid': 'b419a77d-dec3-489a-a1b3-9ad361432332', 'name': '2000-01-19', 'properties': <Property Weight>} (line 487)\n",
      "warning[None:524:<section>]: missing element <type> within <section> tag{'oid': 'ee20f7df-90bc-4d09-80e6-3845dd470f4e', 'name': '2000-01-20', 'properties': <Property Weight>} (line 524)\n",
      "warning[None:6:<section>]: missing element <type> within <section> tag{'oid': '92f06479-0339-465c-b992-57dd3f05dea7', 'name': '2000-01-06', 'properties': <Property Weight>} (line 6)\n",
      "warning[None:6:<section>]: missing element <type> within <section> tag{'oid': '6502b21d-de1f-48ab-b300-f7ffcbf65925', 'name': '2000-01-01', 'properties': <Property Weight>} (line 6)\n",
      "warning[None:43:<section>]: missing element <type> within <section> tag{'oid': 'ed6051a8-6149-43b1-90c3-716312b5e49b', 'name': '2000-01-02', 'properties': <Property Weight>} (line 43)\n",
      "warning[None:80:<section>]: missing element <type> within <section> tag{'oid': '828022bc-fda0-4560-8782-d13428602b7d', 'name': '2000-01-03', 'properties': <Property Weight>} (line 80)\n",
      "warning[None:117:<section>]: missing element <type> within <section> tag{'oid': 'bf0d8c56-2484-4077-b67f-082f6016d2d3', 'name': '2000-01-04', 'properties': <Property Weight>} (line 117)\n",
      "warning[None:154:<section>]: missing element <type> within <section> tag{'oid': '37b8b650-8c94-41d4-a7a1-9f00b3473e31', 'name': '2000-01-05', 'properties': <Property Weight>} (line 154)\n",
      "warning[None:191:<section>]: missing element <type> within <section> tag{'oid': 'afcfc179-04e9-4098-9722-da9227a686f9', 'name': '2000-01-06', 'properties': <Property Weight>} (line 191)\n",
      "warning[None:228:<section>]: missing element <type> within <section> tag{'oid': 'a1d2290d-912f-433a-9f1a-a13e187a9f98', 'name': '2000-01-11', 'properties': <Property Weight>} (line 228)\n",
      "warning[None:265:<section>]: missing element <type> within <section> tag{'oid': 'c33787c6-fd85-409c-bab1-7156754fadd1', 'name': '2000-01-12', 'properties': <Property Weight>} (line 265)\n",
      "warning[None:302:<section>]: missing element <type> within <section> tag{'oid': 'd79e840c-45c0-450b-9e6b-32bf3eaaf749', 'name': '2000-01-13', 'properties': <Property Weight>} (line 302)\n",
      "warning[None:339:<section>]: missing element <type> within <section> tag{'oid': 'cada24c0-5534-484a-918f-addd595ddc1c', 'name': '2000-01-14', 'properties': <Property Weight>} (line 339)\n",
      "warning[None:376:<section>]: missing element <type> within <section> tag{'oid': '59d1e589-3322-4608-82e2-23323bb26bda', 'name': '2000-01-15', 'properties': <Property Weight>} (line 376)\n",
      "warning[None:413:<section>]: missing element <type> within <section> tag{'oid': '3f50a94f-02fc-4718-9ea2-058f6f1e217b', 'name': '2000-01-16', 'properties': <Property Weight>} (line 413)\n",
      "warning[None:450:<section>]: missing element <type> within <section> tag{'oid': '86f87bb4-e6f5-46cc-9ce0-00120f4ec2e3', 'name': '2000-01-17', 'properties': <Property Weight>} (line 450)\n",
      "warning[None:487:<section>]: missing element <type> within <section> tag{'oid': 'c8dab662-0887-4b6e-b588-145cfc7753f2', 'name': '2000-01-18', 'properties': <Property Weight>} (line 487)\n",
      "warning[None:524:<section>]: missing element <type> within <section> tag{'oid': 'ac6fd0d4-a4d9-456f-adab-4496bab53234', 'name': '2000-01-19', 'properties': <Property Weight>} (line 524)\n",
      "warning[None:561:<section>]: missing element <type> within <section> tag{'oid': '9b12e05c-273b-44be-8c6a-96ef134cd057', 'name': '2000-01-20', 'properties': <Property Weight>} (line 561)\n",
      "warning[None:6:<section>]: missing element <type> within <section> tag{'oid': 'c324431d-1184-45d7-968f-a70be4bc5408', 'name': '2000-01-07', 'properties': <Property Weight>} (line 6)\n",
      "warning[None:6:<section>]: missing element <type> within <section> tag{'oid': '3984973b-28f9-474a-b16c-bed977a64aa9', 'name': '2000-01-01', 'properties': <Property Weight>} (line 6)\n",
      "warning[None:43:<section>]: missing element <type> within <section> tag{'oid': 'da2fff37-bc72-4465-bac1-74e41db24bc1', 'name': '2000-01-02', 'properties': <Property Weight>} (line 43)\n",
      "warning[None:80:<section>]: missing element <type> within <section> tag{'oid': '19d5f813-3305-47ad-ba3f-6347f7adf0f0', 'name': '2000-01-03', 'properties': <Property Weight>} (line 80)\n",
      "warning[None:117:<section>]: missing element <type> within <section> tag{'oid': '615d6beb-266d-4b66-8acc-e9959754e494', 'name': '2000-01-04', 'properties': <Property Weight>} (line 117)\n",
      "warning[None:154:<section>]: missing element <type> within <section> tag{'oid': 'e2d57ac5-d148-4cb4-b39a-1a56f635d7ef', 'name': '2000-01-05', 'properties': <Property Weight>} (line 154)\n",
      "warning[None:191:<section>]: missing element <type> within <section> tag{'oid': '9a044d74-aa0b-45f0-93c3-4dac2725ce4c', 'name': '2000-01-06', 'properties': <Property Weight>} (line 191)\n",
      "warning[None:228:<section>]: missing element <type> within <section> tag{'oid': '0e275c1b-a628-4551-9d4a-c6397e09cedd', 'name': '2000-01-07', 'properties': <Property Weight>} (line 228)\n",
      "warning[None:265:<section>]: missing element <type> within <section> tag{'oid': 'f16e39c8-9bbc-4137-b438-f984f48ef989', 'name': '2000-01-11', 'properties': <Property Weight>} (line 265)\n",
      "warning[None:302:<section>]: missing element <type> within <section> tag{'oid': '4343a78a-d180-472c-9bdb-72c7c51673b0', 'name': '2000-01-12', 'properties': <Property Weight>} (line 302)\n",
      "warning[None:339:<section>]: missing element <type> within <section> tag{'oid': '99b644bf-8a94-45cb-a809-8d693ffbb516', 'name': '2000-01-13', 'properties': <Property Weight>} (line 339)\n",
      "warning[None:376:<section>]: missing element <type> within <section> tag{'oid': '2f4c5986-7113-4adc-8061-570c4e2cb42a', 'name': '2000-01-14', 'properties': <Property Weight>} (line 376)\n",
      "warning[None:413:<section>]: missing element <type> within <section> tag{'oid': '6763431f-0366-4791-bba1-f394bc6eb0c7', 'name': '2000-01-15', 'properties': <Property Weight>} (line 413)\n",
      "warning[None:450:<section>]: missing element <type> within <section> tag{'oid': 'd056200d-ca52-4230-bcb2-0b5d54efd0f4', 'name': '2000-01-16', 'properties': <Property Weight>} (line 450)\n",
      "warning[None:487:<section>]: missing element <type> within <section> tag{'oid': '425fba10-33c4-49c9-a8b5-0656decfa803', 'name': '2000-01-17', 'properties': <Property Weight>} (line 487)\n",
      "warning[None:524:<section>]: missing element <type> within <section> tag{'oid': '16f87d04-9b1d-40c5-b2a7-1a91f2d6111c', 'name': '2000-01-18', 'properties': <Property Weight>} (line 524)\n",
      "warning[None:561:<section>]: missing element <type> within <section> tag{'oid': '3fd793fc-f8d1-40b9-a241-1a0b10364d2b', 'name': '2000-01-19', 'properties': <Property Weight>} (line 561)\n",
      "warning[None:598:<section>]: missing element <type> within <section> tag{'oid': 'ebb2928a-3fae-4ad6-990f-464425556d61', 'name': '2000-01-20', 'properties': <Property Weight>} (line 598)\n",
      "warning[None:6:<section>]: missing element <type> within <section> tag{'oid': '4f003566-75d6-4597-ba87-9f4a0ca568ff', 'name': '2000-01-08', 'properties': <Property Weight>} (line 6)\n",
      "warning[None:6:<section>]: missing element <type> within <section> tag{'oid': '37dcc0ae-cad0-4c1d-b390-818454b8ce81', 'name': '2000-01-01', 'properties': <Property Weight>} (line 6)\n",
      "warning[None:43:<section>]: missing element <type> within <section> tag{'oid': '8e0c23ad-e6e6-4b2e-89e8-4755d3ba449c', 'name': '2000-01-02', 'properties': <Property Weight>} (line 43)\n",
      "warning[None:80:<section>]: missing element <type> within <section> tag{'oid': 'ad7794cc-38fe-4b79-ab34-622d5ac5cd47', 'name': '2000-01-03', 'properties': <Property Weight>} (line 80)\n",
      "warning[None:117:<section>]: missing element <type> within <section> tag{'oid': '920b9a5d-7062-4da1-9a87-ad95c51bd205', 'name': '2000-01-04', 'properties': <Property Weight>} (line 117)\n",
      "warning[None:154:<section>]: missing element <type> within <section> tag{'oid': '6f0b6acc-b36e-437f-aad5-53942547b6b9', 'name': '2000-01-05', 'properties': <Property Weight>} (line 154)\n",
      "warning[None:191:<section>]: missing element <type> within <section> tag{'oid': '0b2494b3-f2be-4b75-a968-c1ede8357f9d', 'name': '2000-01-06', 'properties': <Property Weight>} (line 191)\n",
      "warning[None:228:<section>]: missing element <type> within <section> tag{'oid': 'f8564ff6-b202-41c4-96a5-dd1634c2bd59', 'name': '2000-01-07', 'properties': <Property Weight>} (line 228)\n"
     ]
    },
    {
     "name": "stderr",
     "output_type": "stream",
     "text": [
      "warning[None:265:<section>]: missing element <type> within <section> tag{'oid': '305d0755-b00a-4490-9650-8ab01bc0828a', 'name': '2000-01-08', 'properties': <Property Weight>} (line 265)\n",
      "warning[None:302:<section>]: missing element <type> within <section> tag{'oid': '37132d35-600c-4884-bf49-2ce30670da5e', 'name': '2000-01-11', 'properties': <Property Weight>} (line 302)\n",
      "warning[None:339:<section>]: missing element <type> within <section> tag{'oid': 'a7f14651-f77b-4a3b-a10c-749e5817ded0', 'name': '2000-01-12', 'properties': <Property Weight>} (line 339)\n",
      "warning[None:376:<section>]: missing element <type> within <section> tag{'oid': 'a17cee1b-7f92-4056-8734-c02f8dfafda9', 'name': '2000-01-13', 'properties': <Property Weight>} (line 376)\n",
      "warning[None:413:<section>]: missing element <type> within <section> tag{'oid': 'fdf47a50-18cb-43ef-8438-2e1f4e3ef18d', 'name': '2000-01-14', 'properties': <Property Weight>} (line 413)\n",
      "warning[None:450:<section>]: missing element <type> within <section> tag{'oid': '67aa7674-313d-4f0c-a487-c4adb3312c98', 'name': '2000-01-15', 'properties': <Property Weight>} (line 450)\n",
      "warning[None:487:<section>]: missing element <type> within <section> tag{'oid': '6c870933-66c6-4233-983f-a998c1543b4c', 'name': '2000-01-16', 'properties': <Property Weight>} (line 487)\n",
      "warning[None:524:<section>]: missing element <type> within <section> tag{'oid': '3ba8f7f5-33bb-4db7-9127-a7c844db57fe', 'name': '2000-01-17', 'properties': <Property Weight>} (line 524)\n",
      "warning[None:561:<section>]: missing element <type> within <section> tag{'oid': 'fe1f2984-b551-4c4a-8382-970a8c15a426', 'name': '2000-01-18', 'properties': <Property Weight>} (line 561)\n",
      "warning[None:598:<section>]: missing element <type> within <section> tag{'oid': '4661bfd0-aa90-4ada-9329-aa90a8090f9b', 'name': '2000-01-19', 'properties': <Property Weight>} (line 598)\n",
      "warning[None:635:<section>]: missing element <type> within <section> tag{'oid': '2209ef67-084d-4959-badc-5abf8ba57a94', 'name': '2000-01-20', 'properties': <Property Weight>} (line 635)\n",
      "warning[None:6:<section>]: missing element <type> within <section> tag{'oid': '843ed0cb-d253-41c3-b5ee-6a616d7362b7', 'name': '2000-01-09', 'properties': <Property Weight>} (line 6)\n",
      "warning[None:6:<section>]: missing element <type> within <section> tag{'oid': 'e052c79a-56b0-4802-b103-9f45f87def58', 'name': '2000-01-01', 'properties': <Property Weight>} (line 6)\n",
      "warning[None:43:<section>]: missing element <type> within <section> tag{'oid': '9253e0c1-3f34-4637-9783-461a17fa075b', 'name': '2000-01-02', 'properties': <Property Weight>} (line 43)\n",
      "warning[None:80:<section>]: missing element <type> within <section> tag{'oid': 'f3988567-1d1f-4baf-a4d8-619913855656', 'name': '2000-01-03', 'properties': <Property Weight>} (line 80)\n",
      "warning[None:117:<section>]: missing element <type> within <section> tag{'oid': 'fc917fc0-857a-439e-b23b-cc26c3f94674', 'name': '2000-01-04', 'properties': <Property Weight>} (line 117)\n",
      "warning[None:154:<section>]: missing element <type> within <section> tag{'oid': '373dbb5e-5b73-4e2d-831e-fd77db643291', 'name': '2000-01-05', 'properties': <Property Weight>} (line 154)\n",
      "warning[None:191:<section>]: missing element <type> within <section> tag{'oid': '7aea0e60-baad-4bdf-bedc-94eed68f5a0f', 'name': '2000-01-06', 'properties': <Property Weight>} (line 191)\n",
      "warning[None:228:<section>]: missing element <type> within <section> tag{'oid': '48310be5-8fd7-4c68-b696-319e14edfa54', 'name': '2000-01-07', 'properties': <Property Weight>} (line 228)\n",
      "warning[None:265:<section>]: missing element <type> within <section> tag{'oid': 'de937b94-0c2f-47dd-8f6d-c8f0adf8bc08', 'name': '2000-01-08', 'properties': <Property Weight>} (line 265)\n",
      "warning[None:302:<section>]: missing element <type> within <section> tag{'oid': 'bcd1d390-4746-4726-aaee-737df72d37d5', 'name': '2000-01-09', 'properties': <Property Weight>} (line 302)\n",
      "warning[None:339:<section>]: missing element <type> within <section> tag{'oid': 'c4ed2e9d-2a6d-4b5d-be9a-97483003c0be', 'name': '2000-01-11', 'properties': <Property Weight>} (line 339)\n",
      "warning[None:376:<section>]: missing element <type> within <section> tag{'oid': 'e659160a-c45b-462a-ad5b-24f334497be2', 'name': '2000-01-12', 'properties': <Property Weight>} (line 376)\n",
      "warning[None:413:<section>]: missing element <type> within <section> tag{'oid': '3a391d76-c5ca-4215-b7c9-3f25c0e748be', 'name': '2000-01-13', 'properties': <Property Weight>} (line 413)\n",
      "warning[None:450:<section>]: missing element <type> within <section> tag{'oid': 'ce184046-a8ee-482c-8682-9abc7a580311', 'name': '2000-01-14', 'properties': <Property Weight>} (line 450)\n",
      "warning[None:487:<section>]: missing element <type> within <section> tag{'oid': 'c61f6eae-51d3-4972-bcb8-fb35363a80c2', 'name': '2000-01-15', 'properties': <Property Weight>} (line 487)\n",
      "warning[None:524:<section>]: missing element <type> within <section> tag{'oid': '8214b9a1-c413-4965-8a4f-5535763c7912', 'name': '2000-01-16', 'properties': <Property Weight>} (line 524)\n",
      "warning[None:561:<section>]: missing element <type> within <section> tag{'oid': '786a60c2-67f7-4f81-9788-97319726ad91', 'name': '2000-01-17', 'properties': <Property Weight>} (line 561)\n",
      "warning[None:598:<section>]: missing element <type> within <section> tag{'oid': 'f8136bc6-853c-40a0-a3d7-6934c4ad4882', 'name': '2000-01-18', 'properties': <Property Weight>} (line 598)\n",
      "warning[None:635:<section>]: missing element <type> within <section> tag{'oid': '6af6b203-bc55-4a02-8968-2ac3cd7f7a88', 'name': '2000-01-19', 'properties': <Property Weight>} (line 635)\n",
      "warning[None:672:<section>]: missing element <type> within <section> tag{'oid': '25b70909-99e8-485a-88c4-66ee6287f65f', 'name': '2000-01-20', 'properties': <Property Weight>} (line 672)\n",
      "warning[None:6:<section>]: missing element <type> within <section> tag{'oid': '7141cc4a-bd94-426d-b71d-5d0d87d738a8', 'name': '2000-01-10', 'properties': <Property Weight>} (line 6)\n",
      "warning[None:6:<section>]: missing element <type> within <section> tag{'oid': 'b43f18f1-b43c-4518-a94f-19efaa725718', 'name': '2000-01-01', 'properties': <Property Weight>} (line 6)\n",
      "warning[None:43:<section>]: missing element <type> within <section> tag{'oid': 'c9ac1cec-3c25-428c-97a2-22cfbd478ce9', 'name': '2000-01-02', 'properties': <Property Weight>} (line 43)\n",
      "warning[None:80:<section>]: missing element <type> within <section> tag{'oid': 'cee8f2eb-ef50-43d6-8a1e-aefdcf08515d', 'name': '2000-01-03', 'properties': <Property Weight>} (line 80)\n",
      "warning[None:117:<section>]: missing element <type> within <section> tag{'oid': 'c239cd82-fcf6-4e86-af43-44901a5dc13c', 'name': '2000-01-04', 'properties': <Property Weight>} (line 117)\n",
      "warning[None:154:<section>]: missing element <type> within <section> tag{'oid': '249e9340-6906-47df-ac3b-5243186e6f24', 'name': '2000-01-05', 'properties': <Property Weight>} (line 154)\n",
      "warning[None:191:<section>]: missing element <type> within <section> tag{'oid': '7062076c-056d-47e5-aa47-caf9da0e7b15', 'name': '2000-01-06', 'properties': <Property Weight>} (line 191)\n",
      "warning[None:228:<section>]: missing element <type> within <section> tag{'oid': '08c5e560-6803-4884-8c1f-c2abb2c8e4fd', 'name': '2000-01-07', 'properties': <Property Weight>} (line 228)\n",
      "warning[None:265:<section>]: missing element <type> within <section> tag{'oid': '6099a032-9671-4b08-9dcf-a1fa4136cd64', 'name': '2000-01-08', 'properties': <Property Weight>} (line 265)\n",
      "warning[None:302:<section>]: missing element <type> within <section> tag{'oid': 'eb9cf0cb-966e-4896-898c-2c864d8b9f46', 'name': '2000-01-09', 'properties': <Property Weight>} (line 302)\n",
      "warning[None:339:<section>]: missing element <type> within <section> tag{'oid': 'b2e2e259-bbba-4c5a-b8b4-553542a3d48e', 'name': '2000-01-10', 'properties': <Property Weight>} (line 339)\n",
      "warning[None:376:<section>]: missing element <type> within <section> tag{'oid': '17df6465-077d-412a-80c7-439dd8904dc8', 'name': '2000-01-11', 'properties': <Property Weight>} (line 376)\n",
      "warning[None:413:<section>]: missing element <type> within <section> tag{'oid': '5d74a4b9-5817-45be-a53a-c56560032419', 'name': '2000-01-12', 'properties': <Property Weight>} (line 413)\n",
      "warning[None:450:<section>]: missing element <type> within <section> tag{'oid': '04bb0c8f-a087-4ed7-a7c7-9deb414ae80c', 'name': '2000-01-13', 'properties': <Property Weight>} (line 450)\n",
      "warning[None:487:<section>]: missing element <type> within <section> tag{'oid': '478b6ba5-ed60-450c-a16d-063697d8696b', 'name': '2000-01-14', 'properties': <Property Weight>} (line 487)\n",
      "warning[None:524:<section>]: missing element <type> within <section> tag{'oid': '4a436e61-b81b-4c7f-a383-df3cb38997ca', 'name': '2000-01-15', 'properties': <Property Weight>} (line 524)\n",
      "warning[None:561:<section>]: missing element <type> within <section> tag{'oid': '4aaf10e3-b8d4-4916-be25-691a2e64a2bd', 'name': '2000-01-16', 'properties': <Property Weight>} (line 561)\n",
      "warning[None:598:<section>]: missing element <type> within <section> tag{'oid': 'b0524a47-c49e-40b4-affc-01c5753acdf0', 'name': '2000-01-17', 'properties': <Property Weight>} (line 598)\n",
      "warning[None:635:<section>]: missing element <type> within <section> tag{'oid': 'bd4988fe-cec8-4a77-82e5-3915b77c88a0', 'name': '2000-01-18', 'properties': <Property Weight>} (line 635)\n",
      "warning[None:672:<section>]: missing element <type> within <section> tag{'oid': 'e60bd336-45dd-4eb1-947b-19bb167f6686', 'name': '2000-01-19', 'properties': <Property Weight>} (line 672)\n",
      "warning[None:709:<section>]: missing element <type> within <section> tag{'oid': '518db48e-5233-4fd2-96da-05a63a454666', 'name': '2000-01-20', 'properties': <Property Weight>} (line 709)\n",
      "warning[None:6:<section>]: missing element <type> within <section> tag{'oid': 'b43f18f1-b43c-4518-a94f-19efaa725718', 'name': '2000-01-01', 'properties': <Property Weight>} (line 6)\n",
      "warning[None:43:<section>]: missing element <type> within <section> tag{'oid': 'c9ac1cec-3c25-428c-97a2-22cfbd478ce9', 'name': '2000-01-02', 'properties': <Property Weight>} (line 43)\n",
      "warning[None:80:<section>]: missing element <type> within <section> tag{'oid': 'cee8f2eb-ef50-43d6-8a1e-aefdcf08515d', 'name': '2000-01-03', 'properties': <Property Weight>} (line 80)\n",
      "warning[None:117:<section>]: missing element <type> within <section> tag{'oid': 'c239cd82-fcf6-4e86-af43-44901a5dc13c', 'name': '2000-01-04', 'properties': <Property Weight>} (line 117)\n",
      "warning[None:154:<section>]: missing element <type> within <section> tag{'oid': '249e9340-6906-47df-ac3b-5243186e6f24', 'name': '2000-01-05', 'properties': <Property Weight>} (line 154)\n",
      "warning[None:191:<section>]: missing element <type> within <section> tag{'oid': '7062076c-056d-47e5-aa47-caf9da0e7b15', 'name': '2000-01-06', 'properties': <Property Weight>} (line 191)\n",
      "warning[None:228:<section>]: missing element <type> within <section> tag{'oid': '08c5e560-6803-4884-8c1f-c2abb2c8e4fd', 'name': '2000-01-07', 'properties': <Property Weight>} (line 228)\n",
      "warning[None:265:<section>]: missing element <type> within <section> tag{'oid': '6099a032-9671-4b08-9dcf-a1fa4136cd64', 'name': '2000-01-08', 'properties': <Property Weight>} (line 265)\n",
      "warning[None:302:<section>]: missing element <type> within <section> tag{'oid': 'eb9cf0cb-966e-4896-898c-2c864d8b9f46', 'name': '2000-01-09', 'properties': <Property Weight>} (line 302)\n",
      "warning[None:339:<section>]: missing element <type> within <section> tag{'oid': 'b2e2e259-bbba-4c5a-b8b4-553542a3d48e', 'name': '2000-01-10', 'properties': <Property Weight>} (line 339)\n",
      "warning[None:376:<section>]: missing element <type> within <section> tag{'oid': '17df6465-077d-412a-80c7-439dd8904dc8', 'name': '2000-01-11', 'properties': <Property Weight>} (line 376)\n",
      "warning[None:413:<section>]: missing element <type> within <section> tag{'oid': '5d74a4b9-5817-45be-a53a-c56560032419', 'name': '2000-01-12', 'properties': <Property Weight>} (line 413)\n",
      "warning[None:450:<section>]: missing element <type> within <section> tag{'oid': '04bb0c8f-a087-4ed7-a7c7-9deb414ae80c', 'name': '2000-01-13', 'properties': <Property Weight>} (line 450)\n",
      "warning[None:487:<section>]: missing element <type> within <section> tag{'oid': '478b6ba5-ed60-450c-a16d-063697d8696b', 'name': '2000-01-14', 'properties': <Property Weight>} (line 487)\n",
      "warning[None:524:<section>]: missing element <type> within <section> tag{'oid': '4a436e61-b81b-4c7f-a383-df3cb38997ca', 'name': '2000-01-15', 'properties': <Property Weight>} (line 524)\n",
      "warning[None:561:<section>]: missing element <type> within <section> tag{'oid': '4aaf10e3-b8d4-4916-be25-691a2e64a2bd', 'name': '2000-01-16', 'properties': <Property Weight>} (line 561)\n",
      "warning[None:598:<section>]: missing element <type> within <section> tag{'oid': 'b0524a47-c49e-40b4-affc-01c5753acdf0', 'name': '2000-01-17', 'properties': <Property Weight>} (line 598)\n",
      "warning[None:635:<section>]: missing element <type> within <section> tag{'oid': 'bd4988fe-cec8-4a77-82e5-3915b77c88a0', 'name': '2000-01-18', 'properties': <Property Weight>} (line 635)\n",
      "warning[None:672:<section>]: missing element <type> within <section> tag{'oid': 'e60bd336-45dd-4eb1-947b-19bb167f6686', 'name': '2000-01-19', 'properties': <Property Weight>} (line 672)\n",
      "warning[None:709:<section>]: missing element <type> within <section> tag{'oid': '518db48e-5233-4fd2-96da-05a63a454666', 'name': '2000-01-20', 'properties': <Property Weight>} (line 709)\n",
      "warning[None:6:<section>]: missing element <type> within <section> tag{'oid': 'b43f18f1-b43c-4518-a94f-19efaa725718', 'name': '2000-01-01', 'properties': <Property Weight>} (line 6)\n",
      "warning[None:43:<section>]: missing element <type> within <section> tag{'oid': 'c9ac1cec-3c25-428c-97a2-22cfbd478ce9', 'name': '2000-01-02', 'properties': <Property Weight>} (line 43)\n",
      "warning[None:80:<section>]: missing element <type> within <section> tag{'oid': 'cee8f2eb-ef50-43d6-8a1e-aefdcf08515d', 'name': '2000-01-03', 'properties': <Property Weight>} (line 80)\n",
      "warning[None:117:<section>]: missing element <type> within <section> tag{'oid': 'c239cd82-fcf6-4e86-af43-44901a5dc13c', 'name': '2000-01-04', 'properties': <Property Weight>} (line 117)\n",
      "warning[None:154:<section>]: missing element <type> within <section> tag{'oid': '249e9340-6906-47df-ac3b-5243186e6f24', 'name': '2000-01-05', 'properties': <Property Weight>} (line 154)\n",
      "warning[None:191:<section>]: missing element <type> within <section> tag{'oid': '7062076c-056d-47e5-aa47-caf9da0e7b15', 'name': '2000-01-06', 'properties': <Property Weight>} (line 191)\n",
      "warning[None:228:<section>]: missing element <type> within <section> tag{'oid': '08c5e560-6803-4884-8c1f-c2abb2c8e4fd', 'name': '2000-01-07', 'properties': <Property Weight>} (line 228)\n",
      "warning[None:265:<section>]: missing element <type> within <section> tag{'oid': '6099a032-9671-4b08-9dcf-a1fa4136cd64', 'name': '2000-01-08', 'properties': <Property Weight>} (line 265)\n",
      "warning[None:302:<section>]: missing element <type> within <section> tag{'oid': 'eb9cf0cb-966e-4896-898c-2c864d8b9f46', 'name': '2000-01-09', 'properties': <Property Weight>} (line 302)\n",
      "warning[None:339:<section>]: missing element <type> within <section> tag{'oid': 'b2e2e259-bbba-4c5a-b8b4-553542a3d48e', 'name': '2000-01-10', 'properties': <Property Weight>} (line 339)\n",
      "warning[None:376:<section>]: missing element <type> within <section> tag{'oid': '17df6465-077d-412a-80c7-439dd8904dc8', 'name': '2000-01-11', 'properties': <Property Weight>} (line 376)\n",
      "warning[None:413:<section>]: missing element <type> within <section> tag{'oid': '5d74a4b9-5817-45be-a53a-c56560032419', 'name': '2000-01-12', 'properties': <Property Weight>} (line 413)\n",
      "warning[None:450:<section>]: missing element <type> within <section> tag{'oid': '04bb0c8f-a087-4ed7-a7c7-9deb414ae80c', 'name': '2000-01-13', 'properties': <Property Weight>} (line 450)\n",
      "warning[None:487:<section>]: missing element <type> within <section> tag{'oid': '478b6ba5-ed60-450c-a16d-063697d8696b', 'name': '2000-01-14', 'properties': <Property Weight>} (line 487)\n",
      "warning[None:524:<section>]: missing element <type> within <section> tag{'oid': '4a436e61-b81b-4c7f-a383-df3cb38997ca', 'name': '2000-01-15', 'properties': <Property Weight>} (line 524)\n",
      "warning[None:561:<section>]: missing element <type> within <section> tag{'oid': '4aaf10e3-b8d4-4916-be25-691a2e64a2bd', 'name': '2000-01-16', 'properties': <Property Weight>} (line 561)\n",
      "warning[None:598:<section>]: missing element <type> within <section> tag{'oid': 'b0524a47-c49e-40b4-affc-01c5753acdf0', 'name': '2000-01-17', 'properties': <Property Weight>} (line 598)\n",
      "warning[None:635:<section>]: missing element <type> within <section> tag{'oid': 'bd4988fe-cec8-4a77-82e5-3915b77c88a0', 'name': '2000-01-18', 'properties': <Property Weight>} (line 635)\n",
      "warning[None:672:<section>]: missing element <type> within <section> tag{'oid': 'e60bd336-45dd-4eb1-947b-19bb167f6686', 'name': '2000-01-19', 'properties': <Property Weight>} (line 672)\n",
      "warning[None:709:<section>]: missing element <type> within <section> tag{'oid': '518db48e-5233-4fd2-96da-05a63a454666', 'name': '2000-01-20', 'properties': <Property Weight>} (line 709)\n"
     ]
    },
    {
     "data": {
      "text/plain": [
       "<os._wrap_close at 0x7fc51d91fc50>"
      ]
     },
     "execution_count": 14,
     "metadata": {},
     "output_type": "execute_result"
    }
   ],
   "source": [
    "# metadata workflow based on previously generated collection of csv files\n",
    "import glob\n",
    "def process_all_metadata(folder):\n",
    "    \"\"\" Find daily score sheets, merge them into complete metadata collection and generate visualizations. \"\"\"\n",
    "    # extract all metadata files present in this folder\n",
    "    source_files = sorted(glob.glob(folder + '/score_sheet_day*.csv'))\n",
    "    if not source_files:\n",
    "        return None\n",
    "    \n",
    "    # convert first source file to add other files to\n",
    "    score_sheet_to_odml(source_files[0])\n",
    "    os.rename(source_files[0][:-4] + '.odml', folder + '/score_sheet_complete.odml')\n",
    "    \n",
    "    # convert all other source files\n",
    "    for source_file in source_files[1:]:\n",
    "        score_sheet_to_odml(source_file)\n",
    "        merge_score_sheets(folder + '/score_sheet_complete.odml',\n",
    "                           source_file[:-4] + '.odml')\n",
    "        \n",
    "    # create visualization and comparison tables\n",
    "    visualize_as_xls(folder + '/score_sheet_complete.odml')\n",
    "    generate_overview(folder + '/score_sheet_complete.odml')\n",
    "    \n",
    "# run complete metadata workflow from score sheet detection to visualization generation\n",
    "process_all_metadata('./complete_workflow')\n",
    "\n",
    "# copy style sheet for visualization in browser\n",
    "os.popen('cp odml.xsl ./complete_workflow/odml.xsl')"
   ]
  },
  {
   "cell_type": "markdown",
   "metadata": {},
   "source": [
    "This generates in addition to the dummy score sheet in the subfolder `complete_workflow` a complete metadata collection in a single odML file as well as two `xls` files for visualization of the odML structure and an overview across all common properties within the complete metadata collection."
   ]
  }
 ],
 "metadata": {
  "kernelspec": {
   "display_name": "Python 3",
   "language": "python",
   "name": "python3"
  },
  "language_info": {
   "codemirror_mode": {
    "name": "ipython",
    "version": 3
   },
   "file_extension": ".py",
   "mimetype": "text/x-python",
   "name": "python",
   "nbconvert_exporter": "python",
   "pygments_lexer": "ipython3",
   "version": "3.6.5"
  }
 },
 "nbformat": 4,
 "nbformat_minor": 2
}

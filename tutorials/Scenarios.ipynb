{
 "cells": [
  {
   "cell_type": "markdown",
   "metadata": {},
   "source": [
    "# odMLtables scenarios"
   ]
  },
  {
   "cell_type": "markdown",
   "metadata": {},
   "source": [
    "This tutorial is an implementation of the scenarios described in *Sprenger et al (in prep.) odMLtables: A user-friendly approach for managing metadata of neurophysiological experiments* The scenarios present a simple, but realistic use case of odML and odMLtables in an experimental lab and are a good start to start using odML and odMLtables. Modification of this jupyter notebook is highly encuraged and can serve as a starting point for your own metadata workflow. For a detailed description of the individual scenarios, see *Sprenger et al. (in prep)*.\n",
    "\n",
    "To execute the steps of the tutorial, press *Ctrl + Enter* in the cell you want to execute."
   ]
  },
  {
   "cell_type": "markdown",
   "metadata": {},
   "source": [
    "### Scenario 1: How to generate a metadata template without programming language"
   ]
  },
  {
   "cell_type": "markdown",
   "metadata": {},
   "source": [
    "This scenario describes how a template structure for daily data collection can be set up. The example used here is the measurement of basic attributes of a mouse. The measures collected on a single day can be listed in a table as shown below, where *'YYYY-MM-DD'* specifies the measurement date."
   ]
  },
  {
   "cell_type": "markdown",
   "metadata": {},
   "source": [
    "| Date       | Measure             | Value    | Unit | Type   |\n",
    "|------------|---------------------|----------|------|--------|\n",
    "| YYYY-MM-DD | Weight              |          | g    | float  |\n",
    "|            | Water Intake        |          | ml   | float  |\n",
    "|            | Breathing Frequency |          | bpm  | float  |\n",
    "|            | Measured by         | John Doe |      | string |\n",
    "|            | Comment             |          |      | string |"
   ]
  },
  {
   "cell_type": "markdown",
   "metadata": {},
   "source": [
    "This table can be generated using any spreadsheet software. Possible formats supported by odMLtables are *.xls* and *.csv*. A possible implementation using Microsoft Excel or LibreOffice Calc can include color coding to aid visual inspection and might look like this"
   ]
  },
  {
   "cell_type": "markdown",
   "metadata": {},
   "source": [
    "![Screenshot%20from%202018-11-05%2013-47-44.png](attachment:Screenshot%20from%202018-11-05%2013-47-44.png)"
   ]
  },
  {
   "cell_type": "markdown",
   "metadata": {},
   "source": [
    " For simplicity, we generate a *.csv* file with the same content using Python here."
   ]
  },
  {
   "cell_type": "code",
   "execution_count": 1,
   "metadata": {
    "collapsed": true
   },
   "outputs": [],
   "source": [
    "# string representation of the score sheet in csv format\n",
    "score_sheet = \\\n",
    "\"\"\"Date,Measure,Value,Unit,Type\n",
    "YYYY-MM-DD,Weight,,g,float\n",
    ",Water Intake,,ml,float\n",
    ",Breathing Frequency,,bpm,float\n",
    ",Measured by, John Doe,,string\n",
    ",Comment,,,string\n",
    "\"\"\"\n",
    "# writing the string representation to disk\n",
    "with open('score_sheet.csv', 'w+') as f:\n",
    "    f.write(score_sheet)"
   ]
  },
  {
   "cell_type": "markdown",
   "metadata": {},
   "source": [
    "This metadata template in *.csv* format can be converted to an odML file using odMLtables:"
   ]
  },
  {
   "cell_type": "code",
   "execution_count": 2,
   "metadata": {
    "collapsed": true
   },
   "outputs": [],
   "source": [
    "import odmltables as odt\n",
    "\n",
    "def score_sheet_to_odml(csv_file):\n",
    "    \"\"\"Convert a score sheet from csv to odML format.\"\"\"\n",
    "    \n",
    "    # initialize an OdmlTable object for handling metadat\n",
    "    table = odt.OdmlTable()\n",
    "    # specify experiment specific headers used in the score sheet csv files (Date, Measure, Unit and Type)\n",
    "    table.change_header(Path=1, PropertyName=2, Value=3, DataUnit=4, odmlDatatype=5)\n",
    "    table.change_header_titles(Path='Date',PropertyName='Measure', DataUnit='Unit', odmlDatatype='Type')\n",
    "\n",
    "    # loading from csv format and saving in odML format\n",
    "    table.load_from_csv_table(csv_file)\n",
    "    table.write2odml(csv_file[:-4] + '.odml')\n",
    "    \n",
    "# convert the score sheet to odml format\n",
    "score_sheet_to_odml('score_sheet.csv')"
   ]
  },
  {
   "cell_type": "markdown",
   "metadata": {},
   "source": [
    "The resulting odML file can be visualized in the browser using the `odml.xls` style sheet. When working locally on your computer, you can generate this visualization by opening the odML file in your browser while having the style sheet located in the same folder."
   ]
  },
  {
   "cell_type": "code",
   "execution_count": 3,
   "metadata": {},
   "outputs": [
    {
     "data": {
      "text/html": [
       "<html xmlns:fn=\"http://www.w3.org/2005/02/xpath-functions\" xmlns:odml=\"http://www.g-node.org/odml\">\n",
       "  <style type=\"text/css\">\n",
       "            body { margin-left:2%; margin-top:10px; padding:0;} div { border:0px solid #888; }\n",
       "\n",
       "            #navigationContainer { left:10%; width:95%;}\n",
       "\n",
       "            #contentContainer { left:10%; width:95%;}\n",
       "         </style>\n",
       "  <body>\n",
       "    <a name=\"top\" style=\"color:#336699\">\n",
       "      <h1>odML - Metadata</h1>\n",
       "    </a>\n",
       "    <div id=\"navigationContainer\">\n",
       "      <p>\n",
       "        <hr style=\"color:yellow; background-color:#336699; height:4px; margin-right:0; text-align:right; border:1px dashed black;\"/>\n",
       "        <h2>Document info</h2>\n",
       "        <b>Author: </b>\n",
       "        <br/>\n",
       "        <b>Date: </b>\n",
       "        <br/>\n",
       "        <b>Version: </b>\n",
       "        <br/>\n",
       "        <b>Repository: </b>\n",
       "        <br/>\n",
       "      </p>\n",
       "      <hr style=\"color:yellow; background-color:#336699; height:4px; margin-right:0; text-align:right; border:1px dashed black;\"/>\n",
       "      <h2>Structure</h2>\n",
       "      <font size=\"-1\">\n",
       "        <li>\n",
       "          <ol style=\"compact\">\n",
       "            <font size=\"normal\">\n",
       "              <a href=\"#Sec1\">YYYY-MM-DD (type: )\n",
       "               </a>\n",
       "            </font>\n",
       "          </ol>\n",
       "        </li>\n",
       "      </font>\n",
       "    </div>\n",
       "    <div id=\"contentContainer\">\n",
       "      <hr style=\"color:yellow; background-color:#336699; height:4px; margin-right:0; text-align:right; border:1px dashed black;\"/>\n",
       "      <h2>Content</h2>\n",
       "      <a name=\"Sec1\">\n",
       "        <h3>Section: YYYY-MM-DD</h3>\n",
       "      </a>\n",
       "      <p>\n",
       "        <b>Type: </b>\n",
       "        <br/>\n",
       "        <b>Repository: </b>\n",
       "        <br/>\n",
       "        <b>Link: </b>\n",
       "        <br/>\n",
       "        <b>Include:</b>\n",
       "        <br/>\n",
       "        <b>Definition:</b>\n",
       "        <br/>\n",
       "      </p>\n",
       "      <table border=\"1\" rules=\"rows\" width=\"100%\">\n",
       "        <font size=\"-1\">\n",
       "          <tr bgcolor=\"#336699\" valign=\"middle\" align=\"left\">\n",
       "            <th>\n",
       "              <font size=\"+1\" color=\"white\">\n",
       "                <b>Name</b>\n",
       "              </font>\n",
       "            </th>\n",
       "            <th>\n",
       "              <font size=\"+1\" color=\"white\">\n",
       "                <b>Value</b>\n",
       "              </font>\n",
       "            </th>\n",
       "            <th>\n",
       "              <font size=\"+1\" color=\"white\">\n",
       "                <b>Uncertainty</b>\n",
       "              </font>\n",
       "            </th>\n",
       "            <th>\n",
       "              <font size=\"+1\" color=\"white\">\n",
       "                <b>Unit</b>\n",
       "              </font>\n",
       "            </th>\n",
       "            <th>\n",
       "              <font size=\"+1\" color=\"white\">\n",
       "                <b>Type</b>\n",
       "              </font>\n",
       "            </th>\n",
       "            <th>\n",
       "              <font size=\"+1\" color=\"white\">\n",
       "                <b>Reference</b>\n",
       "              </font>\n",
       "            </th>\n",
       "            <th>\n",
       "              <font size=\"+1\" color=\"white\">\n",
       "                <b>Definition</b>\n",
       "              </font>\n",
       "            </th>\n",
       "            <th>\n",
       "              <font size=\"+1\" color=\"white\">\n",
       "                <b>Value origin</b>\n",
       "              </font>\n",
       "            </th>\n",
       "          </tr>\n",
       "          <tr>\n",
       "            <td width=\"15%\">\n",
       "              <a name=\"Breathing Frequency\"/>\n",
       "              <p>Breathing Frequency</p>\n",
       "            </td>\n",
       "            <td width=\"10%\">\n",
       "              <p/>\n",
       "            </td>\n",
       "            <td width=\"5%\">\n",
       "              <p/>\n",
       "            </td>\n",
       "            <td width=\"5%\">\n",
       "              <p>bpm</p>\n",
       "            </td>\n",
       "            <td width=\"5%\">\n",
       "              <p>float</p>\n",
       "            </td>\n",
       "            <td width=\"5%\">\n",
       "              <p/>\n",
       "            </td>\n",
       "            <td width=\"22.5%\">\n",
       "              <p/>\n",
       "            </td>\n",
       "            <td width=\"7.5%%\">\n",
       "              <p/>\n",
       "            </td>\n",
       "          </tr>\n",
       "          <tr>\n",
       "            <td width=\"15%\">\n",
       "              <a name=\"Comment\"/>\n",
       "              <p>Comment</p>\n",
       "            </td>\n",
       "            <td width=\"10%\">\n",
       "              <p/>\n",
       "            </td>\n",
       "            <td width=\"5%\">\n",
       "              <p/>\n",
       "            </td>\n",
       "            <td width=\"5%\">\n",
       "              <p/>\n",
       "            </td>\n",
       "            <td width=\"5%\">\n",
       "              <p>string</p>\n",
       "            </td>\n",
       "            <td width=\"5%\">\n",
       "              <p/>\n",
       "            </td>\n",
       "            <td width=\"22.5%\">\n",
       "              <p/>\n",
       "            </td>\n",
       "            <td width=\"7.5%%\">\n",
       "              <p/>\n",
       "            </td>\n",
       "          </tr>\n",
       "          <tr>\n",
       "            <td width=\"15%\">\n",
       "              <a name=\"Measured by\"/>\n",
       "              <p>Measured by</p>\n",
       "            </td>\n",
       "            <td width=\"10%\">\n",
       "              <p>John Doe</p>\n",
       "            </td>\n",
       "            <td width=\"5%\">\n",
       "              <p/>\n",
       "            </td>\n",
       "            <td width=\"5%\">\n",
       "              <p/>\n",
       "            </td>\n",
       "            <td width=\"5%\">\n",
       "              <p>string</p>\n",
       "            </td>\n",
       "            <td width=\"5%\">\n",
       "              <p/>\n",
       "            </td>\n",
       "            <td width=\"22.5%\">\n",
       "              <p/>\n",
       "            </td>\n",
       "            <td width=\"7.5%%\">\n",
       "              <p/>\n",
       "            </td>\n",
       "          </tr>\n",
       "          <tr>\n",
       "            <td width=\"15%\">\n",
       "              <a name=\"Water Intake\"/>\n",
       "              <p>Water Intake</p>\n",
       "            </td>\n",
       "            <td width=\"10%\">\n",
       "              <p/>\n",
       "            </td>\n",
       "            <td width=\"5%\">\n",
       "              <p/>\n",
       "            </td>\n",
       "            <td width=\"5%\">\n",
       "              <p>ml</p>\n",
       "            </td>\n",
       "            <td width=\"5%\">\n",
       "              <p>float</p>\n",
       "            </td>\n",
       "            <td width=\"5%\">\n",
       "              <p/>\n",
       "            </td>\n",
       "            <td width=\"22.5%\">\n",
       "              <p/>\n",
       "            </td>\n",
       "            <td width=\"7.5%%\">\n",
       "              <p/>\n",
       "            </td>\n",
       "          </tr>\n",
       "          <tr>\n",
       "            <td width=\"15%\">\n",
       "              <a name=\"Weight\"/>\n",
       "              <p>Weight</p>\n",
       "            </td>\n",
       "            <td width=\"10%\">\n",
       "              <p/>\n",
       "            </td>\n",
       "            <td width=\"5%\">\n",
       "              <p/>\n",
       "            </td>\n",
       "            <td width=\"5%\">\n",
       "              <p>g</p>\n",
       "            </td>\n",
       "            <td width=\"5%\">\n",
       "              <p>float</p>\n",
       "            </td>\n",
       "            <td width=\"5%\">\n",
       "              <p/>\n",
       "            </td>\n",
       "            <td width=\"22.5%\">\n",
       "              <p/>\n",
       "            </td>\n",
       "            <td width=\"7.5%%\">\n",
       "              <p/>\n",
       "            </td>\n",
       "          </tr>\n",
       "        </font>\n",
       "      </table>\n",
       "      <a href=\"#top\">\n",
       "        <tiny>top</tiny>\n",
       "      </a>\n",
       "      <hr style=\"background-color:#336699; height:1px; margin-right:0; text-align:right;\"/>\n",
       "    </div>\n",
       "  </body>\n",
       "</html>\n"
      ],
      "text/plain": [
       "<IPython.core.display.HTML object>"
      ]
     },
     "metadata": {},
     "output_type": "display_data"
    }
   ],
   "source": [
    "# This is utility code for displaying the odML file as html representation here.\n",
    "# You can also just open the odML file in your browser having the style sheet in the same location as your odML file and\n",
    "# will get the same result\n",
    "from IPython.display import display, HTML\n",
    "import lxml.etree as ET\n",
    "\n",
    "def display_odML_as_html(odML_file, xsl_file='odml.xsl'):\n",
    "    # generate html representation from odML file and style sheet\n",
    "    dom = ET.parse(odML_file)\n",
    "    xslt = ET.parse(xsl_file)\n",
    "    transform = ET.XSLT(xslt)\n",
    "    newdom = transform(dom)\n",
    "    \n",
    "    # display html\n",
    "    display(HTML(ET.tostring(newdom, pretty_print=True).decode()))\n",
    "    \n",
    "display_odML_as_html('score_sheet.odml')"
   ]
  },
  {
   "cell_type": "markdown",
   "metadata": {},
   "source": [
    "### Scenario 2: Collecting daily observations in a common odML structure"
   ]
  },
  {
   "cell_type": "markdown",
   "metadata": {
    "collapsed": true
   },
   "source": [
    "The template structure defined in `scenario 1` can now be copied for each measurement day and filled. The filled files will then be converted to odML and incorporated in a single odML file containing the complete metadata collected for an animal.\n",
    "\n",
    "Here again we generate a filled metadata sheet in csv format using Python. In a real case this step would be performed using any spreadsheet software."
   ]
  },
  {
   "cell_type": "code",
   "execution_count": 4,
   "metadata": {
    "collapsed": true
   },
   "outputs": [],
   "source": [
    "# string representation of the score sheet in csv format\n",
    "score_sheet1 = \\\n",
    "\"\"\"Date,Measure,Value,Unit,Type\n",
    "2000-01-01,Weight,20.3,g,float\n",
    ",Water Intake,5.21,ml,float\n",
    ",Breathing Frequency,323,bpm,float\n",
    ",Measured by, John Doe,,string\n",
    ",Comment,Blood sample taken,,string\n",
    "\"\"\"\n",
    "# writing the string representation to disk\n",
    "with open('score_sheet_day1.csv', 'w+') as f:\n",
    "    f.write(score_sheet1)"
   ]
  },
  {
   "cell_type": "markdown",
   "metadata": {},
   "source": [
    "Since this is the only set of measurements availabe yet, we only need to convert it into the odML format as we did with the score sheet template in `scenario 1` and rename it because it is already the complete set of measurements at this point."
   ]
  },
  {
   "cell_type": "code",
   "execution_count": 5,
   "metadata": {
    "collapsed": true
   },
   "outputs": [],
   "source": [
    "# convert the score sheet to odml format\n",
    "score_sheet_to_odml('score_sheet_day1.csv')\n",
    "\n",
    "# renaming file, because this is the complete score sheet for now\n",
    "import os\n",
    "os.rename('score_sheet_day1.odml', 'score_sheet_complete.odml')"
   ]
  },
  {
   "cell_type": "markdown",
   "metadata": {},
   "source": [
    "In the next step we aquire a second set of measurements, recorded on day 2. We directly convert the generated `csv` file into the odML format."
   ]
  },
  {
   "cell_type": "code",
   "execution_count": 6,
   "metadata": {
    "collapsed": true
   },
   "outputs": [],
   "source": [
    "# string representation of the score sheet in csv format\n",
    "score_sheet2 = \\\n",
    "\"\"\"Date,Measure,Value,Unit,Type\n",
    "2000-01-02,Weight,23.5,g,float\n",
    ",Water Intake,6.89,ml,float\n",
    ",Breathing Frequency,309,bpm,float\n",
    ",Measured by, John Doe,,string\n",
    ",Comment,small scratch at the right ear,,string\n",
    "\"\"\"\n",
    "# writing the string representation to disk\n",
    "with open('score_sheet_day2.csv', 'w+') as f:\n",
    "    f.write(score_sheet2)\n",
    "# convert the score sheet to odml format\n",
    "score_sheet_to_odml('score_sheet_day2.csv')"
   ]
  },
  {
   "cell_type": "markdown",
   "metadata": {},
   "source": [
    "Now, we have two odML files for two subsequent recording days. To merge these into a single odML structure, we use the `merge` functionality provided by odMLtables. We expect the odML documents not to overlap, so we use the `stric` merge mode which raises errors for conflicting entries in the two odML files.\n",
    "\n",
    "The measurement data of subsequent recordings days are added to the complete set stored in `score_sheet_complete.odml`."
   ]
  },
  {
   "cell_type": "code",
   "execution_count": 7,
   "metadata": {},
   "outputs": [
    {
     "name": "stderr",
     "output_type": "stream",
     "text": [
      "warning[None:6:<section>]: missing element <type> within <section> tag{'oid': '22db47f9-f4c9-4f99-81b3-1629375fe08e', 'name': '2000-01-01', 'properties': <Property Weight>} (line 6)\n",
      "warning[None:6:<section>]: missing element <type> within <section> tag{'oid': 'de2791c8-4b3b-4faa-b80d-28fb90c75234', 'name': '2000-01-02', 'properties': <Property Weight>} (line 6)\n"
     ]
    }
   ],
   "source": [
    "def merge_score_sheets(file1, file2):\n",
    "    \"\"\" Merge one score sheet (file2) into another score sheet (file1) in odML representation\"\"\"\n",
    "    # loading first odML file\n",
    "    table1 = odt.OdmlTable(file1)\n",
    "    # merge file2 into table1\n",
    "    table1.merge(odt.OdmlTable(file2))\n",
    "    # overwriting file1 with the merged score sheets\n",
    "    table1.write2odml(file1)\n",
    "    \n",
    "# merging the daily score sheet into the complete metadata collection\n",
    "merge_score_sheets('score_sheet_complete.odml',\n",
    "                   'score_sheet_day2.odml')"
   ]
  },
  {
   "cell_type": "markdown",
   "metadata": {},
   "source": [
    "### Scenario 3: How to filter a subset of an odML to edit it later on"
   ]
  },
  {
   "cell_type": "markdown",
   "metadata": {},
   "source": [
    "For larger experiments the generated odML structure will grow in complexity. For easier visualization and modification / update of data we will generate an odML file which contains only a subset of the complete score sheet using the odML filter function."
   ]
  },
  {
   "cell_type": "code",
   "execution_count": 8,
   "metadata": {},
   "outputs": [
    {
     "name": "stderr",
     "output_type": "stream",
     "text": [
      "warning[None:6:<section>]: missing element <type> within <section> tag{'oid': '55533034-8644-482d-a7c9-e63efd638fb7', 'name': '2000-01-01', 'properties': <Property Weight>} (line 6)\n",
      "warning[None:43:<section>]: missing element <type> within <section> tag{'oid': 'f5954a00-cd54-4b60-bf05-f3f7a7f94f1c', 'name': '2000-01-02', 'properties': <Property Weight>} (line 43)\n"
     ]
    }
   ],
   "source": [
    "def extract_subset(odML_file):\n",
    "    \"\"\"Extract comments for the first day in this millenial.\"\"\"\n",
    "    table = odt.OdmlTable(odML_file)\n",
    "    # extracting specific property based on property name and section name\n",
    "    table.filter(SectionName='2000-01-01', PropertyName='Comment')\n",
    "    # generate separate file containing only subset of the information\n",
    "    table.write2odml('score_sheet_filtered.odml')\n",
    "    \n",
    "# extracting a subset of the information to a different file\n",
    "extract_subset('score_sheet_complete.odml')"
   ]
  },
  {
   "cell_type": "markdown",
   "metadata": {},
   "source": [
    "The next step could be to convert the filtered odML file into a csv file, update the necessary entries and convert it back into the odML format to finally merge the change back into the complete score sheet. For demonstration purposes here, we will modify the filtered odML file directly and merge it into the complete score sheet."
   ]
  },
  {
   "cell_type": "code",
   "execution_count": 9,
   "metadata": {},
   "outputs": [
    {
     "name": "stderr",
     "output_type": "stream",
     "text": [
      "warning[None:6:<section>]: missing element <type> within <section> tag{'oid': 'e45a4d64-79f2-4873-96ae-f479c645b238', 'name': '2000-01-01', 'properties': <Property Comment>} (line 6)\n"
     ]
    }
   ],
   "source": [
    "# this code mimics a manual modification of an existing odML file, eg using the csv representation generated with odMLtables\n",
    "import odml\n",
    "odmlfile = odml.fileio.load('score_sheet_filtered.odml')\n",
    "odmlfile.sections['2000-01-01'].properties['Comment'].value = ['Blood sample shows no abnormalities']\n",
    "odml.fileio.save(odmlfile, 'score_sheet_filtered.odml')"
   ]
  },
  {
   "cell_type": "markdown",
   "metadata": {},
   "source": [
    "### Scenario 4: Merging the edited subset back into the original structure"
   ]
  },
  {
   "cell_type": "markdown",
   "metadata": {},
   "source": [
    "For merging the changes back into the complete score sheet we can use the same function as in `scenario 2`. In this case however, the entries of the two odML files overlap and we want to extend values in the first document by entries in the second one, so we merge using the `append` mode."
   ]
  },
  {
   "cell_type": "code",
   "execution_count": 10,
   "metadata": {},
   "outputs": [
    {
     "name": "stderr",
     "output_type": "stream",
     "text": [
      "warning[None:6:<section>]: missing element <type> within <section> tag{'oid': '55533034-8644-482d-a7c9-e63efd638fb7', 'name': '2000-01-01', 'properties': <Property Weight>} (line 6)\n",
      "warning[None:43:<section>]: missing element <type> within <section> tag{'oid': 'f5954a00-cd54-4b60-bf05-f3f7a7f94f1c', 'name': '2000-01-02', 'properties': <Property Weight>} (line 43)\n",
      "warning[None:6:<section>]: missing element <type> within <section> tag{'oid': 'e45a4d64-79f2-4873-96ae-f479c645b238', 'name': '2000-01-01', 'properties': <Property Comment>} (line 6)\n"
     ]
    }
   ],
   "source": [
    "# merge the modified filtered odML into the complete metadata collection\n",
    "merge_score_sheets('score_sheet_complete.odml', 'score_sheet_filtered.odml')"
   ]
  },
  {
   "cell_type": "markdown",
   "metadata": {},
   "source": [
    "### Scenario 5: Create a tabular representation of the final merged odML for better viewing using the color options"
   ]
  },
  {
   "cell_type": "markdown",
   "metadata": {},
   "source": [
    "For visualization of the metadata we convert the odML file to the tabular representation in the `.xls` format. This has the advantage of color support within the tabular structure. All color options can be customized using odMLtables."
   ]
  },
  {
   "cell_type": "code",
   "execution_count": 11,
   "metadata": {},
   "outputs": [
    {
     "name": "stderr",
     "output_type": "stream",
     "text": [
      "warning[None:6:<section>]: missing element <type> within <section> tag{'oid': '5858e930-09bb-4f95-ac46-e88b44ce61c1', 'name': '2000-01-01', 'properties': <Property Weight>} (line 6)\n",
      "warning[None:43:<section>]: missing element <type> within <section> tag{'oid': 'f8073022-f591-410f-94d7-cbc807c386a0', 'name': '2000-01-02', 'properties': <Property Weight>} (line 43)\n"
     ]
    }
   ],
   "source": [
    "def visualize_as_xls(odML_file):\n",
    "    \"\"\" Generate an xls version of an odML file for visualization purposes \"\"\"\n",
    "    table = odt.OdmlXlsTable(odML_file)\n",
    "    # optional: changing the color options in the output table\n",
    "    table.first_marked_style.fontcolor = 'red'\n",
    "    table.second_marked_style.fontcolor = 'red'\n",
    "    # writing to xls format\n",
    "    table.write2file('.'.join(odML_file.split('.')[:-1]) + '.xls')\n",
    "    \n",
    "# visualize the complete metadata collection in the xls format\n",
    "visualize_as_xls('score_sheet_complete.odml')"
   ]
  },
  {
   "cell_type": "markdown",
   "metadata": {},
   "source": [
    "### Scenario 6: Compare entries in the odML via data screening, lab book tables"
   ]
  },
  {
   "cell_type": "markdown",
   "metadata": {},
   "source": [
    "For many odML files a number of metadata structure are repeating within the file. Here, all metadata sections for the daily measurement have the same structure. For visualization and documentation purposes in labbooks an overview across these related structures is usefull and can be generated using the odMLtables `compare` function."
   ]
  },
  {
   "cell_type": "code",
   "execution_count": 12,
   "metadata": {},
   "outputs": [
    {
     "name": "stderr",
     "output_type": "stream",
     "text": [
      "warning[None:6:<section>]: missing element <type> within <section> tag{'oid': '5858e930-09bb-4f95-ac46-e88b44ce61c1', 'name': '2000-01-01', 'properties': <Property Weight>} (line 6)\n",
      "warning[None:43:<section>]: missing element <type> within <section> tag{'oid': 'f8073022-f591-410f-94d7-cbc807c386a0', 'name': '2000-01-02', 'properties': <Property Weight>} (line 43)\n",
      "warning[None:6:<section>]: missing element <type> within <section> tag{'oid': '5858e930-09bb-4f95-ac46-e88b44ce61c1', 'name': '2000-01-01', 'properties': <Property Weight>} (line 6)\n",
      "warning[None:43:<section>]: missing element <type> within <section> tag{'oid': 'f8073022-f591-410f-94d7-cbc807c386a0', 'name': '2000-01-02', 'properties': <Property Weight>} (line 43)\n",
      "/home/julia/repositories/python/python-odmltables/odmltables/compare_section_table.py:66: UserWarning: Property Comment contains 2 values. Only showing first one in comparison table\n",
      "  'comparison table' % (prop.name, len(prop.value)))\n"
     ]
    }
   ],
   "source": [
    "def generate_overview(odML_file, sections='all'):\n",
    "    \"\"\" Compare entries with same structure across an odML file \"\"\"\n",
    "    if sections=='all':\n",
    "        # compare between all available sections\n",
    "        sections = [s.name for s in odml.fileio.load(odML_file).sections]\n",
    "    table = odt.compare_section_xls_table.CompareSectionXlsTable()\n",
    "    table.load_from_file(odML_file)\n",
    "    # specify all sections to be compared\n",
    "    table.choose_sections(*sections)\n",
    "    # save to different odML file\n",
    "    table.write2file('.'.join(odML_file.split('.')[:-1]) + '_overview.xls')\n",
    "    \n",
    "# compare all properties across the complete metadata collection\n",
    "generate_overview('score_sheet_complete.odml')"
   ]
  },
  {
   "cell_type": "markdown",
   "metadata": {},
   "source": [
    "This generates an `xls` overview table comparing the first value entries for all selected sections."
   ]
  },
  {
   "cell_type": "markdown",
   "metadata": {},
   "source": [
    "### Scenario 7: Automatized processing of metadata collections"
   ]
  },
  {
   "cell_type": "markdown",
   "metadata": {},
   "source": [
    "The workflow presented in `scenario 1 to 6` can be to some extend automatized using odMLtables. This simplifies the generation of an comprehensive metadata collection for the experimenter and makes the workflow more robust against human errors.\n",
    "\n",
    "Here we start from a collection of daily csv sheets and generate a complete metadata collection as well as overview sheets from these."
   ]
  },
  {
   "cell_type": "markdown",
   "metadata": {},
   "source": [
    "In the first step we generation a number of score sheets containing dummy data to demonstrate the metadata workflow building on top of these files."
   ]
  },
  {
   "cell_type": "code",
   "execution_count": 13,
   "metadata": {
    "collapsed": true
   },
   "outputs": [],
   "source": [
    "# generating a number of score sheets for demonstration of workflow\n",
    "import os\n",
    "import numpy.random as random\n",
    "\n",
    "def generate_dummy_data(folder):\n",
    "    \"\"\" Generate 20 daily score sheets with random values entered\"\"\"\n",
    "    # make sure folder exists\n",
    "    if not os.path.exists(folder):\n",
    "        os.mkdir(folder)\n",
    "        \n",
    "    # generate score sheets and save them into the folder\n",
    "    for i in range(20):\n",
    "        score_sheet = \\\n",
    "\"\"\"Date,Measure,Value,Unit,Type\n",
    "2000-01-{0:02d},Weight,{1:.1f},g,float\n",
    ",Water Intake,{2:.2f},ml,float\n",
    ",Breathing Frequency,{3:.1f},bpm,float\n",
    ",Measured by, John Doe,,string\n",
    ",Comment,-,,string\n",
    "\"\"\".format(i+1, random.uniform(low=19, high=25), random.uniform(low=5, high=7), random.uniform(low=300, high=400))\n",
    "        with open(folder + '/score_sheet_day{}.csv'.format(i), 'w+') as f:\n",
    "            f.write(score_sheet)\n",
    "        \n",
    "# generated multiple daily score sheets for demonstation purposes\n",
    "generate_dummy_data('./complete_workflow')"
   ]
  },
  {
   "cell_type": "markdown",
   "metadata": {},
   "source": [
    "In the second step we define the complete workflow for metadata collection, merge, storage and visualizations in a single function and run this on the dummy data generated before."
   ]
  },
  {
   "cell_type": "code",
   "execution_count": 14,
   "metadata": {},
   "outputs": [
    {
     "name": "stderr",
     "output_type": "stream",
     "text": [
      "warning[None:6:<section>]: missing element <type> within <section> tag{'oid': '88a01937-eab0-45fb-b0bb-3941482f6c03', 'name': '2000-01-01', 'properties': <Property Weight>} (line 6)\n",
      "warning[None:6:<section>]: missing element <type> within <section> tag{'oid': 'e2607b06-3446-4b8b-95ee-9a03d284c0fe', 'name': '2000-01-02', 'properties': <Property Weight>} (line 6)\n",
      "warning[None:6:<section>]: missing element <type> within <section> tag{'oid': '69d72f2f-5556-4ddd-a09f-e95626985de4', 'name': '2000-01-01', 'properties': <Property Weight>} (line 6)\n",
      "warning[None:43:<section>]: missing element <type> within <section> tag{'oid': '819c4e4d-80fd-4a24-939d-0e4753d2f2cc', 'name': '2000-01-02', 'properties': <Property Weight>} (line 43)\n",
      "warning[None:6:<section>]: missing element <type> within <section> tag{'oid': '952ef2cb-c604-48d0-a0df-0f218994322f', 'name': '2000-01-11', 'properties': <Property Weight>} (line 6)\n",
      "warning[None:6:<section>]: missing element <type> within <section> tag{'oid': 'f6667173-6751-42b3-863c-efb9e67aabb6', 'name': '2000-01-01', 'properties': <Property Weight>} (line 6)\n",
      "warning[None:43:<section>]: missing element <type> within <section> tag{'oid': '94479b7d-a8b0-43b0-b175-edc7f1692852', 'name': '2000-01-02', 'properties': <Property Weight>} (line 43)\n",
      "warning[None:80:<section>]: missing element <type> within <section> tag{'oid': 'c7cfad8f-e6ba-422e-9da2-4897abd28ef4', 'name': '2000-01-11', 'properties': <Property Weight>} (line 80)\n",
      "warning[None:6:<section>]: missing element <type> within <section> tag{'oid': '00164e77-4c47-4c4f-ac55-79c226c37aa5', 'name': '2000-01-12', 'properties': <Property Weight>} (line 6)\n",
      "warning[None:6:<section>]: missing element <type> within <section> tag{'oid': 'dac46738-064a-4d32-96ce-b83322985cf2', 'name': '2000-01-01', 'properties': <Property Weight>} (line 6)\n",
      "warning[None:43:<section>]: missing element <type> within <section> tag{'oid': 'e954f65a-f9a7-4325-a207-e3093fc33172', 'name': '2000-01-02', 'properties': <Property Weight>} (line 43)\n",
      "warning[None:80:<section>]: missing element <type> within <section> tag{'oid': 'fed0dfef-ad4f-4df0-ac4d-932b377c7dbc', 'name': '2000-01-11', 'properties': <Property Weight>} (line 80)\n",
      "warning[None:117:<section>]: missing element <type> within <section> tag{'oid': '2f13650b-16cb-417a-97a7-80ff43e517da', 'name': '2000-01-12', 'properties': <Property Weight>} (line 117)\n",
      "warning[None:6:<section>]: missing element <type> within <section> tag{'oid': '5f42e876-26f2-4ba8-92dd-1310b1534bed', 'name': '2000-01-13', 'properties': <Property Weight>} (line 6)\n",
      "warning[None:6:<section>]: missing element <type> within <section> tag{'oid': 'a2f5bed3-fff5-4326-9159-4a28ad1274e2', 'name': '2000-01-01', 'properties': <Property Weight>} (line 6)\n",
      "warning[None:43:<section>]: missing element <type> within <section> tag{'oid': '8a5ed94b-dd1b-45f0-86b7-f386eca04a3d', 'name': '2000-01-02', 'properties': <Property Weight>} (line 43)\n",
      "warning[None:80:<section>]: missing element <type> within <section> tag{'oid': 'e4136c3d-40b4-48df-81c6-cd58555e9bd9', 'name': '2000-01-11', 'properties': <Property Weight>} (line 80)\n",
      "warning[None:117:<section>]: missing element <type> within <section> tag{'oid': 'e222fab2-28d6-4f39-b478-0b89af2c8b1f', 'name': '2000-01-12', 'properties': <Property Weight>} (line 117)\n",
      "warning[None:154:<section>]: missing element <type> within <section> tag{'oid': '67f706f7-1922-4147-80ac-87509db8754c', 'name': '2000-01-13', 'properties': <Property Weight>} (line 154)\n",
      "warning[None:6:<section>]: missing element <type> within <section> tag{'oid': '75292b20-db1b-46a4-b3e0-33d982b0e782', 'name': '2000-01-14', 'properties': <Property Weight>} (line 6)\n",
      "warning[None:6:<section>]: missing element <type> within <section> tag{'oid': 'e03c721a-89cc-4f84-87da-76cbfdf2f453', 'name': '2000-01-01', 'properties': <Property Weight>} (line 6)\n",
      "warning[None:43:<section>]: missing element <type> within <section> tag{'oid': 'a54ea85b-cdc2-4b09-b5cc-69715bf52287', 'name': '2000-01-02', 'properties': <Property Weight>} (line 43)\n",
      "warning[None:80:<section>]: missing element <type> within <section> tag{'oid': 'd8293146-e862-4296-a61b-8829e3c1c199', 'name': '2000-01-11', 'properties': <Property Weight>} (line 80)\n",
      "warning[None:117:<section>]: missing element <type> within <section> tag{'oid': 'ebea16c2-247b-4f03-a52b-015feac40784', 'name': '2000-01-12', 'properties': <Property Weight>} (line 117)\n",
      "warning[None:154:<section>]: missing element <type> within <section> tag{'oid': '1845c4e5-2a6f-4ac9-8a43-ae4c089e1aa7', 'name': '2000-01-13', 'properties': <Property Weight>} (line 154)\n",
      "warning[None:191:<section>]: missing element <type> within <section> tag{'oid': '582507a6-e82d-428b-8ffa-b221ee74fe19', 'name': '2000-01-14', 'properties': <Property Weight>} (line 191)\n",
      "warning[None:6:<section>]: missing element <type> within <section> tag{'oid': '5b2fcfe5-ff9d-4155-8fae-b0d5f4ab8bac', 'name': '2000-01-15', 'properties': <Property Weight>} (line 6)\n",
      "warning[None:6:<section>]: missing element <type> within <section> tag{'oid': 'a806a71d-fc1b-47e8-bee6-17ee221042c7', 'name': '2000-01-01', 'properties': <Property Weight>} (line 6)\n",
      "warning[None:43:<section>]: missing element <type> within <section> tag{'oid': '2eca3be7-1edd-4fe0-afbe-e5b8e2038c7e', 'name': '2000-01-02', 'properties': <Property Weight>} (line 43)\n",
      "warning[None:80:<section>]: missing element <type> within <section> tag{'oid': 'dd84c6d3-57f8-4b45-9b42-efee65664fda', 'name': '2000-01-11', 'properties': <Property Weight>} (line 80)\n",
      "warning[None:117:<section>]: missing element <type> within <section> tag{'oid': '5fa96349-fde0-431d-b21f-cb4edecf7ac4', 'name': '2000-01-12', 'properties': <Property Weight>} (line 117)\n",
      "warning[None:154:<section>]: missing element <type> within <section> tag{'oid': '03a0f995-25ad-48a9-b7e2-d7122cb3dbc4', 'name': '2000-01-13', 'properties': <Property Weight>} (line 154)\n",
      "warning[None:191:<section>]: missing element <type> within <section> tag{'oid': 'bd3b875e-2152-4cdf-8d9a-1806bd5309b7', 'name': '2000-01-14', 'properties': <Property Weight>} (line 191)\n",
      "warning[None:228:<section>]: missing element <type> within <section> tag{'oid': 'a5097e54-aec4-42a9-ad98-1a36d6d63375', 'name': '2000-01-15', 'properties': <Property Weight>} (line 228)\n",
      "warning[None:6:<section>]: missing element <type> within <section> tag{'oid': '95721fce-8d9a-4bfa-a223-7c425e573e00', 'name': '2000-01-16', 'properties': <Property Weight>} (line 6)\n",
      "warning[None:6:<section>]: missing element <type> within <section> tag{'oid': '3366e3ae-c25f-41a7-822d-b8fb641c8485', 'name': '2000-01-01', 'properties': <Property Weight>} (line 6)\n",
      "warning[None:43:<section>]: missing element <type> within <section> tag{'oid': '2a48a87c-8a55-49b9-9e4f-67409bb84f86', 'name': '2000-01-02', 'properties': <Property Weight>} (line 43)\n",
      "warning[None:80:<section>]: missing element <type> within <section> tag{'oid': 'cc5998ef-79d8-4c4a-8ad3-2f483057034c', 'name': '2000-01-11', 'properties': <Property Weight>} (line 80)\n",
      "warning[None:117:<section>]: missing element <type> within <section> tag{'oid': 'a695ea17-01c6-4d85-a3cc-2d5eefc9523d', 'name': '2000-01-12', 'properties': <Property Weight>} (line 117)\n",
      "warning[None:154:<section>]: missing element <type> within <section> tag{'oid': '4030e606-61c2-41e8-a092-d7006032c5ef', 'name': '2000-01-13', 'properties': <Property Weight>} (line 154)\n",
      "warning[None:191:<section>]: missing element <type> within <section> tag{'oid': '8a335c22-e1dc-406f-b10f-ffcda4563c21', 'name': '2000-01-14', 'properties': <Property Weight>} (line 191)\n",
      "warning[None:228:<section>]: missing element <type> within <section> tag{'oid': 'e0ad9597-cc42-4040-92a8-115bc388f282', 'name': '2000-01-15', 'properties': <Property Weight>} (line 228)\n",
      "warning[None:265:<section>]: missing element <type> within <section> tag{'oid': '2c510d04-06c0-4eda-ae13-91f1bd4f64d3', 'name': '2000-01-16', 'properties': <Property Weight>} (line 265)\n",
      "warning[None:6:<section>]: missing element <type> within <section> tag{'oid': 'fb66643c-5b40-4ad1-a8ce-2908de2368aa', 'name': '2000-01-17', 'properties': <Property Weight>} (line 6)\n",
      "warning[None:6:<section>]: missing element <type> within <section> tag{'oid': '72b43a3b-fa0f-4797-84e2-1dad7667672d', 'name': '2000-01-01', 'properties': <Property Weight>} (line 6)\n",
      "warning[None:43:<section>]: missing element <type> within <section> tag{'oid': 'b57659da-badc-4ecb-a460-dbaa018be822', 'name': '2000-01-02', 'properties': <Property Weight>} (line 43)\n",
      "warning[None:80:<section>]: missing element <type> within <section> tag{'oid': 'b0ac0b2b-7ff3-4ae3-a10a-3a7b9c2bce04', 'name': '2000-01-11', 'properties': <Property Weight>} (line 80)\n",
      "warning[None:117:<section>]: missing element <type> within <section> tag{'oid': '0ffb5a9a-438e-4192-8002-63657490a6ec', 'name': '2000-01-12', 'properties': <Property Weight>} (line 117)\n",
      "warning[None:154:<section>]: missing element <type> within <section> tag{'oid': '5a96dca6-4135-41ad-adc7-ddbed3129ce8', 'name': '2000-01-13', 'properties': <Property Weight>} (line 154)\n",
      "warning[None:191:<section>]: missing element <type> within <section> tag{'oid': '8e504cd3-2cbb-4542-84cf-76a1dcec2fde', 'name': '2000-01-14', 'properties': <Property Weight>} (line 191)\n",
      "warning[None:228:<section>]: missing element <type> within <section> tag{'oid': '0b3cb7c8-4766-470e-b30c-f63cc2831c04', 'name': '2000-01-15', 'properties': <Property Weight>} (line 228)\n",
      "warning[None:265:<section>]: missing element <type> within <section> tag{'oid': 'a95c8f69-1960-4d25-b415-40939d743b83', 'name': '2000-01-16', 'properties': <Property Weight>} (line 265)\n",
      "warning[None:302:<section>]: missing element <type> within <section> tag{'oid': 'e76a3f7e-281e-4da7-a8a1-5cd3d77f537b', 'name': '2000-01-17', 'properties': <Property Weight>} (line 302)\n",
      "warning[None:6:<section>]: missing element <type> within <section> tag{'oid': '1824579a-0655-42db-9fc2-8715b7d2ca04', 'name': '2000-01-18', 'properties': <Property Weight>} (line 6)\n",
      "warning[None:6:<section>]: missing element <type> within <section> tag{'oid': '86769d47-4a42-4b2a-894d-63a76bc3ea25', 'name': '2000-01-01', 'properties': <Property Weight>} (line 6)\n",
      "warning[None:43:<section>]: missing element <type> within <section> tag{'oid': '01b278fc-2918-4c88-aa11-a82ad7688df7', 'name': '2000-01-02', 'properties': <Property Weight>} (line 43)\n",
      "warning[None:80:<section>]: missing element <type> within <section> tag{'oid': '26d4fc9c-2c6d-484b-a812-ee9c222f670f', 'name': '2000-01-11', 'properties': <Property Weight>} (line 80)\n",
      "warning[None:117:<section>]: missing element <type> within <section> tag{'oid': 'c067c018-109a-40f8-800e-64bd9b1f6bd9', 'name': '2000-01-12', 'properties': <Property Weight>} (line 117)\n",
      "warning[None:154:<section>]: missing element <type> within <section> tag{'oid': 'd9fd0b75-48cd-46fa-bfb9-0e12f6530072', 'name': '2000-01-13', 'properties': <Property Weight>} (line 154)\n",
      "warning[None:191:<section>]: missing element <type> within <section> tag{'oid': 'd27e53a6-3907-471e-97b6-abb579a5e38c', 'name': '2000-01-14', 'properties': <Property Weight>} (line 191)\n",
      "warning[None:228:<section>]: missing element <type> within <section> tag{'oid': 'eafd1e1d-fcdd-4dd2-9264-c2b276d05d0e', 'name': '2000-01-15', 'properties': <Property Weight>} (line 228)\n",
      "warning[None:265:<section>]: missing element <type> within <section> tag{'oid': 'e45b2c7a-d9c8-4620-aa2d-a7c211798087', 'name': '2000-01-16', 'properties': <Property Weight>} (line 265)\n",
      "warning[None:302:<section>]: missing element <type> within <section> tag{'oid': 'cdd55aee-d0a0-4600-bd06-81340c3d391e', 'name': '2000-01-17', 'properties': <Property Weight>} (line 302)\n",
      "warning[None:339:<section>]: missing element <type> within <section> tag{'oid': '6de674b4-829e-4764-8831-cb80bd96b86a', 'name': '2000-01-18', 'properties': <Property Weight>} (line 339)\n",
      "warning[None:6:<section>]: missing element <type> within <section> tag{'oid': '95815802-23e8-465b-855d-195aa365197a', 'name': '2000-01-19', 'properties': <Property Weight>} (line 6)\n",
      "warning[None:6:<section>]: missing element <type> within <section> tag{'oid': '27a1a122-a404-4349-a974-aa0e4f1beba6', 'name': '2000-01-01', 'properties': <Property Weight>} (line 6)\n"
     ]
    },
    {
     "name": "stderr",
     "output_type": "stream",
     "text": [
      "warning[None:43:<section>]: missing element <type> within <section> tag{'oid': 'aaa14544-6dfa-4ddb-a84b-cf67ce066dab', 'name': '2000-01-02', 'properties': <Property Weight>} (line 43)\n",
      "warning[None:80:<section>]: missing element <type> within <section> tag{'oid': '04953766-c5af-412b-987e-f2b46cacc950', 'name': '2000-01-11', 'properties': <Property Weight>} (line 80)\n",
      "warning[None:117:<section>]: missing element <type> within <section> tag{'oid': 'a203b0bb-95b2-4298-a613-eb782a45d2ac', 'name': '2000-01-12', 'properties': <Property Weight>} (line 117)\n",
      "warning[None:154:<section>]: missing element <type> within <section> tag{'oid': '230cf698-bc72-4303-97e4-17d7283330a4', 'name': '2000-01-13', 'properties': <Property Weight>} (line 154)\n",
      "warning[None:191:<section>]: missing element <type> within <section> tag{'oid': 'de25c81e-1447-43b1-b17e-f34ca1c1a2d0', 'name': '2000-01-14', 'properties': <Property Weight>} (line 191)\n",
      "warning[None:228:<section>]: missing element <type> within <section> tag{'oid': 'cdf9fa2e-6170-43a1-aee0-6d6ad9001296', 'name': '2000-01-15', 'properties': <Property Weight>} (line 228)\n",
      "warning[None:265:<section>]: missing element <type> within <section> tag{'oid': '3385d936-1394-4a6b-a43a-59e4447cbb62', 'name': '2000-01-16', 'properties': <Property Weight>} (line 265)\n",
      "warning[None:302:<section>]: missing element <type> within <section> tag{'oid': 'c33edea4-853c-4d17-89af-963b9246cf78', 'name': '2000-01-17', 'properties': <Property Weight>} (line 302)\n",
      "warning[None:339:<section>]: missing element <type> within <section> tag{'oid': '10e3dc69-988f-4c84-a1e5-19f6ac9e6ed6', 'name': '2000-01-18', 'properties': <Property Weight>} (line 339)\n",
      "warning[None:376:<section>]: missing element <type> within <section> tag{'oid': '2aacb299-6bc2-422e-b885-7091c81bfce7', 'name': '2000-01-19', 'properties': <Property Weight>} (line 376)\n",
      "warning[None:6:<section>]: missing element <type> within <section> tag{'oid': '4f676fb2-a11b-4acb-a884-1dfa97156121', 'name': '2000-01-20', 'properties': <Property Weight>} (line 6)\n",
      "warning[None:6:<section>]: missing element <type> within <section> tag{'oid': '2172c5ae-4f31-4f5c-96d7-1c4a137f41a6', 'name': '2000-01-01', 'properties': <Property Weight>} (line 6)\n",
      "warning[None:43:<section>]: missing element <type> within <section> tag{'oid': 'e981d529-db9c-483c-a9b7-26973c72a27e', 'name': '2000-01-02', 'properties': <Property Weight>} (line 43)\n",
      "warning[None:80:<section>]: missing element <type> within <section> tag{'oid': 'b1538ea8-214c-4af7-b037-f1e14e0807d5', 'name': '2000-01-11', 'properties': <Property Weight>} (line 80)\n",
      "warning[None:117:<section>]: missing element <type> within <section> tag{'oid': 'f69f0d1a-70fa-4737-9c86-41edf0c40640', 'name': '2000-01-12', 'properties': <Property Weight>} (line 117)\n",
      "warning[None:154:<section>]: missing element <type> within <section> tag{'oid': '5b05a34f-9285-48c2-b894-06e9445e6b58', 'name': '2000-01-13', 'properties': <Property Weight>} (line 154)\n",
      "warning[None:191:<section>]: missing element <type> within <section> tag{'oid': '7da4ee50-db06-433b-bd82-07a8c992c403', 'name': '2000-01-14', 'properties': <Property Weight>} (line 191)\n",
      "warning[None:228:<section>]: missing element <type> within <section> tag{'oid': 'e1494151-3e7b-4a49-9326-f7dafee6a6ad', 'name': '2000-01-15', 'properties': <Property Weight>} (line 228)\n",
      "warning[None:265:<section>]: missing element <type> within <section> tag{'oid': 'b593982f-a917-4901-823c-4e85fbc4fffd', 'name': '2000-01-16', 'properties': <Property Weight>} (line 265)\n",
      "warning[None:302:<section>]: missing element <type> within <section> tag{'oid': '27885982-10c6-4cad-84f7-6f2a4673fdf2', 'name': '2000-01-17', 'properties': <Property Weight>} (line 302)\n",
      "warning[None:339:<section>]: missing element <type> within <section> tag{'oid': '53fe257c-8d98-40b6-9453-1e3edf4da69a', 'name': '2000-01-18', 'properties': <Property Weight>} (line 339)\n",
      "warning[None:376:<section>]: missing element <type> within <section> tag{'oid': '8b2b2703-3146-466c-ae1c-ff93281e6874', 'name': '2000-01-19', 'properties': <Property Weight>} (line 376)\n",
      "warning[None:413:<section>]: missing element <type> within <section> tag{'oid': 'a2777368-cd67-4570-8dc6-7bfd95590982', 'name': '2000-01-20', 'properties': <Property Weight>} (line 413)\n",
      "warning[None:6:<section>]: missing element <type> within <section> tag{'oid': '7dc143e5-a49b-4390-9887-58d990a1f834', 'name': '2000-01-03', 'properties': <Property Weight>} (line 6)\n",
      "warning[None:6:<section>]: missing element <type> within <section> tag{'oid': '3e8d1250-32aa-45ac-b19a-d9933627626c', 'name': '2000-01-01', 'properties': <Property Weight>} (line 6)\n",
      "warning[None:43:<section>]: missing element <type> within <section> tag{'oid': '64f96140-e99e-4f9b-988b-d8e3535a1dd7', 'name': '2000-01-02', 'properties': <Property Weight>} (line 43)\n",
      "warning[None:80:<section>]: missing element <type> within <section> tag{'oid': '2861627e-fd90-4b0b-a935-b445537b27ed', 'name': '2000-01-03', 'properties': <Property Weight>} (line 80)\n",
      "warning[None:117:<section>]: missing element <type> within <section> tag{'oid': '1b882be1-31b3-459a-9288-7160a8b9c2ea', 'name': '2000-01-11', 'properties': <Property Weight>} (line 117)\n",
      "warning[None:154:<section>]: missing element <type> within <section> tag{'oid': '70bdcc76-778c-4edb-aa04-12da5ecf6462', 'name': '2000-01-12', 'properties': <Property Weight>} (line 154)\n",
      "warning[None:191:<section>]: missing element <type> within <section> tag{'oid': 'f81d0985-a202-4f8c-8707-6a444cc6f39c', 'name': '2000-01-13', 'properties': <Property Weight>} (line 191)\n",
      "warning[None:228:<section>]: missing element <type> within <section> tag{'oid': '5c37f041-a045-49f5-8590-983aa389bc1e', 'name': '2000-01-14', 'properties': <Property Weight>} (line 228)\n",
      "warning[None:265:<section>]: missing element <type> within <section> tag{'oid': '783f3720-8952-49cb-9b0a-04eb8976d4c5', 'name': '2000-01-15', 'properties': <Property Weight>} (line 265)\n",
      "warning[None:302:<section>]: missing element <type> within <section> tag{'oid': 'c20b1fba-1399-47c9-bf17-96f3fa7ff9f6', 'name': '2000-01-16', 'properties': <Property Weight>} (line 302)\n",
      "warning[None:339:<section>]: missing element <type> within <section> tag{'oid': 'd6480b23-629d-41d7-bf0d-ea4b60f77a18', 'name': '2000-01-17', 'properties': <Property Weight>} (line 339)\n",
      "warning[None:376:<section>]: missing element <type> within <section> tag{'oid': 'f27e59a6-a88e-476d-9c2a-baa66f58bbd6', 'name': '2000-01-18', 'properties': <Property Weight>} (line 376)\n",
      "warning[None:413:<section>]: missing element <type> within <section> tag{'oid': '227c8b55-32a1-4b6b-8225-c35637e46769', 'name': '2000-01-19', 'properties': <Property Weight>} (line 413)\n",
      "warning[None:450:<section>]: missing element <type> within <section> tag{'oid': '0cd546d0-699d-4780-b952-97839278bd09', 'name': '2000-01-20', 'properties': <Property Weight>} (line 450)\n",
      "warning[None:6:<section>]: missing element <type> within <section> tag{'oid': 'c44c995c-a798-4f68-ab7a-24172b03d1b0', 'name': '2000-01-04', 'properties': <Property Weight>} (line 6)\n",
      "warning[None:6:<section>]: missing element <type> within <section> tag{'oid': 'a79da26d-904e-4e25-af61-b86c970d9403', 'name': '2000-01-01', 'properties': <Property Weight>} (line 6)\n",
      "warning[None:43:<section>]: missing element <type> within <section> tag{'oid': '4409346a-e4fe-4bc1-b93d-edbf9ab9162a', 'name': '2000-01-02', 'properties': <Property Weight>} (line 43)\n",
      "warning[None:80:<section>]: missing element <type> within <section> tag{'oid': 'b11d9f6a-629b-4013-bac2-e8e38c6b4351', 'name': '2000-01-03', 'properties': <Property Weight>} (line 80)\n",
      "warning[None:117:<section>]: missing element <type> within <section> tag{'oid': '65164fb0-bd82-4395-b8e5-1930a76e1942', 'name': '2000-01-04', 'properties': <Property Weight>} (line 117)\n",
      "warning[None:154:<section>]: missing element <type> within <section> tag{'oid': '53ad22e5-3cf8-4ac8-a974-13337a52cbcb', 'name': '2000-01-11', 'properties': <Property Weight>} (line 154)\n",
      "warning[None:191:<section>]: missing element <type> within <section> tag{'oid': '9167cd9f-76fd-4e2d-a56a-2766b37f820b', 'name': '2000-01-12', 'properties': <Property Weight>} (line 191)\n",
      "warning[None:228:<section>]: missing element <type> within <section> tag{'oid': '62f517d8-2a41-44d1-ba90-432367dac78d', 'name': '2000-01-13', 'properties': <Property Weight>} (line 228)\n",
      "warning[None:265:<section>]: missing element <type> within <section> tag{'oid': '4a793799-8320-4262-ab0f-7dce388de4ca', 'name': '2000-01-14', 'properties': <Property Weight>} (line 265)\n",
      "warning[None:302:<section>]: missing element <type> within <section> tag{'oid': '6484b247-51de-4157-9e0b-3386c19ce67a', 'name': '2000-01-15', 'properties': <Property Weight>} (line 302)\n",
      "warning[None:339:<section>]: missing element <type> within <section> tag{'oid': '09216cbf-871b-4365-94de-a6d567c8ac48', 'name': '2000-01-16', 'properties': <Property Weight>} (line 339)\n",
      "warning[None:376:<section>]: missing element <type> within <section> tag{'oid': '18ff256b-7db1-4422-952c-404d576402e7', 'name': '2000-01-17', 'properties': <Property Weight>} (line 376)\n",
      "warning[None:413:<section>]: missing element <type> within <section> tag{'oid': '905006c9-aaf0-4a12-8bf6-cd207d4b2387', 'name': '2000-01-18', 'properties': <Property Weight>} (line 413)\n",
      "warning[None:450:<section>]: missing element <type> within <section> tag{'oid': '6db2c182-0380-4ce1-bd81-5112404f8e7c', 'name': '2000-01-19', 'properties': <Property Weight>} (line 450)\n",
      "warning[None:487:<section>]: missing element <type> within <section> tag{'oid': '58fa3c48-9d1c-4ea1-b2bf-5ed5e347b4da', 'name': '2000-01-20', 'properties': <Property Weight>} (line 487)\n",
      "warning[None:6:<section>]: missing element <type> within <section> tag{'oid': 'a6253f23-a543-455c-9afb-da068d94fb12', 'name': '2000-01-05', 'properties': <Property Weight>} (line 6)\n"
     ]
    },
    {
     "name": "stderr",
     "output_type": "stream",
     "text": [
      "warning[None:6:<section>]: missing element <type> within <section> tag{'oid': '6087db04-56f2-441b-a33a-785c7258433a', 'name': '2000-01-01', 'properties': <Property Weight>} (line 6)\n",
      "warning[None:43:<section>]: missing element <type> within <section> tag{'oid': '761a4739-2965-4667-ac06-f6d7458340a9', 'name': '2000-01-02', 'properties': <Property Weight>} (line 43)\n",
      "warning[None:80:<section>]: missing element <type> within <section> tag{'oid': 'c51bc764-28d0-40a5-b9ef-d00c0c5c6a1a', 'name': '2000-01-03', 'properties': <Property Weight>} (line 80)\n",
      "warning[None:117:<section>]: missing element <type> within <section> tag{'oid': 'bd5e0706-07b1-4567-9c1a-68bdab30c140', 'name': '2000-01-04', 'properties': <Property Weight>} (line 117)\n",
      "warning[None:154:<section>]: missing element <type> within <section> tag{'oid': '64057fec-3eae-4716-bca9-845f4b6eba75', 'name': '2000-01-05', 'properties': <Property Weight>} (line 154)\n",
      "warning[None:191:<section>]: missing element <type> within <section> tag{'oid': '3813ccb7-46ad-4016-bd8d-827bc16438ff', 'name': '2000-01-11', 'properties': <Property Weight>} (line 191)\n",
      "warning[None:228:<section>]: missing element <type> within <section> tag{'oid': 'a71262cb-14e0-4f7c-97c7-22eed2d21d92', 'name': '2000-01-12', 'properties': <Property Weight>} (line 228)\n",
      "warning[None:265:<section>]: missing element <type> within <section> tag{'oid': '4024e591-ea05-44f8-bb56-af3da7f78b8b', 'name': '2000-01-13', 'properties': <Property Weight>} (line 265)\n",
      "warning[None:302:<section>]: missing element <type> within <section> tag{'oid': '6f921875-83f5-4ba8-9601-d16a01d538f0', 'name': '2000-01-14', 'properties': <Property Weight>} (line 302)\n",
      "warning[None:339:<section>]: missing element <type> within <section> tag{'oid': '66a51e7f-025b-4247-8be7-88cc8ae6ac69', 'name': '2000-01-15', 'properties': <Property Weight>} (line 339)\n",
      "warning[None:376:<section>]: missing element <type> within <section> tag{'oid': '9f82998e-37f6-4025-9f9e-6cf9b8be8cf7', 'name': '2000-01-16', 'properties': <Property Weight>} (line 376)\n",
      "warning[None:413:<section>]: missing element <type> within <section> tag{'oid': '6f7e4c24-6a0a-4a5e-9ccc-d560b5b32816', 'name': '2000-01-17', 'properties': <Property Weight>} (line 413)\n",
      "warning[None:450:<section>]: missing element <type> within <section> tag{'oid': '8c8a4b56-9f3e-442d-8055-1ad019fa5492', 'name': '2000-01-18', 'properties': <Property Weight>} (line 450)\n",
      "warning[None:487:<section>]: missing element <type> within <section> tag{'oid': 'd50aa03f-6a7a-4dab-a588-9ba59af8205b', 'name': '2000-01-19', 'properties': <Property Weight>} (line 487)\n",
      "warning[None:524:<section>]: missing element <type> within <section> tag{'oid': '411d50b0-e98e-4948-8ffc-fe182be04f8e', 'name': '2000-01-20', 'properties': <Property Weight>} (line 524)\n",
      "warning[None:6:<section>]: missing element <type> within <section> tag{'oid': 'a7a97d48-e0a7-4cf9-b529-994a1dd63c9e', 'name': '2000-01-06', 'properties': <Property Weight>} (line 6)\n",
      "warning[None:6:<section>]: missing element <type> within <section> tag{'oid': 'a44c7f92-161e-4b1f-8f8a-a1d38308f643', 'name': '2000-01-01', 'properties': <Property Weight>} (line 6)\n",
      "warning[None:43:<section>]: missing element <type> within <section> tag{'oid': 'd9fba4bc-56aa-4347-92d7-57568aa155a6', 'name': '2000-01-02', 'properties': <Property Weight>} (line 43)\n",
      "warning[None:80:<section>]: missing element <type> within <section> tag{'oid': 'e40b9a5a-7839-4483-a23b-e2d99f1eebc9', 'name': '2000-01-03', 'properties': <Property Weight>} (line 80)\n",
      "warning[None:117:<section>]: missing element <type> within <section> tag{'oid': 'e4d4613d-a8bc-4443-837d-09e2900aef27', 'name': '2000-01-04', 'properties': <Property Weight>} (line 117)\n",
      "warning[None:154:<section>]: missing element <type> within <section> tag{'oid': 'f90af89d-f89b-4da8-809c-eda3529d2313', 'name': '2000-01-05', 'properties': <Property Weight>} (line 154)\n",
      "warning[None:191:<section>]: missing element <type> within <section> tag{'oid': 'b4cb8237-1435-41ee-9ecc-751c6a84cf77', 'name': '2000-01-06', 'properties': <Property Weight>} (line 191)\n",
      "warning[None:228:<section>]: missing element <type> within <section> tag{'oid': 'a1ad4415-b1a0-4bc8-a347-b8e90f00fed3', 'name': '2000-01-11', 'properties': <Property Weight>} (line 228)\n",
      "warning[None:265:<section>]: missing element <type> within <section> tag{'oid': '70016576-07de-4c72-be38-a2a363719c3b', 'name': '2000-01-12', 'properties': <Property Weight>} (line 265)\n",
      "warning[None:302:<section>]: missing element <type> within <section> tag{'oid': '5337ebf8-cf9a-4d1b-ae6c-a72ff42ee098', 'name': '2000-01-13', 'properties': <Property Weight>} (line 302)\n",
      "warning[None:339:<section>]: missing element <type> within <section> tag{'oid': '9fed974c-a2d0-42d3-96a4-ff9b8cafd04e', 'name': '2000-01-14', 'properties': <Property Weight>} (line 339)\n",
      "warning[None:376:<section>]: missing element <type> within <section> tag{'oid': '841aef45-e8e9-4417-9cd0-a1e3402ba593', 'name': '2000-01-15', 'properties': <Property Weight>} (line 376)\n",
      "warning[None:413:<section>]: missing element <type> within <section> tag{'oid': '79dc4695-41c9-429a-9314-983f36af7f2a', 'name': '2000-01-16', 'properties': <Property Weight>} (line 413)\n",
      "warning[None:450:<section>]: missing element <type> within <section> tag{'oid': 'a6f8e58f-2b67-41f7-9301-54f59277ae37', 'name': '2000-01-17', 'properties': <Property Weight>} (line 450)\n",
      "warning[None:487:<section>]: missing element <type> within <section> tag{'oid': '714a668c-ef00-4d8c-893d-6bd5537d7d66', 'name': '2000-01-18', 'properties': <Property Weight>} (line 487)\n",
      "warning[None:524:<section>]: missing element <type> within <section> tag{'oid': 'a004b6c1-bb73-414c-81d0-d057e865f46c', 'name': '2000-01-19', 'properties': <Property Weight>} (line 524)\n",
      "warning[None:561:<section>]: missing element <type> within <section> tag{'oid': '8eb037fe-5a4f-49e9-9d6c-ec4717e0bc64', 'name': '2000-01-20', 'properties': <Property Weight>} (line 561)\n",
      "warning[None:6:<section>]: missing element <type> within <section> tag{'oid': 'd3ba6ff9-0cf6-430e-b4f2-1c14f9731b03', 'name': '2000-01-07', 'properties': <Property Weight>} (line 6)\n",
      "warning[None:6:<section>]: missing element <type> within <section> tag{'oid': '523a14d5-8ced-45bb-83f3-1fb65ca072e6', 'name': '2000-01-01', 'properties': <Property Weight>} (line 6)\n",
      "warning[None:43:<section>]: missing element <type> within <section> tag{'oid': '70147a5c-db6b-45fe-961f-68993a60e8b5', 'name': '2000-01-02', 'properties': <Property Weight>} (line 43)\n",
      "warning[None:80:<section>]: missing element <type> within <section> tag{'oid': '338fa32b-3951-4c3f-b449-f53522bfe12c', 'name': '2000-01-03', 'properties': <Property Weight>} (line 80)\n",
      "warning[None:117:<section>]: missing element <type> within <section> tag{'oid': '5883d221-da12-41fa-ad35-ed8cb50c9eac', 'name': '2000-01-04', 'properties': <Property Weight>} (line 117)\n",
      "warning[None:154:<section>]: missing element <type> within <section> tag{'oid': 'f0996665-975d-422a-8207-95224f21f865', 'name': '2000-01-05', 'properties': <Property Weight>} (line 154)\n",
      "warning[None:191:<section>]: missing element <type> within <section> tag{'oid': '73b2a018-30b7-4724-804e-6564703c0ce7', 'name': '2000-01-06', 'properties': <Property Weight>} (line 191)\n",
      "warning[None:228:<section>]: missing element <type> within <section> tag{'oid': 'c1858928-fc4e-4a0b-8185-876cf0edcbde', 'name': '2000-01-07', 'properties': <Property Weight>} (line 228)\n",
      "warning[None:265:<section>]: missing element <type> within <section> tag{'oid': '3348633d-fa5f-4559-963d-4fd58ccfaa65', 'name': '2000-01-11', 'properties': <Property Weight>} (line 265)\n",
      "warning[None:302:<section>]: missing element <type> within <section> tag{'oid': 'a92403ed-4c5f-4084-81ef-0ba615abcceb', 'name': '2000-01-12', 'properties': <Property Weight>} (line 302)\n",
      "warning[None:339:<section>]: missing element <type> within <section> tag{'oid': '3aebf261-d1f7-4e50-8c98-17b28d2b7281', 'name': '2000-01-13', 'properties': <Property Weight>} (line 339)\n",
      "warning[None:376:<section>]: missing element <type> within <section> tag{'oid': '705e8a08-54a3-47a3-a609-a47e42c11dfd', 'name': '2000-01-14', 'properties': <Property Weight>} (line 376)\n",
      "warning[None:413:<section>]: missing element <type> within <section> tag{'oid': 'e6a3632a-cb6e-440d-b25b-182fd82a0a8e', 'name': '2000-01-15', 'properties': <Property Weight>} (line 413)\n",
      "warning[None:450:<section>]: missing element <type> within <section> tag{'oid': '65707be0-a2f4-4977-aa12-71034b1adb80', 'name': '2000-01-16', 'properties': <Property Weight>} (line 450)\n",
      "warning[None:487:<section>]: missing element <type> within <section> tag{'oid': 'c72f7ed2-8d26-40f6-a262-da5c70cbae75', 'name': '2000-01-17', 'properties': <Property Weight>} (line 487)\n",
      "warning[None:524:<section>]: missing element <type> within <section> tag{'oid': '26304081-68e1-4cf0-9341-7f501826f60e', 'name': '2000-01-18', 'properties': <Property Weight>} (line 524)\n",
      "warning[None:561:<section>]: missing element <type> within <section> tag{'oid': '3e382b58-8cca-48bb-94e4-f763783a8f15', 'name': '2000-01-19', 'properties': <Property Weight>} (line 561)\n",
      "warning[None:598:<section>]: missing element <type> within <section> tag{'oid': '2c0e26f3-28c2-4bdb-964f-1db6c053030c', 'name': '2000-01-20', 'properties': <Property Weight>} (line 598)\n",
      "warning[None:6:<section>]: missing element <type> within <section> tag{'oid': 'aec668da-c9e1-4955-8781-b53bef22eca0', 'name': '2000-01-08', 'properties': <Property Weight>} (line 6)\n"
     ]
    },
    {
     "name": "stderr",
     "output_type": "stream",
     "text": [
      "warning[None:6:<section>]: missing element <type> within <section> tag{'oid': '1a886dd2-a229-47c8-ba28-17dc6b817d80', 'name': '2000-01-01', 'properties': <Property Weight>} (line 6)\n",
      "warning[None:43:<section>]: missing element <type> within <section> tag{'oid': 'f1c07801-0ec9-45d7-8043-5273e0b90704', 'name': '2000-01-02', 'properties': <Property Weight>} (line 43)\n",
      "warning[None:80:<section>]: missing element <type> within <section> tag{'oid': 'bc673827-389e-485f-942f-042a7d70ca94', 'name': '2000-01-03', 'properties': <Property Weight>} (line 80)\n",
      "warning[None:117:<section>]: missing element <type> within <section> tag{'oid': '86838e14-ec9b-4761-bcf8-f4f7245825e3', 'name': '2000-01-04', 'properties': <Property Weight>} (line 117)\n",
      "warning[None:154:<section>]: missing element <type> within <section> tag{'oid': 'f657d0f1-8796-4fd6-98b7-305a2d1d1b06', 'name': '2000-01-05', 'properties': <Property Weight>} (line 154)\n",
      "warning[None:191:<section>]: missing element <type> within <section> tag{'oid': '5a7932c9-0977-4427-be0f-0f423d4b44ca', 'name': '2000-01-06', 'properties': <Property Weight>} (line 191)\n",
      "warning[None:228:<section>]: missing element <type> within <section> tag{'oid': '29ce1e32-7471-4ccf-a01c-4da9677df469', 'name': '2000-01-07', 'properties': <Property Weight>} (line 228)\n",
      "warning[None:265:<section>]: missing element <type> within <section> tag{'oid': 'f34bc86f-ab65-437c-a18d-e69700f3f945', 'name': '2000-01-08', 'properties': <Property Weight>} (line 265)\n",
      "warning[None:302:<section>]: missing element <type> within <section> tag{'oid': 'cfc215b1-890f-4559-981d-7a491bf89efc', 'name': '2000-01-11', 'properties': <Property Weight>} (line 302)\n",
      "warning[None:339:<section>]: missing element <type> within <section> tag{'oid': '75cac863-d225-4c5b-af99-4d87b8ccf01f', 'name': '2000-01-12', 'properties': <Property Weight>} (line 339)\n",
      "warning[None:376:<section>]: missing element <type> within <section> tag{'oid': '81f74686-a6ae-4862-8cd7-c3a083e7f056', 'name': '2000-01-13', 'properties': <Property Weight>} (line 376)\n",
      "warning[None:413:<section>]: missing element <type> within <section> tag{'oid': 'fd16b690-170f-400c-a965-140f87bb3284', 'name': '2000-01-14', 'properties': <Property Weight>} (line 413)\n",
      "warning[None:450:<section>]: missing element <type> within <section> tag{'oid': '917cce0f-d4af-48b4-9c73-197a40ffa274', 'name': '2000-01-15', 'properties': <Property Weight>} (line 450)\n",
      "warning[None:487:<section>]: missing element <type> within <section> tag{'oid': 'a4edd8f1-ea92-4662-a5b0-c39aa44b7f34', 'name': '2000-01-16', 'properties': <Property Weight>} (line 487)\n",
      "warning[None:524:<section>]: missing element <type> within <section> tag{'oid': '44ccd75b-117b-46ca-ac09-e46b6d326e72', 'name': '2000-01-17', 'properties': <Property Weight>} (line 524)\n",
      "warning[None:561:<section>]: missing element <type> within <section> tag{'oid': '3a7117df-b442-4e5a-a071-d7b146634c51', 'name': '2000-01-18', 'properties': <Property Weight>} (line 561)\n",
      "warning[None:598:<section>]: missing element <type> within <section> tag{'oid': '5e9e024a-2901-41ce-ab35-f4e27f473bc1', 'name': '2000-01-19', 'properties': <Property Weight>} (line 598)\n",
      "warning[None:635:<section>]: missing element <type> within <section> tag{'oid': '9414f719-7e03-4970-a26b-224ca7f60a46', 'name': '2000-01-20', 'properties': <Property Weight>} (line 635)\n",
      "warning[None:6:<section>]: missing element <type> within <section> tag{'oid': 'c344c977-f3ce-4194-894c-93a6819127fb', 'name': '2000-01-09', 'properties': <Property Weight>} (line 6)\n",
      "warning[None:6:<section>]: missing element <type> within <section> tag{'oid': '79bd806d-a55e-4a58-a13c-f7aa75c56d41', 'name': '2000-01-01', 'properties': <Property Weight>} (line 6)\n",
      "warning[None:43:<section>]: missing element <type> within <section> tag{'oid': '88cad549-8e6d-4a40-8c9c-d7e517b18359', 'name': '2000-01-02', 'properties': <Property Weight>} (line 43)\n",
      "warning[None:80:<section>]: missing element <type> within <section> tag{'oid': '8a6b9832-784e-4c3d-94c3-f68d3b4cad96', 'name': '2000-01-03', 'properties': <Property Weight>} (line 80)\n",
      "warning[None:117:<section>]: missing element <type> within <section> tag{'oid': '7358fad2-035d-4382-81c5-00b05c8ef153', 'name': '2000-01-04', 'properties': <Property Weight>} (line 117)\n",
      "warning[None:154:<section>]: missing element <type> within <section> tag{'oid': '39ce8cf7-f671-46ba-ad7c-c2fe2e7b6ad6', 'name': '2000-01-05', 'properties': <Property Weight>} (line 154)\n",
      "warning[None:191:<section>]: missing element <type> within <section> tag{'oid': '7546cafe-7573-4391-bb26-8004a6d24241', 'name': '2000-01-06', 'properties': <Property Weight>} (line 191)\n",
      "warning[None:228:<section>]: missing element <type> within <section> tag{'oid': 'deb4c24f-47bd-4a57-a4ad-a40ab6b2edc7', 'name': '2000-01-07', 'properties': <Property Weight>} (line 228)\n",
      "warning[None:265:<section>]: missing element <type> within <section> tag{'oid': 'e6b4c57d-0534-41ce-9230-928123524fdf', 'name': '2000-01-08', 'properties': <Property Weight>} (line 265)\n",
      "warning[None:302:<section>]: missing element <type> within <section> tag{'oid': 'b6489387-75a6-41d7-903a-2f95633a2fa1', 'name': '2000-01-09', 'properties': <Property Weight>} (line 302)\n",
      "warning[None:339:<section>]: missing element <type> within <section> tag{'oid': '200b60d2-87dd-457d-88c2-926f6f7a4657', 'name': '2000-01-11', 'properties': <Property Weight>} (line 339)\n",
      "warning[None:376:<section>]: missing element <type> within <section> tag{'oid': '46581fa5-8367-4c32-88c4-f685626e1415', 'name': '2000-01-12', 'properties': <Property Weight>} (line 376)\n",
      "warning[None:413:<section>]: missing element <type> within <section> tag{'oid': 'a7eb5d57-1e9d-41d3-832d-04e445a4f79e', 'name': '2000-01-13', 'properties': <Property Weight>} (line 413)\n",
      "warning[None:450:<section>]: missing element <type> within <section> tag{'oid': 'f591385d-1add-486b-86d9-0a0402192456', 'name': '2000-01-14', 'properties': <Property Weight>} (line 450)\n",
      "warning[None:487:<section>]: missing element <type> within <section> tag{'oid': 'e96bedf9-f4f2-4f22-b38e-51abfcdc21ee', 'name': '2000-01-15', 'properties': <Property Weight>} (line 487)\n",
      "warning[None:524:<section>]: missing element <type> within <section> tag{'oid': '92528e81-7eb1-4687-a600-58520ce4a0d9', 'name': '2000-01-16', 'properties': <Property Weight>} (line 524)\n",
      "warning[None:561:<section>]: missing element <type> within <section> tag{'oid': '302a6708-a6f4-4f56-950d-d3ee6cc68c70', 'name': '2000-01-17', 'properties': <Property Weight>} (line 561)\n",
      "warning[None:598:<section>]: missing element <type> within <section> tag{'oid': '99ce4dfb-3e00-47bc-b5e8-3e24321b9fef', 'name': '2000-01-18', 'properties': <Property Weight>} (line 598)\n",
      "warning[None:635:<section>]: missing element <type> within <section> tag{'oid': '4ed36d97-1146-4d47-8932-7311e5799ff9', 'name': '2000-01-19', 'properties': <Property Weight>} (line 635)\n",
      "warning[None:672:<section>]: missing element <type> within <section> tag{'oid': 'ec81cae7-2e30-4b41-800b-f02422aab041', 'name': '2000-01-20', 'properties': <Property Weight>} (line 672)\n",
      "warning[None:6:<section>]: missing element <type> within <section> tag{'oid': 'f58318a5-8d90-4801-90be-1501c5a9b154', 'name': '2000-01-10', 'properties': <Property Weight>} (line 6)\n",
      "warning[None:6:<section>]: missing element <type> within <section> tag{'oid': '92dd4830-bdfc-47e5-8754-5591c8fa6eca', 'name': '2000-01-01', 'properties': <Property Weight>} (line 6)\n",
      "warning[None:43:<section>]: missing element <type> within <section> tag{'oid': '54620e87-85b4-4236-a2be-da8c289d7afd', 'name': '2000-01-02', 'properties': <Property Weight>} (line 43)\n",
      "warning[None:80:<section>]: missing element <type> within <section> tag{'oid': 'a359edf0-6fdd-4a8c-a05b-f9d0eff82b89', 'name': '2000-01-03', 'properties': <Property Weight>} (line 80)\n",
      "warning[None:117:<section>]: missing element <type> within <section> tag{'oid': '055ffb7c-9958-45d5-a705-2fbda41bfd92', 'name': '2000-01-04', 'properties': <Property Weight>} (line 117)\n",
      "warning[None:154:<section>]: missing element <type> within <section> tag{'oid': '75908e4e-a0da-495b-9579-6476c24cd82f', 'name': '2000-01-05', 'properties': <Property Weight>} (line 154)\n",
      "warning[None:191:<section>]: missing element <type> within <section> tag{'oid': 'd8f6e6b7-facb-448e-b42f-870da3148ee2', 'name': '2000-01-06', 'properties': <Property Weight>} (line 191)\n",
      "warning[None:228:<section>]: missing element <type> within <section> tag{'oid': '67be3f67-f8c9-4f9b-9d89-77e30e0b438d', 'name': '2000-01-07', 'properties': <Property Weight>} (line 228)\n",
      "warning[None:265:<section>]: missing element <type> within <section> tag{'oid': '45497a6b-4da4-4cac-84d7-b70aa225b27f', 'name': '2000-01-08', 'properties': <Property Weight>} (line 265)\n",
      "warning[None:302:<section>]: missing element <type> within <section> tag{'oid': '7efc1e4f-ef69-459a-802d-53b61ba65b79', 'name': '2000-01-09', 'properties': <Property Weight>} (line 302)\n",
      "warning[None:339:<section>]: missing element <type> within <section> tag{'oid': '57ac60e0-7685-471f-871c-4f32a3f27f31', 'name': '2000-01-10', 'properties': <Property Weight>} (line 339)\n",
      "warning[None:376:<section>]: missing element <type> within <section> tag{'oid': 'cc9bb8cd-5635-46ad-a2f8-d0c8a7c0e7fd', 'name': '2000-01-11', 'properties': <Property Weight>} (line 376)\n",
      "warning[None:413:<section>]: missing element <type> within <section> tag{'oid': 'f070b327-fe30-4841-ae65-cf849da68c93', 'name': '2000-01-12', 'properties': <Property Weight>} (line 413)\n",
      "warning[None:450:<section>]: missing element <type> within <section> tag{'oid': '1a5f296b-00f4-458d-acbb-e6ed9ba02127', 'name': '2000-01-13', 'properties': <Property Weight>} (line 450)\n",
      "warning[None:487:<section>]: missing element <type> within <section> tag{'oid': '8dc6fd7c-309a-4d66-a904-a9eaa406bced', 'name': '2000-01-14', 'properties': <Property Weight>} (line 487)\n",
      "warning[None:524:<section>]: missing element <type> within <section> tag{'oid': '31dbcff7-eb1e-47e2-b4dc-39b71fcf1031', 'name': '2000-01-15', 'properties': <Property Weight>} (line 524)\n",
      "warning[None:561:<section>]: missing element <type> within <section> tag{'oid': '6d0b17c1-ef17-47d6-a242-11ae6fda08b1', 'name': '2000-01-16', 'properties': <Property Weight>} (line 561)\n",
      "warning[None:598:<section>]: missing element <type> within <section> tag{'oid': '84bcf334-256a-47bd-93f6-536a87f76465', 'name': '2000-01-17', 'properties': <Property Weight>} (line 598)\n",
      "warning[None:635:<section>]: missing element <type> within <section> tag{'oid': 'f48ee83a-8aec-4622-a520-f99faec4b7d9', 'name': '2000-01-18', 'properties': <Property Weight>} (line 635)\n",
      "warning[None:672:<section>]: missing element <type> within <section> tag{'oid': '4bccca58-c50a-4b34-b820-01d130d27d00', 'name': '2000-01-19', 'properties': <Property Weight>} (line 672)\n",
      "warning[None:709:<section>]: missing element <type> within <section> tag{'oid': '792f3016-c436-4f92-be91-55d41024f846', 'name': '2000-01-20', 'properties': <Property Weight>} (line 709)\n",
      "warning[None:6:<section>]: missing element <type> within <section> tag{'oid': '92dd4830-bdfc-47e5-8754-5591c8fa6eca', 'name': '2000-01-01', 'properties': <Property Weight>} (line 6)\n",
      "warning[None:43:<section>]: missing element <type> within <section> tag{'oid': '54620e87-85b4-4236-a2be-da8c289d7afd', 'name': '2000-01-02', 'properties': <Property Weight>} (line 43)\n",
      "warning[None:80:<section>]: missing element <type> within <section> tag{'oid': 'a359edf0-6fdd-4a8c-a05b-f9d0eff82b89', 'name': '2000-01-03', 'properties': <Property Weight>} (line 80)\n",
      "warning[None:117:<section>]: missing element <type> within <section> tag{'oid': '055ffb7c-9958-45d5-a705-2fbda41bfd92', 'name': '2000-01-04', 'properties': <Property Weight>} (line 117)\n",
      "warning[None:154:<section>]: missing element <type> within <section> tag{'oid': '75908e4e-a0da-495b-9579-6476c24cd82f', 'name': '2000-01-05', 'properties': <Property Weight>} (line 154)\n",
      "warning[None:191:<section>]: missing element <type> within <section> tag{'oid': 'd8f6e6b7-facb-448e-b42f-870da3148ee2', 'name': '2000-01-06', 'properties': <Property Weight>} (line 191)\n",
      "warning[None:228:<section>]: missing element <type> within <section> tag{'oid': '67be3f67-f8c9-4f9b-9d89-77e30e0b438d', 'name': '2000-01-07', 'properties': <Property Weight>} (line 228)\n",
      "warning[None:265:<section>]: missing element <type> within <section> tag{'oid': '45497a6b-4da4-4cac-84d7-b70aa225b27f', 'name': '2000-01-08', 'properties': <Property Weight>} (line 265)\n",
      "warning[None:302:<section>]: missing element <type> within <section> tag{'oid': '7efc1e4f-ef69-459a-802d-53b61ba65b79', 'name': '2000-01-09', 'properties': <Property Weight>} (line 302)\n",
      "warning[None:339:<section>]: missing element <type> within <section> tag{'oid': '57ac60e0-7685-471f-871c-4f32a3f27f31', 'name': '2000-01-10', 'properties': <Property Weight>} (line 339)\n",
      "warning[None:376:<section>]: missing element <type> within <section> tag{'oid': 'cc9bb8cd-5635-46ad-a2f8-d0c8a7c0e7fd', 'name': '2000-01-11', 'properties': <Property Weight>} (line 376)\n",
      "warning[None:413:<section>]: missing element <type> within <section> tag{'oid': 'f070b327-fe30-4841-ae65-cf849da68c93', 'name': '2000-01-12', 'properties': <Property Weight>} (line 413)\n",
      "warning[None:450:<section>]: missing element <type> within <section> tag{'oid': '1a5f296b-00f4-458d-acbb-e6ed9ba02127', 'name': '2000-01-13', 'properties': <Property Weight>} (line 450)\n",
      "warning[None:487:<section>]: missing element <type> within <section> tag{'oid': '8dc6fd7c-309a-4d66-a904-a9eaa406bced', 'name': '2000-01-14', 'properties': <Property Weight>} (line 487)\n",
      "warning[None:524:<section>]: missing element <type> within <section> tag{'oid': '31dbcff7-eb1e-47e2-b4dc-39b71fcf1031', 'name': '2000-01-15', 'properties': <Property Weight>} (line 524)\n",
      "warning[None:561:<section>]: missing element <type> within <section> tag{'oid': '6d0b17c1-ef17-47d6-a242-11ae6fda08b1', 'name': '2000-01-16', 'properties': <Property Weight>} (line 561)\n",
      "warning[None:598:<section>]: missing element <type> within <section> tag{'oid': '84bcf334-256a-47bd-93f6-536a87f76465', 'name': '2000-01-17', 'properties': <Property Weight>} (line 598)\n",
      "warning[None:635:<section>]: missing element <type> within <section> tag{'oid': 'f48ee83a-8aec-4622-a520-f99faec4b7d9', 'name': '2000-01-18', 'properties': <Property Weight>} (line 635)\n",
      "warning[None:672:<section>]: missing element <type> within <section> tag{'oid': '4bccca58-c50a-4b34-b820-01d130d27d00', 'name': '2000-01-19', 'properties': <Property Weight>} (line 672)\n",
      "warning[None:709:<section>]: missing element <type> within <section> tag{'oid': '792f3016-c436-4f92-be91-55d41024f846', 'name': '2000-01-20', 'properties': <Property Weight>} (line 709)\n",
      "warning[None:6:<section>]: missing element <type> within <section> tag{'oid': '92dd4830-bdfc-47e5-8754-5591c8fa6eca', 'name': '2000-01-01', 'properties': <Property Weight>} (line 6)\n",
      "warning[None:43:<section>]: missing element <type> within <section> tag{'oid': '54620e87-85b4-4236-a2be-da8c289d7afd', 'name': '2000-01-02', 'properties': <Property Weight>} (line 43)\n",
      "warning[None:80:<section>]: missing element <type> within <section> tag{'oid': 'a359edf0-6fdd-4a8c-a05b-f9d0eff82b89', 'name': '2000-01-03', 'properties': <Property Weight>} (line 80)\n",
      "warning[None:117:<section>]: missing element <type> within <section> tag{'oid': '055ffb7c-9958-45d5-a705-2fbda41bfd92', 'name': '2000-01-04', 'properties': <Property Weight>} (line 117)\n",
      "warning[None:154:<section>]: missing element <type> within <section> tag{'oid': '75908e4e-a0da-495b-9579-6476c24cd82f', 'name': '2000-01-05', 'properties': <Property Weight>} (line 154)\n",
      "warning[None:191:<section>]: missing element <type> within <section> tag{'oid': 'd8f6e6b7-facb-448e-b42f-870da3148ee2', 'name': '2000-01-06', 'properties': <Property Weight>} (line 191)\n",
      "warning[None:228:<section>]: missing element <type> within <section> tag{'oid': '67be3f67-f8c9-4f9b-9d89-77e30e0b438d', 'name': '2000-01-07', 'properties': <Property Weight>} (line 228)\n",
      "warning[None:265:<section>]: missing element <type> within <section> tag{'oid': '45497a6b-4da4-4cac-84d7-b70aa225b27f', 'name': '2000-01-08', 'properties': <Property Weight>} (line 265)\n",
      "warning[None:302:<section>]: missing element <type> within <section> tag{'oid': '7efc1e4f-ef69-459a-802d-53b61ba65b79', 'name': '2000-01-09', 'properties': <Property Weight>} (line 302)\n",
      "warning[None:339:<section>]: missing element <type> within <section> tag{'oid': '57ac60e0-7685-471f-871c-4f32a3f27f31', 'name': '2000-01-10', 'properties': <Property Weight>} (line 339)\n",
      "warning[None:376:<section>]: missing element <type> within <section> tag{'oid': 'cc9bb8cd-5635-46ad-a2f8-d0c8a7c0e7fd', 'name': '2000-01-11', 'properties': <Property Weight>} (line 376)\n",
      "warning[None:413:<section>]: missing element <type> within <section> tag{'oid': 'f070b327-fe30-4841-ae65-cf849da68c93', 'name': '2000-01-12', 'properties': <Property Weight>} (line 413)\n",
      "warning[None:450:<section>]: missing element <type> within <section> tag{'oid': '1a5f296b-00f4-458d-acbb-e6ed9ba02127', 'name': '2000-01-13', 'properties': <Property Weight>} (line 450)\n",
      "warning[None:487:<section>]: missing element <type> within <section> tag{'oid': '8dc6fd7c-309a-4d66-a904-a9eaa406bced', 'name': '2000-01-14', 'properties': <Property Weight>} (line 487)\n",
      "warning[None:524:<section>]: missing element <type> within <section> tag{'oid': '31dbcff7-eb1e-47e2-b4dc-39b71fcf1031', 'name': '2000-01-15', 'properties': <Property Weight>} (line 524)\n",
      "warning[None:561:<section>]: missing element <type> within <section> tag{'oid': '6d0b17c1-ef17-47d6-a242-11ae6fda08b1', 'name': '2000-01-16', 'properties': <Property Weight>} (line 561)\n",
      "warning[None:598:<section>]: missing element <type> within <section> tag{'oid': '84bcf334-256a-47bd-93f6-536a87f76465', 'name': '2000-01-17', 'properties': <Property Weight>} (line 598)\n",
      "warning[None:635:<section>]: missing element <type> within <section> tag{'oid': 'f48ee83a-8aec-4622-a520-f99faec4b7d9', 'name': '2000-01-18', 'properties': <Property Weight>} (line 635)\n",
      "warning[None:672:<section>]: missing element <type> within <section> tag{'oid': '4bccca58-c50a-4b34-b820-01d130d27d00', 'name': '2000-01-19', 'properties': <Property Weight>} (line 672)\n",
      "warning[None:709:<section>]: missing element <type> within <section> tag{'oid': '792f3016-c436-4f92-be91-55d41024f846', 'name': '2000-01-20', 'properties': <Property Weight>} (line 709)\n"
     ]
    },
    {
     "data": {
      "text/plain": [
       "<os._wrap_close at 0x7f489afe7c50>"
      ]
     },
     "execution_count": 14,
     "metadata": {},
     "output_type": "execute_result"
    }
   ],
   "source": [
    "# metadata workflow based on previously generated collection of csv files\n",
    "import glob\n",
    "def process_all_metadata(folder):\n",
    "    \"\"\" Find daily score sheets, merge them into complete metadata collection and generate visualizations. \"\"\"\n",
    "    # extract all metadata files present in this folder\n",
    "    source_files = sorted(glob.glob(folder + '/score_sheet_day*.csv'))\n",
    "    if not source_files:\n",
    "        return None\n",
    "    \n",
    "    # converting first source file to add other files to\n",
    "    score_sheet_to_odml(source_files[0])\n",
    "    os.rename(source_files[0][:-4] + '.odml', folder + '/score_sheet_complete.odml')\n",
    "    \n",
    "    # converting all other source files\n",
    "    for source_file in source_files[1:]:\n",
    "        score_sheet_to_odml(source_file)\n",
    "        merge_score_sheets(folder + '/score_sheet_complete.odml',\n",
    "                           source_file[:-4] + '.odml')\n",
    "        \n",
    "    # create visualization and comparison tables\n",
    "    visualize_as_xls(folder + '/score_sheet_complete.odml')\n",
    "    generate_overview(folder + '/score_sheet_complete.odml')\n",
    "    \n",
    "# run complete metadata workflow from score sheet detection to visualization generation\n",
    "process_all_metadata('./complete_workflow')\n",
    "\n",
    "# copying style sheet for visualization in browser\n",
    "os.popen('cp odml.xsl ./complete_workflow/odml.xsl')"
   ]
  },
  {
   "cell_type": "markdown",
   "metadata": {},
   "source": [
    "This generates in addition to the dummy score sheet in the subfolder `complete_workflow` a complete metadata collection in a single odML file as well as two `xls` files for visualization of the odML structure and an overview across all common properties within the complete metadata collection."
   ]
  }
 ],
 "metadata": {
  "kernelspec": {
   "display_name": "Python 3",
   "language": "python",
   "name": "python3"
  },
  "language_info": {
   "codemirror_mode": {
    "name": "ipython",
    "version": 3
   },
   "file_extension": ".py",
   "mimetype": "text/x-python",
   "name": "python",
   "nbconvert_exporter": "python",
   "pygments_lexer": "ipython3",
   "version": "3.6.5"
  }
 },
 "nbformat": 4,
 "nbformat_minor": 2
}
